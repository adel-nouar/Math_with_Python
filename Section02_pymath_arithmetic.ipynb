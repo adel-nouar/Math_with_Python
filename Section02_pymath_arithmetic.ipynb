{
 "cells": [
  {
   "cell_type": "markdown",
   "metadata": {
    "colab_type": "text",
    "id": "view-in-github"
   },
   "source": [
    "<a href=\"https://colab.research.google.com/github/adel-nouar/Math_with_Python/blob/main/Section02_pymath_arithmetic.ipynb\" target=\"_parent\"><img src=\"https://colab.research.google.com/assets/colab-badge.svg\" alt=\"Open In Colab\"/></a>"
   ]
  },
  {
   "cell_type": "markdown",
   "metadata": {
    "id": "eLqP4-P1hucU"
   },
   "source": [
    "# COURSE: Master math by coding in Python\n",
    "## SECTION: Arithmetic\n",
    "\n",
    "#### https://www.udemy.com/course/math-with-python/?couponCode=MXC-DISC4ALL\n",
    "#### INSTRUCTOR: sincxpress.com\n",
    "\n",
    "Note about this code: Each video in this section of the course corresponds to a section of code below. Please note that this code roughly matches the code shown in the live recording, but is not exactly the same -- the variable names, order of lines, and parameters may be slightly different. "
   ]
  },
  {
   "cell_type": "code",
   "execution_count": null,
   "metadata": {
    "id": "VseYzolLhucZ"
   },
   "outputs": [],
   "source": []
  },
  {
   "cell_type": "markdown",
   "metadata": {
    "id": "ziL1zy6uhuca"
   },
   "source": [
    "# VIDEO: Addition, subtraction, multiplication, division"
   ]
  },
  {
   "cell_type": "markdown",
   "metadata": {
    "id": "4_LiJ_Nahucb"
   },
   "source": [
    "#### Addition"
   ]
  },
  {
   "cell_type": "code",
   "execution_count": 1,
   "metadata": {
    "colab": {
     "base_uri": "https://localhost:8080/"
    },
    "id": "Xa3xdQNzhucb",
    "outputId": "12b8cebf-eed7-4a5d-e4a0-94d9dd34e47b"
   },
   "outputs": [
    {
     "data": {
      "text/plain": [
       "9"
      ]
     },
     "execution_count": 1,
     "metadata": {},
     "output_type": "execute_result"
    }
   ],
   "source": [
    "# use Python like a calculator\n",
    "4+5 # press Ctrl-Enter to find the answer!"
   ]
  },
  {
   "cell_type": "code",
   "execution_count": 2,
   "metadata": {
    "colab": {
     "base_uri": "https://localhost:8080/"
    },
    "id": "4qb1wm1khucc",
    "outputId": "838678e2-9341-4534-e572-02ee48c84290"
   },
   "outputs": [
    {
     "data": {
      "text/plain": [
       "14.15"
      ]
     },
     "execution_count": 2,
     "metadata": {},
     "output_type": "execute_result"
    }
   ],
   "source": [
    "# can use multiple numbers at the same time:\n",
    "4 + 3/4 + 9.4"
   ]
  },
  {
   "cell_type": "markdown",
   "metadata": {
    "id": "nygvfoSihucd"
   },
   "source": [
    "#### Subtraction"
   ]
  },
  {
   "cell_type": "code",
   "execution_count": 3,
   "metadata": {
    "colab": {
     "base_uri": "https://localhost:8080/"
    },
    "id": "UrhBcnTzhucd",
    "outputId": "6acbae27-efde-49ee-e15c-9df87d6677ce"
   },
   "outputs": [
    {
     "data": {
      "text/plain": [
       "0"
      ]
     },
     "execution_count": 3,
     "metadata": {},
     "output_type": "execute_result"
    }
   ],
   "source": [
    "# exactly how you'd think it should work!\n",
    "4 - 3 - 1"
   ]
  },
  {
   "cell_type": "markdown",
   "metadata": {
    "id": "y-FwVXwXhuce"
   },
   "source": [
    "#### Multiplication"
   ]
  },
  {
   "cell_type": "code",
   "execution_count": 4,
   "metadata": {
    "colab": {
     "base_uri": "https://localhost:8080/"
    },
    "id": "I-j3ed_Zhucf",
    "outputId": "0608652b-4e1c-47f3-ea96-096503f72f3f"
   },
   "outputs": [
    {
     "data": {
      "text/plain": [
       "12"
      ]
     },
     "execution_count": 4,
     "metadata": {},
     "output_type": "execute_result"
    }
   ],
   "source": [
    "# Use * to indicate multiplication (not x!)\n",
    "3*4 "
   ]
  },
  {
   "cell_type": "code",
   "execution_count": 5,
   "metadata": {
    "colab": {
     "base_uri": "https://localhost:8080/"
    },
    "id": "Zu_553INhucf",
    "outputId": "5ddf0472-f156-49b9-e784-7e3793d16373",
    "scrolled": true
   },
   "outputs": [
    {
     "data": {
      "text/plain": [
       "6"
      ]
     },
     "execution_count": 5,
     "metadata": {},
     "output_type": "execute_result"
    }
   ],
   "source": [
    "# can mix operations\n",
    "3*4 - 3*2"
   ]
  },
  {
   "cell_type": "markdown",
   "metadata": {
    "id": "VAiusQT2hucg"
   },
   "source": [
    "#### Division"
   ]
  },
  {
   "cell_type": "code",
   "execution_count": 6,
   "metadata": {
    "colab": {
     "base_uri": "https://localhost:8080/"
    },
    "id": "DHz7tABMhucg",
    "outputId": "d508a58b-32e4-4598-e77f-0a0dcc6fb4f4"
   },
   "outputs": [
    {
     "data": {
      "text/plain": [
       "0.75"
      ]
     },
     "execution_count": 6,
     "metadata": {},
     "output_type": "execute_result"
    }
   ],
   "source": [
    "# use /\n",
    "3/4"
   ]
  },
  {
   "cell_type": "code",
   "execution_count": 8,
   "metadata": {
    "colab": {
     "base_uri": "https://localhost:8080/",
     "height": 131
    },
    "id": "WOdIy2-4huch",
    "outputId": "b95e251b-a320-4d0e-9fa6-a6de8ea6e0ed"
   },
   "outputs": [
    {
     "ename": "SyntaxError",
     "evalue": "ignored",
     "output_type": "error",
     "traceback": [
      "\u001b[0;36m  File \u001b[0;32m\"<ipython-input-8-98e174cbfd99>\"\u001b[0;36m, line \u001b[0;32m2\u001b[0m\n\u001b[0;31m    3\\4\u001b[0m\n\u001b[0m       ^\u001b[0m\n\u001b[0;31mSyntaxError\u001b[0m\u001b[0;31m:\u001b[0m unexpected character after line continuation character\n"
     ]
    }
   ],
   "source": [
    "# error! Always use the forward slash\n",
    "3\\4"
   ]
  },
  {
   "cell_type": "code",
   "execution_count": 9,
   "metadata": {
    "colab": {
     "base_uri": "https://localhost:8080/"
    },
    "id": "IuUhjaheiuKL",
    "outputId": "03d18750-8480-484a-e1ca-6aa3c4fea67b"
   },
   "outputs": [
    {
     "data": {
      "text/plain": [
       "1.0"
      ]
     },
     "execution_count": 9,
     "metadata": {},
     "output_type": "execute_result"
    }
   ],
   "source": [
    "(1 + 3) / 4"
   ]
  },
  {
   "cell_type": "markdown",
   "metadata": {
    "id": "vr3Rylvfhuch"
   },
   "source": [
    "### Exercises!"
   ]
  },
  {
   "cell_type": "code",
   "execution_count": 14,
   "metadata": {
    "colab": {
     "base_uri": "https://localhost:8080/"
    },
    "id": "dwlqiwwohuch",
    "outputId": "541c770a-e35c-4181-a019-95b1faa219ee"
   },
   "outputs": [
    {
     "data": {
      "text/plain": [
       "4.7"
      ]
     },
     "execution_count": 14,
     "metadata": {},
     "output_type": "execute_result"
    }
   ],
   "source": [
    "#1) 5 - 2/4 x 3/5 = 4.7\n",
    "# 5 - 2/4 * 3/5  # Solution without parenthesis\n",
    "5 - (2/4) * (3/5) # It's better to use parenthesis for clarity "
   ]
  },
  {
   "cell_type": "code",
   "execution_count": 16,
   "metadata": {
    "colab": {
     "base_uri": "https://localhost:8080/"
    },
    "id": "d0M52Xjxhuci",
    "outputId": "1e453020-0666-4609-b0b9-f64226987273"
   },
   "outputs": [
    {
     "data": {
      "text/plain": [
       "-0.030303030303030304"
      ]
     },
     "execution_count": 16,
     "metadata": {},
     "output_type": "execute_result"
    }
   ],
   "source": [
    "#2) (4-5) / (3 + 5 x 6) = -0.303 (almost equal)\n",
    "(4 - 5) / (3 + (5 * 6))"
   ]
  },
  {
   "cell_type": "markdown",
   "metadata": {
    "id": "FaibVf9Hhuci"
   },
   "source": [
    "# VIDEO: Using variables in place of numbers"
   ]
  },
  {
   "cell_type": "code",
   "execution_count": 19,
   "metadata": {
    "id": "39RlntMchuci"
   },
   "outputs": [],
   "source": [
    "x = 7"
   ]
  },
  {
   "cell_type": "code",
   "execution_count": 20,
   "metadata": {
    "colab": {
     "base_uri": "https://localhost:8080/"
    },
    "id": "-ynA6a_bhucj",
    "outputId": "63c2f84b-939f-4310-9aed-64c835a4a458"
   },
   "outputs": [
    {
     "data": {
      "text/plain": [
       "5"
      ]
     },
     "execution_count": 20,
     "metadata": {},
     "output_type": "execute_result"
    }
   ],
   "source": [
    "x - 2"
   ]
  },
  {
   "cell_type": "code",
   "execution_count": 21,
   "metadata": {
    "id": "21s7mEYQhucj"
   },
   "outputs": [],
   "source": [
    "x = 10"
   ]
  },
  {
   "cell_type": "code",
   "execution_count": 23,
   "metadata": {
    "colab": {
     "base_uri": "https://localhost:8080/"
    },
    "id": "2PQeq3h1hucj",
    "outputId": "2cef401a-d1e0-4546-e64b-c92caea559f3"
   },
   "outputs": [
    {
     "data": {
      "text/plain": [
       "-10"
      ]
     },
     "execution_count": 23,
     "metadata": {},
     "output_type": "execute_result"
    }
   ],
   "source": [
    "x = x-2*5\n",
    "x"
   ]
  },
  {
   "cell_type": "code",
   "execution_count": 24,
   "metadata": {
    "id": "63elt7Tnhuck"
   },
   "outputs": [],
   "source": [
    "x = 10\n",
    "y = 20\n"
   ]
  },
  {
   "cell_type": "code",
   "execution_count": 25,
   "metadata": {
    "colab": {
     "base_uri": "https://localhost:8080/",
     "height": 165
    },
    "id": "cWOfKe57huck",
    "outputId": "71414e8d-2cfd-489b-c718-2937df962d7e"
   },
   "outputs": [
    {
     "ename": "NameError",
     "evalue": "ignored",
     "output_type": "error",
     "traceback": [
      "\u001b[0;31m---------------------------------------------------------------------------\u001b[0m",
      "\u001b[0;31mNameError\u001b[0m                                 Traceback (most recent call last)",
      "\u001b[0;32m<ipython-input-25-60419e8affa2>\u001b[0m in \u001b[0;36m<module>\u001b[0;34m()\u001b[0m\n\u001b[0;32m----> 1\u001b[0;31m \u001b[0mx\u001b[0m \u001b[0;34m+\u001b[0m \u001b[0my\u001b[0m\u001b[0;34m*\u001b[0m\u001b[0mz\u001b[0m \u001b[0;31m# can't use a variable before it's created!\u001b[0m\u001b[0;34m\u001b[0m\u001b[0;34m\u001b[0m\u001b[0m\n\u001b[0m",
      "\u001b[0;31mNameError\u001b[0m: name 'z' is not defined"
     ]
    }
   ],
   "source": [
    "x + y*z # can't use a variable before it's created!"
   ]
  },
  {
   "cell_type": "code",
   "execution_count": 27,
   "metadata": {
    "colab": {
     "base_uri": "https://localhost:8080/"
    },
    "id": "dfdCzEiIhuck",
    "outputId": "8f62c1db-231c-4d71-812b-ac5cdf2a7b1f"
   },
   "outputs": [
    {
     "data": {
      "text/plain": [
       "630"
      ]
     },
     "execution_count": 27,
     "metadata": {},
     "output_type": "execute_result"
    }
   ],
   "source": [
    "z = 31\n",
    "x + y*z"
   ]
  },
  {
   "cell_type": "code",
   "execution_count": 30,
   "metadata": {
    "colab": {
     "base_uri": "https://localhost:8080/"
    },
    "id": "QFtpf4DFlcrb",
    "outputId": "1b2a9e1d-482f-4c44-cd3c-52a5fb644595"
   },
   "outputs": [
    {
     "data": {
      "text/plain": [
       "44"
      ]
     },
     "execution_count": 30,
     "metadata": {},
     "output_type": "execute_result"
    }
   ],
   "source": [
    "NumberOfChocolateBars = .5\n",
    "mike = 10\n",
    "spike = 34\n",
    "mike + spike"
   ]
  },
  {
   "cell_type": "code",
   "execution_count": 33,
   "metadata": {
    "colab": {
     "base_uri": "https://localhost:8080/"
    },
    "id": "7OkKon0fhucl",
    "outputId": "48581b0a-bcf7-4c6c-f2c4-b552cc5e5560"
   },
   "outputs": [
    {
     "name": "stdout",
     "output_type": "stream",
     "text": [
      "630\n",
      "-610\n"
     ]
    }
   ],
   "source": [
    "x + y*z\n",
    "\n",
    "x - y*z\n",
    "\n",
    "print(x + y*z)\n",
    "print(x - y*z)"
   ]
  },
  {
   "cell_type": "markdown",
   "metadata": {
    "id": "yFbZUwoMhucl"
   },
   "source": [
    "### Exercises"
   ]
  },
  {
   "cell_type": "code",
   "execution_count": 34,
   "metadata": {
    "id": "xq2KYNaohucl"
   },
   "outputs": [],
   "source": [
    "# variables for the exercice\n",
    "x = 7\n",
    "y = -2\n",
    "z = 5"
   ]
  },
  {
   "cell_type": "code",
   "execution_count": 36,
   "metadata": {
    "colab": {
     "base_uri": "https://localhost:8080/"
    },
    "id": "Ifv9qPQynDaT",
    "outputId": "47819794-1daa-4a89-95a6-495a4ead2532"
   },
   "outputs": [
    {
     "data": {
      "text/plain": [
       "42"
      ]
     },
     "execution_count": 36,
     "metadata": {},
     "output_type": "execute_result"
    }
   ],
   "source": [
    "# 1)\n",
    "3 * x * (4 + y)"
   ]
  },
  {
   "cell_type": "code",
   "execution_count": 38,
   "metadata": {
    "colab": {
     "base_uri": "https://localhost:8080/"
    },
    "id": "NWNu8PBbhucl",
    "outputId": "54ee49f7-9652-4abe-9b4e-7562f6ba072e"
   },
   "outputs": [
    {
     "data": {
      "text/plain": [
       "0.0"
      ]
     },
     "execution_count": 38,
     "metadata": {},
     "output_type": "execute_result"
    }
   ],
   "source": [
    "# 2)\n",
    "-y - ((x + 3) / z)"
   ]
  },
  {
   "cell_type": "markdown",
   "metadata": {
    "id": "SFZS_DuMooIb"
   },
   "source": []
  },
  {
   "cell_type": "markdown",
   "metadata": {
    "id": "3rn5uh5rhucm"
   },
   "source": [
    "# VIDEO: Printing out equations in IPython"
   ]
  },
  {
   "cell_type": "code",
   "execution_count": 3,
   "metadata": {
    "id": "9xO9xSC9hucm"
   },
   "outputs": [
    {
     "data": {
      "text/plain": [
       "'4 + 3 = 7'"
      ]
     },
     "metadata": {},
     "output_type": "display_data"
    },
    {
     "data": {
      "text/plain": [
       "'4 + 3 = 7'"
      ]
     },
     "metadata": {},
     "output_type": "display_data"
    },
    {
     "data": {
      "text/latex": [
       "$\\displaystyle 4+3=7$"
      ],
      "text/plain": [
       "<IPython.core.display.Math object>"
      ]
     },
     "metadata": {},
     "output_type": "display_data"
    }
   ],
   "source": [
    "# the line below will import special functions that are not otherwise available in the main Python environment\n",
    "from IPython.display import Math, display\n",
    "\n",
    "display('4 + 3 = 7')\n",
    "display('4 + 3 = ' + str(4+3)) # overloading display\n",
    "\n",
    "display(Math('4+3=7'))"
   ]
  },
  {
   "cell_type": "code",
   "execution_count": 8,
   "metadata": {
    "id": "46LNHtFMhucm"
   },
   "outputs": [
    {
     "data": {
      "text/plain": [
       "'4+5-9 = 0'"
      ]
     },
     "metadata": {},
     "output_type": "display_data"
    },
    {
     "data": {
      "text/latex": [
       "$\\displaystyle 4+5-9 = 0$"
      ],
      "text/plain": [
       "<IPython.core.display.Math object>"
      ]
     },
     "metadata": {},
     "output_type": "display_data"
    },
    {
     "data": {
      "text/latex": [
       "$\\displaystyle x+y=9$"
      ],
      "text/plain": [
       "<IPython.core.display.Math object>"
      ]
     },
     "metadata": {},
     "output_type": "display_data"
    }
   ],
   "source": [
    "# can also use string variables for printing\n",
    "\n",
    "expr = '4+5-9 = 0'\n",
    "\n",
    "display(expr)\n",
    "display(Math(expr)) # note that this line produces slightly nicer output\n",
    "\n",
    "x = 4\n",
    "y = 5\n",
    "\n",
    "display(Math('x+y='+str(x+y)))"
   ]
  },
  {
   "cell_type": "code",
   "execution_count": 10,
   "metadata": {
    "id": "QiDBoqnWhucm"
   },
   "outputs": [
    {
     "data": {
      "text/latex": [
       "$\\displaystyle 4 + 5 = 9$"
      ],
      "text/plain": [
       "<IPython.core.display.Math object>"
      ]
     },
     "metadata": {},
     "output_type": "display_data"
    },
    {
     "data": {
      "text/latex": [
       "$\\displaystyle 4+5 = 9$"
      ],
      "text/plain": [
       "<IPython.core.display.Math object>"
      ]
     },
     "metadata": {},
     "output_type": "display_data"
    }
   ],
   "source": [
    "# mixing variable types in outputs\n",
    "x = 4\n",
    "y = 5\n",
    "\n",
    "display(Math( str(x) + ' + ' + str(y) + ' = ' + str(x+y) )) # note: plus sign here is for concatenating strings, not for summing!\n",
    "\n",
    "display(Math('%g+%g = %g' %(x, y, x+y)))"
   ]
  },
  {
   "cell_type": "code",
   "execution_count": 16,
   "metadata": {
    "id": "DajA6Luchucm"
   },
   "outputs": [
    {
     "data": {
      "text/latex": [
       "$\\displaystyle 4/5 = .8$"
      ],
      "text/plain": [
       "<IPython.core.display.Math object>"
      ]
     },
     "metadata": {},
     "output_type": "display_data"
    },
    {
     "data": {
      "text/latex": [
       "$\\displaystyle \\frac{4}{5} = 0.8$"
      ],
      "text/plain": [
       "<IPython.core.display.Math object>"
      ]
     },
     "metadata": {},
     "output_type": "display_data"
    }
   ],
   "source": [
    "# without using latex\n",
    "display(Math('4/5 = .8'))\n",
    "\n",
    "# with latex (much nicer!)\n",
    "display(Math('\\\\frac{4}{5} = ' + str(4/5)))\n",
    "\n"
   ]
  },
  {
   "cell_type": "code",
   "execution_count": 14,
   "metadata": {
    "id": "eAPVZGWzhucn"
   },
   "outputs": [
    {
     "data": {
      "text/latex": [
       "$\\displaystyle \\frac{4}{5} = 0.8$"
      ],
      "text/plain": [
       "<IPython.core.display.Math object>"
      ]
     },
     "metadata": {},
     "output_type": "display_data"
    }
   ],
   "source": [
    "# alternative method for integrating numbers with string text\n",
    "display(Math('\\\\frac{4}{5} = %g' %(4/5)))\n",
    "\n",
    "# Note: We'll be using the basics of substitution (%g and %s) in this course; for more details and formatting options, see\n",
    "# https://docs.python.org/3/library/stdtypes.html#printf-style-string-formatting\n"
   ]
  },
  {
   "cell_type": "code",
   "execution_count": 15,
   "metadata": {
    "id": "eNVEBaeGhucn"
   },
   "outputs": [
    {
     "data": {
      "text/latex": [
       "$\\displaystyle 3.4 \\times 17 = 57.8$"
      ],
      "text/plain": [
       "<IPython.core.display.Math object>"
      ]
     },
     "metadata": {},
     "output_type": "display_data"
    }
   ],
   "source": [
    "# more variables in the same line\n",
    "\n",
    "x = 3.4\n",
    "y = 17\n",
    "\n",
    "display(Math('%g \\\\times %g = %g' %(x, y, x*y)))"
   ]
  },
  {
   "cell_type": "markdown",
   "metadata": {},
   "source": []
  },
  {
   "cell_type": "markdown",
   "metadata": {
    "id": "DiWqY1RHhuco"
   },
   "source": [
    "### Exercises"
   ]
  },
  {
   "cell_type": "code",
   "execution_count": 4,
   "metadata": {
    "id": "9ojP2okNhuco"
   },
   "outputs": [],
   "source": [
    "# Variables used for exercises\n",
    "x = 7\n",
    "y = -2\n",
    "z = 5\n",
    "\n",
    "# 1)\n",
    "# ans = 3*x*(4+y)\n",
    "# display(Math('3x(4+y) = ' + str(ans)))\n",
    "# display(Math('3\\\\times%g(4+%g) = %g' %(x,y,ans) ))\n",
    "\n",
    "\n",
    "# 2)\n",
    "# ans = -y - (x+3)/z\n",
    "# display(Math('-y - \\\\frac{x+3}{z} = %g'%ans))\n",
    "\n",
    "# display(Math('-%g - \\\\frac{%g+3}{%g} = %g'%(y,x,z,ans)))"
   ]
  },
  {
   "cell_type": "code",
   "execution_count": 10,
   "metadata": {},
   "outputs": [
    {
     "data": {
      "text/latex": [
       "$\\displaystyle 3\\times 7(4+-2)=42$"
      ],
      "text/plain": [
       "<IPython.core.display.Math object>"
      ]
     },
     "metadata": {},
     "output_type": "display_data"
    }
   ],
   "source": [
    "# 1)\n",
    "solution = 3 * x * (4 + y)\n",
    "display(Math(\"3\\\\times %g(4+%g)=%g\"%(x, y, solution)))"
   ]
  },
  {
   "cell_type": "code",
   "execution_count": 14,
   "metadata": {},
   "outputs": [
    {
     "data": {
      "text/latex": [
       "$\\displaystyle --2- \\frac{7 + 3}{5} = 0$"
      ],
      "text/plain": [
       "<IPython.core.display.Math object>"
      ]
     },
     "metadata": {},
     "output_type": "display_data"
    }
   ],
   "source": [
    "# 2)\n",
    "solution = -y - ((x + 3) / z)\n",
    "display(Math(\"-%g- \\\\frac{%g + 3}{%g} = %g\"%(y, x, z, solution)))"
   ]
  },
  {
   "cell_type": "markdown",
   "metadata": {},
   "source": [
    "# VIDEO: Writing comments in Python"
   ]
  },
  {
   "cell_type": "code",
   "execution_count": 17,
   "metadata": {},
   "outputs": [
    {
     "data": {
      "text/plain": [
       "5"
      ]
     },
     "execution_count": 17,
     "metadata": {},
     "output_type": "execute_result"
    }
   ],
   "source": [
    "y = 3\n",
    "x = 5\n",
    "x"
   ]
  },
  {
   "cell_type": "code",
   "execution_count": null,
   "metadata": {},
   "outputs": [],
   "source": [
    "# First type of comment\n",
    "\n",
    "# Shortcut in the notebook to comments and uncomment (line or paragraph): \n",
    "# Ctrl + /\n",
    "\"\"\"\n",
    "Second type of comment \n",
    "\"\"\""
   ]
  },
  {
   "cell_type": "markdown",
   "metadata": {},
   "source": []
  },
  {
   "cell_type": "markdown",
   "metadata": {
    "id": "E1Xelwj4huco"
   },
   "source": [
    "# VIDEO: Exponents (powers)\n",
    "\n",
    "## The law of Exponents\n",
    "$$\n",
    "  3^2 = 3 \\times 3\n",
    "$$\n",
    "$$\n",
    "  3^4 = 3 \\times 3\\times 3\\times 3\n",
    "$$\n",
    "\n",
    "### If the base is the same, we could add the exponent for the result\n",
    "$$\n",
    "  3^2 \\times 3^4 = 3^{2+4} = 3^6 =  3\\times 3\\times 3\\times 3\\times 3\\times 3\\times 3\n",
    "$$\n",
    "===> Works only with same bases, for example, this couldn't be simplified:\n",
    "$$\n",
    "  3^2 \\times 4^3 =  3\\times 3\\times 4\\times 4\\times 4\n",
    "$$"
   ]
  },
  {
   "cell_type": "code",
   "execution_count": 1,
   "metadata": {
    "id": "2R4JWZpMhuco"
   },
   "outputs": [
    {
     "data": {
      "text/plain": [
       "9"
      ]
     },
     "execution_count": 1,
     "metadata": {},
     "output_type": "execute_result"
    }
   ],
   "source": [
    "# use **\n",
    "3**2"
   ]
  },
  {
   "cell_type": "code",
   "execution_count": 5,
   "metadata": {
    "id": "sbGEbhN1huco"
   },
   "outputs": [
    {
     "data": {
      "text/plain": [
       "2"
      ]
     },
     "execution_count": 5,
     "metadata": {},
     "output_type": "execute_result"
    }
   ],
   "source": [
    "# careful not to confuse with ^\n",
    "3^1\n",
    "# this is actually the symbol for the XOR logical problem\n",
    "\n",
    "#d: for decimal\n",
    "#b: for binary\n",
    "#3d xor 1d = 11b xor 01b = 10b = 2d \n"
   ]
  },
  {
   "cell_type": "code",
   "execution_count": 6,
   "metadata": {
    "id": "pItX9lTIhucp"
   },
   "outputs": [
    {
     "data": {
      "text/plain": [
       "9"
      ]
     },
     "execution_count": 6,
     "metadata": {},
     "output_type": "execute_result"
    }
   ],
   "source": [
    "# variables can also be useful\n",
    "x = 2\n",
    "3**x"
   ]
  },
  {
   "cell_type": "markdown",
   "metadata": {
    "tags": []
   },
   "source": []
  },
  {
   "cell_type": "code",
   "execution_count": null,
   "metadata": {
    "id": "nxeRnmUvhucp"
   },
   "outputs": [],
   "source": []
  },
  {
   "cell_type": "code",
   "execution_count": 1,
   "metadata": {
    "id": "vqp6wrjBhucp"
   },
   "outputs": [
    {
     "name": "stdout",
     "output_type": "stream",
     "text": [
      "27\n",
      "27\n"
     ]
    }
   ],
   "source": [
    "# the law of exponents\n",
    "print(3**3)\n",
    "print(3*3*3)"
   ]
  },
  {
   "cell_type": "code",
   "execution_count": 2,
   "metadata": {
    "id": "i3C_vLVdhucp"
   },
   "outputs": [
    {
     "name": "stdout",
     "output_type": "stream",
     "text": [
      "729\n",
      "729\n"
     ]
    }
   ],
   "source": [
    "print( 3**2 * 3**4 )\n",
    "print( 3**(2+4) )"
   ]
  },
  {
   "cell_type": "code",
   "execution_count": 4,
   "metadata": {},
   "outputs": [
    {
     "name": "stdout",
     "output_type": "stream",
     "text": [
      "4.5\n",
      "3.0\n"
     ]
    }
   ],
   "source": [
    "print (9 ** 1/2)\n",
    "print (9 ** (1/2))"
   ]
  },
  {
   "cell_type": "code",
   "execution_count": 19,
   "metadata": {},
   "outputs": [
    {
     "name": "stdout",
     "output_type": "stream",
     "text": [
      "4\n"
     ]
    },
    {
     "data": {
      "text/latex": [
       "$\\displaystyle 2^2 = 4$"
      ],
      "text/plain": [
       "<IPython.core.display.Math object>"
      ]
     },
     "metadata": {},
     "output_type": "display_data"
    },
    {
     "data": {
      "text/plain": [
       "'2^2 = 4'"
      ]
     },
     "metadata": {},
     "output_type": "display_data"
    },
    {
     "data": {
      "text/latex": [
       "$\\displaystyle 3^2 \\times 3^4 <=> 3^{2+4} = 729$"
      ],
      "text/plain": [
       "<IPython.core.display.Math object>"
      ]
     },
     "metadata": {},
     "output_type": "display_data"
    }
   ],
   "source": [
    "# Note about importing functions or modules: You need to do this only once per session.\n",
    "# Thus, you don't need the following line if you've already imported these functions.\n",
    "# On the other hand, it doesn't hurt to import multiple times ;)\n",
    "from IPython.display import display, Math\n",
    "x=2\n",
    "\n",
    "# using the print function\n",
    "print( 2**x )\n",
    "solution = 2**x\n",
    "# print out the whole equation\n",
    "display(Math(\"2^%g = %g\"%(x, solution)))\n",
    "display(\"2^%g = %g\"%(x, solution))\n",
    "\n",
    "# print the above equation 3**2 * 3**4\n",
    "solution = 3**2 * 3**4\n",
    "display(Math(\"3^2 \\\\times 3^4 <=> 3^{2+4} = %g\" %(solution)))"
   ]
  },
  {
   "cell_type": "code",
   "execution_count": 15,
   "metadata": {
    "id": "JjytEvS8hucp"
   },
   "outputs": [
    {
     "data": {
      "text/plain": [
       "1.4142135623730951"
      ]
     },
     "execution_count": 15,
     "metadata": {},
     "output_type": "execute_result"
    }
   ],
   "source": [
    "# square root as fractional power\n",
    "x**(1/2)"
   ]
  },
  {
   "cell_type": "markdown",
   "metadata": {
    "id": "NyQNK_n9hucq"
   },
   "source": [
    "### Exercises"
   ]
  },
  {
   "cell_type": "code",
   "execution_count": 16,
   "metadata": {},
   "outputs": [],
   "source": [
    "# Variables to the exercises\n",
    "x = 5\n",
    "y = 5.1"
   ]
  },
  {
   "cell_type": "code",
   "execution_count": 17,
   "metadata": {
    "id": "P2wpFLZBhucq"
   },
   "outputs": [
    {
     "data": {
      "text/latex": [
       "$\\displaystyle x^{3/4} \\times 4^y = 3933.09$"
      ],
      "text/plain": [
       "<IPython.core.display.Math object>"
      ]
     },
     "metadata": {},
     "output_type": "display_data"
    }
   ],
   "source": [
    "# 1)\n",
    "solution = x**(3/4) * 4**y\n",
    "display(Math(\"x^{3/4} \\\\times 4^y = %g\" %(solution)))"
   ]
  },
  {
   "cell_type": "code",
   "execution_count": 18,
   "metadata": {},
   "outputs": [
    {
     "data": {
      "text/latex": [
       "$\\displaystyle \\frac{3^3}{x^y} = 0.00735558$"
      ],
      "text/plain": [
       "<IPython.core.display.Math object>"
      ]
     },
     "metadata": {},
     "output_type": "display_data"
    }
   ],
   "source": [
    "# 2)\n",
    "solution = (3**3) / (x**y)\n",
    "display(Math(\"\\\\frac{3^3}{x^y} = %g\" %(solution)))"
   ]
  },
  {
   "cell_type": "code",
   "execution_count": 19,
   "metadata": {},
   "outputs": [
    {
     "data": {
      "text/latex": [
       "$\\displaystyle 10^{x-4} = 10$"
      ],
      "text/plain": [
       "<IPython.core.display.Math object>"
      ]
     },
     "metadata": {},
     "output_type": "display_data"
    }
   ],
   "source": [
    "# 3)\n",
    "solution = 10**(x-4)\n",
    "display(Math(\"10^{x-4} = %g\"%(solution)))"
   ]
  },
  {
   "cell_type": "markdown",
   "metadata": {},
   "source": []
  },
  {
   "cell_type": "markdown",
   "metadata": {
    "id": "0WWo7lKohucq"
   },
   "source": [
    "# VIDEO: Using for-loops to compute powers"
   ]
  },
  {
   "cell_type": "code",
   "execution_count": 1,
   "metadata": {
    "id": "CFQZqeDihucq"
   },
   "outputs": [
    {
     "name": "stdout",
     "output_type": "stream",
     "text": [
      "0\n",
      "1\n",
      "2\n",
      "3\n"
     ]
    }
   ],
   "source": [
    "# basic for loop construction\n",
    "\n",
    "for i in [0,1,2,3]:\n",
    "    print(i)\n"
   ]
  },
  {
   "cell_type": "code",
   "execution_count": 2,
   "metadata": {
    "id": "NBT9Ix7Fhucq"
   },
   "outputs": [
    {
     "data": {
      "text/plain": [
       "[0, 1, 2]"
      ]
     },
     "execution_count": 2,
     "metadata": {},
     "output_type": "execute_result"
    }
   ],
   "source": [
    "# using the range function\n",
    "list( range(0,3) )"
   ]
  },
  {
   "cell_type": "code",
   "execution_count": 3,
   "metadata": {
    "id": "Pemnxo2Bhucr"
   },
   "outputs": [
    {
     "name": "stdout",
     "output_type": "stream",
     "text": [
      "This is the 0th element.\n",
      "This is the 1th element.\n",
      "This is the 2th element.\n"
     ]
    }
   ],
   "source": [
    "for i in range(0,3):\n",
    "    print('This is the %gth element.'%i)"
   ]
  },
  {
   "cell_type": "code",
   "execution_count": 4,
   "metadata": {
    "id": "3r0qVK9khucr"
   },
   "outputs": [
    {
     "name": "stdout",
     "output_type": "stream",
     "text": [
      "0\n",
      "1\n",
      "4\n",
      "9\n",
      "16\n"
     ]
    }
   ],
   "source": [
    "for i in range(0,5):\n",
    "    num = i**2\n",
    "    print(num)"
   ]
  },
  {
   "cell_type": "markdown",
   "metadata": {
    "id": "P8cuN_Z6hucr"
   },
   "source": [
    "### Exercises"
   ]
  },
  {
   "cell_type": "code",
   "execution_count": 9,
   "metadata": {
    "id": "pJnFcLVShucr"
   },
   "outputs": [
    {
     "name": "stdout",
     "output_type": "stream",
     "text": [
      "2 to the power of 0 is 1\n",
      "2 to the power of 1 is 2\n",
      "2 to the power of 2 is 4\n",
      "2 to the power of 3 is 8\n",
      "2 to the power of 4 is 16\n",
      "2 to the power of 5 is 32\n",
      "2 to the power of 6 is 64\n",
      "2 to the power of 7 is 128\n",
      "2 to the power of 8 is 256\n",
      "2 to the power of 9 is 512\n"
     ]
    }
   ],
   "source": [
    "# write code to print the following:\n",
    "# 2 to the power of 0 is 1\n",
    "# and so on for 2**0 through 2**9\n",
    "base = 2\n",
    "for i in range(0,10):\n",
    "    solution = base**i\n",
    "    print('%g to the power of %g is %g'%(base, i, solution))"
   ]
  },
  {
   "cell_type": "markdown",
   "metadata": {},
   "source": []
  },
  {
   "cell_type": "markdown",
   "metadata": {
    "id": "zUxbywVwhucr"
   },
   "source": [
    "# VIDEO: Order of operations"
   ]
  },
  {
   "cell_type": "markdown",
   "metadata": {
    "id": "-0qlL52rhucr"
   },
   "source": [
    "## Reminder about order of operations:\n",
    "PEMDAS:\n",
    "\n",
    "    Parentheses\n",
    "    Exponents\n",
    "    Multiplication\n",
    "    Division\n",
    "    Addition\n",
    "    Subtraction\n",
    "    \n",
    "(Please excuse my dear aunt Sally)\n",
    "\n",
    "\n",
    "\n",
    "### When Multiplication and division are together (or Addition and subtraction)\n",
    "==> We interpret from the left side\n"
   ]
  },
  {
   "cell_type": "code",
   "execution_count": 2,
   "metadata": {
    "id": "nD6J_gAYhucs"
   },
   "outputs": [
    {
     "name": "stdout",
     "output_type": "stream",
     "text": [
      "9\n",
      "9\n"
     ]
    }
   ],
   "source": [
    "# examples from slides\n",
    "\n",
    "print( 4 + 3 * 2 - 1 ) # spacing has no effect\n",
    "print(4 + (3 * 2) -1)\n"
   ]
  },
  {
   "cell_type": "code",
   "execution_count": null,
   "metadata": {
    "id": "FtHnv9rihucs"
   },
   "outputs": [],
   "source": [
    "# will this be 24 or 10?\n",
    "4 + 2 * 3"
   ]
  },
  {
   "cell_type": "code",
   "execution_count": null,
   "metadata": {
    "id": "2a85Q3nuhucs"
   },
   "outputs": [],
   "source": [
    "# how about this one? can you make the be 7 or -11?\n",
    "2 - 4 + 9"
   ]
  },
  {
   "cell_type": "markdown",
   "metadata": {
    "id": "taQ4-n2Ehucs"
   },
   "source": [
    "### Exercises"
   ]
  },
  {
   "cell_type": "code",
   "execution_count": 11,
   "metadata": {
    "id": "X41TGP5zhucs"
   },
   "outputs": [
    {
     "name": "stdout",
     "output_type": "stream",
     "text": [
      "2.0\n",
      "0.0\n"
     ]
    }
   ],
   "source": [
    "# add parentheses as needed to make the following equations true\n",
    "\n",
    "# 1) \n",
    "solution = (4*5) / (7+3) # Adding parenthesis to 4*5 and spaces for readability\n",
    "print (solution)\n",
    "\n",
    "# 2)\n",
    "solution = 9/(3+6) - 1\n",
    "print(solution)\n"
   ]
  },
  {
   "cell_type": "markdown",
   "metadata": {
    "id": "hHa-A94ohuct"
   },
   "source": [
    "# VIDEO: Testing inequalities and Boolean data type"
   ]
  },
  {
   "cell_type": "code",
   "execution_count": 12,
   "metadata": {
    "id": "6YhW6aIThuct"
   },
   "outputs": [
    {
     "data": {
      "text/plain": [
       "False"
      ]
     },
     "execution_count": 12,
     "metadata": {},
     "output_type": "execute_result"
    }
   ],
   "source": [
    "# The result of the below expression can only be True or False\n",
    "4 > 5"
   ]
  },
  {
   "cell_type": "code",
   "execution_count": 13,
   "metadata": {
    "id": "HUjenyOLhuct"
   },
   "outputs": [
    {
     "name": "stdout",
     "output_type": "stream",
     "text": [
      "True\n"
     ]
    }
   ],
   "source": [
    "print(5 < 5.1)"
   ]
  },
  {
   "cell_type": "code",
   "execution_count": 14,
   "metadata": {
    "id": "S8qw_KQPhuct"
   },
   "outputs": [
    {
     "name": "stdout",
     "output_type": "stream",
     "text": [
      "False\n",
      "<class 'bool'>\n"
     ]
    }
   ],
   "source": [
    "b = 10 > 3*3.33334\n",
    "\n",
    "print(b)\n",
    "print(type(b)) # the variable class is boolean"
   ]
  },
  {
   "cell_type": "code",
   "execution_count": 15,
   "metadata": {
    "id": "_JlIHtH2huct"
   },
   "outputs": [
    {
     "data": {
      "text/plain": [
       "True"
      ]
     },
     "execution_count": 15,
     "metadata": {},
     "output_type": "execute_result"
    }
   ],
   "source": [
    "4 >= 2+2"
   ]
  },
  {
   "cell_type": "code",
   "execution_count": 16,
   "metadata": {
    "id": "0FiJpVpRhuct"
   },
   "outputs": [
    {
     "data": {
      "text/plain": [
       "False"
      ]
     },
     "execution_count": 16,
     "metadata": {},
     "output_type": "execute_result"
    }
   ],
   "source": [
    "5 <= 3*2-1.00000000001"
   ]
  },
  {
   "cell_type": "code",
   "execution_count": 20,
   "metadata": {
    "id": "uHJ_JF6Qhuct"
   },
   "outputs": [
    {
     "name": "stdout",
     "output_type": "stream",
     "text": [
      "False\n"
     ]
    }
   ],
   "source": [
    "# testing for equalities requires two equals signs\n",
    "\n",
    "# 4 = 4\n",
    "4 == 4\n",
    "\n",
    "test = 4 == 5\n",
    "print(test)\n"
   ]
  },
  {
   "cell_type": "markdown",
   "metadata": {
    "id": "LUBho5Q3hucu"
   },
   "source": [
    "### Exercises"
   ]
  },
  {
   "cell_type": "code",
   "execution_count": 22,
   "metadata": {
    "id": "RyUmgimAhucu"
   },
   "outputs": [],
   "source": [
    "# which variable value(s) will make the following inequalities true?\n",
    "# comment out the incorrect answers!\n",
    "x = 2\n",
    "x = 3\n",
    "x = 4\n",
    "\n",
    "\n",
    "\n"
   ]
  },
  {
   "cell_type": "code",
   "execution_count": 27,
   "metadata": {},
   "outputs": [
    {
     "name": "stdout",
     "output_type": "stream",
     "text": [
      "True\n"
     ]
    }
   ],
   "source": [
    "# 1) Only true when x = 2\n",
    "x = 2\n",
    "print( 4*x+3 < 17-x**2 )"
   ]
  },
  {
   "cell_type": "code",
   "execution_count": 25,
   "metadata": {},
   "outputs": [
    {
     "name": "stdout",
     "output_type": "stream",
     "text": [
      "True\n"
     ]
    }
   ],
   "source": [
    "#2) True for all values of x\n",
    "x = 4\n",
    "print( 8*x - 2 <= -3*x + 42 )"
   ]
  },
  {
   "cell_type": "markdown",
   "metadata": {
    "id": "Gg8_UNwThucu"
   },
   "source": [
    "# VIDEO: If-statements and logical operators"
   ]
  },
  {
   "cell_type": "code",
   "execution_count": 28,
   "metadata": {
    "id": "qJKmoi6xhucu"
   },
   "outputs": [
    {
     "name": "stdout",
     "output_type": "stream",
     "text": [
      "True!\n"
     ]
    }
   ],
   "source": [
    "# start with basics:\n",
    "if 4+2 == 6:\n",
    "    print('True!')\n",
    "else:\n",
    "    print('Nope!')"
   ]
  },
  {
   "cell_type": "code",
   "execution_count": 29,
   "metadata": {
    "id": "niwSgh-thucu"
   },
   "outputs": [
    {
     "name": "stdout",
     "output_type": "stream",
     "text": [
      "4 is greater than 3\n"
     ]
    }
   ],
   "source": [
    "# using variables\n",
    "\n",
    "x1 = 3\n",
    "x2 = 4\n",
    "\n",
    "if x1>x2:\n",
    "    print('%g is greater than %g' %(x1,x2))\n",
    "elif x1<x2:\n",
    "    print('%g is greater than %g' %(x2,x1))\n",
    "else:\n",
    "    print('%g is equal to %g' %(x1,x2))\n"
   ]
  },
  {
   "cell_type": "code",
   "execution_count": 30,
   "metadata": {
    "id": "QlFerwD4hucu"
   },
   "outputs": [
    {
     "name": "stdout",
     "output_type": "stream",
     "text": [
      "the second thing\n"
     ]
    }
   ],
   "source": [
    "# with logical operators\n",
    "\n",
    "x = 1\n",
    "y = 2\n",
    "z = 3\n",
    "\n",
    "if x+y<z or x-z>y:\n",
    "    print('Yeah, the first thing.')\n",
    "elif 2*x+y>z and 2*z-x>y:\n",
    "    print('the second thing')\n"
   ]
  },
  {
   "cell_type": "markdown",
   "metadata": {
    "id": "NgTu40lfhucv"
   },
   "source": [
    "### Exercise"
   ]
  },
  {
   "cell_type": "code",
   "execution_count": 44,
   "metadata": {
    "id": "Bqh_QcUuhucv"
   },
   "outputs": [
    {
     "data": {
      "text/latex": [
       "$\\displaystyle 1^{-1} = 1$"
      ],
      "text/plain": [
       "<IPython.core.display.Math object>"
      ]
     },
     "metadata": {},
     "output_type": "display_data"
    },
    {
     "data": {
      "text/latex": [
       "$\\displaystyle 1^{-2} = 1$"
      ],
      "text/plain": [
       "<IPython.core.display.Math object>"
      ]
     },
     "metadata": {},
     "output_type": "display_data"
    },
    {
     "data": {
      "text/latex": [
       "$\\displaystyle 1^{-3} = 1$"
      ],
      "text/plain": [
       "<IPython.core.display.Math object>"
      ]
     },
     "metadata": {},
     "output_type": "display_data"
    },
    {
     "data": {
      "text/latex": [
       "$\\displaystyle 1^{-4} = 1$"
      ],
      "text/plain": [
       "<IPython.core.display.Math object>"
      ]
     },
     "metadata": {},
     "output_type": "display_data"
    },
    {
     "data": {
      "text/latex": [
       "$\\displaystyle 2^{-1} = 0.5$"
      ],
      "text/plain": [
       "<IPython.core.display.Math object>"
      ]
     },
     "metadata": {},
     "output_type": "display_data"
    },
    {
     "data": {
      "text/latex": [
       "$\\displaystyle 2^{-2} = 0.25$"
      ],
      "text/plain": [
       "<IPython.core.display.Math object>"
      ]
     },
     "metadata": {},
     "output_type": "display_data"
    },
    {
     "data": {
      "text/latex": [
       "$\\displaystyle 2^{-3} = 0.125$"
      ],
      "text/plain": [
       "<IPython.core.display.Math object>"
      ]
     },
     "metadata": {},
     "output_type": "display_data"
    },
    {
     "data": {
      "text/latex": [
       "$\\displaystyle 2^{-4} = 0.0625$"
      ],
      "text/plain": [
       "<IPython.core.display.Math object>"
      ]
     },
     "metadata": {},
     "output_type": "display_data"
    },
    {
     "data": {
      "text/latex": [
       "$\\displaystyle 3^{-1} = 0.333333$"
      ],
      "text/plain": [
       "<IPython.core.display.Math object>"
      ]
     },
     "metadata": {},
     "output_type": "display_data"
    },
    {
     "data": {
      "text/latex": [
       "$\\displaystyle 3^{-2} = 0.111111$"
      ],
      "text/plain": [
       "<IPython.core.display.Math object>"
      ]
     },
     "metadata": {},
     "output_type": "display_data"
    },
    {
     "data": {
      "text/latex": [
       "$\\displaystyle 3^{-3} = 0.037037$"
      ],
      "text/plain": [
       "<IPython.core.display.Math object>"
      ]
     },
     "metadata": {},
     "output_type": "display_data"
    },
    {
     "data": {
      "text/latex": [
       "$\\displaystyle 3^{-4} = 0.0123457$"
      ],
      "text/plain": [
       "<IPython.core.display.Math object>"
      ]
     },
     "metadata": {},
     "output_type": "display_data"
    }
   ],
   "source": [
    "from IPython.display import display, Math\n",
    "\n",
    "for i in range(0,4):\n",
    "    for j in range(0,5):\n",
    "        if i > 0 and j > 0:\n",
    "            solution = i**(-j)\n",
    "            display(Math(\"%g^{-%g} = %g\"%(i, j, solution)))"
   ]
  },
  {
   "cell_type": "markdown",
   "metadata": {},
   "source": []
  },
  {
   "cell_type": "markdown",
   "metadata": {
    "id": "ygdXQ19hhucv"
   },
   "source": [
    "# VIDEO: Absolute value"
   ]
  },
  {
   "cell_type": "code",
   "execution_count": 45,
   "metadata": {
    "id": "0NAUkN1Ehucv"
   },
   "outputs": [
    {
     "data": {
      "text/plain": [
       "4"
      ]
     },
     "execution_count": 45,
     "metadata": {},
     "output_type": "execute_result"
    }
   ],
   "source": [
    "a = -4\n",
    "abs(a)"
   ]
  },
  {
   "cell_type": "code",
   "execution_count": 46,
   "metadata": {
    "id": "YwXEInXOhucv"
   },
   "outputs": [
    {
     "data": {
      "text/plain": [
       "(-4, 4)"
      ]
     },
     "execution_count": 46,
     "metadata": {},
     "output_type": "execute_result"
    }
   ],
   "source": [
    "b = abs(a)\n",
    "a,b"
   ]
  },
  {
   "cell_type": "code",
   "execution_count": 47,
   "metadata": {
    "id": "fuN8Nu2whucv"
   },
   "outputs": [
    {
     "data": {
      "text/latex": [
       "$\\displaystyle |-4.3| = 4.3$"
      ],
      "text/plain": [
       "<IPython.core.display.Math object>"
      ]
     },
     "metadata": {},
     "output_type": "display_data"
    }
   ],
   "source": [
    "# printing out with latex\n",
    "x = -4.3\n",
    "\n",
    "# If the following line crashes, you need to import the display and Math functions as shown earlier\n",
    "display(Math('|%g| = %g' %(x,abs(x)) ))"
   ]
  },
  {
   "cell_type": "markdown",
   "metadata": {
    "id": "RsAk7zThhucw"
   },
   "source": [
    "### Exercise"
   ]
  },
  {
   "cell_type": "code",
   "execution_count": 48,
   "metadata": {
    "id": "jjnn4nPMhucw"
   },
   "outputs": [],
   "source": [
    "# report the absolute value of a set of numbers only if they are less than -5 or greater than +2\n",
    "numbers = [-4,6,-1,43,-18,2,0]\n",
    "\n"
   ]
  },
  {
   "cell_type": "code",
   "execution_count": 52,
   "metadata": {},
   "outputs": [
    {
     "data": {
      "text/plain": [
       "'-4 was not tested.'"
      ]
     },
     "metadata": {},
     "output_type": "display_data"
    },
    {
     "data": {
      "text/plain": [
       "'Absolute value of 6 is 6'"
      ]
     },
     "metadata": {},
     "output_type": "display_data"
    },
    {
     "data": {
      "text/plain": [
       "'-1 was not tested.'"
      ]
     },
     "metadata": {},
     "output_type": "display_data"
    },
    {
     "data": {
      "text/plain": [
       "'Absolute value of 43 is 43'"
      ]
     },
     "metadata": {},
     "output_type": "display_data"
    },
    {
     "data": {
      "text/plain": [
       "'Absolute value of -18 is 18'"
      ]
     },
     "metadata": {},
     "output_type": "display_data"
    },
    {
     "data": {
      "text/plain": [
       "'2 was not tested.'"
      ]
     },
     "metadata": {},
     "output_type": "display_data"
    },
    {
     "data": {
      "text/plain": [
       "'0 was not tested.'"
      ]
     },
     "metadata": {},
     "output_type": "display_data"
    }
   ],
   "source": [
    "# for-loop\n",
    "for num in numbers:\n",
    "    if num <= -5 or num > 2:\n",
    "        display(\"Absolute value of %g is %g\" %(num, abs(num)))\n",
    "    else:\n",
    "        display(\"%g was not tested.\" %(num))"
   ]
  },
  {
   "cell_type": "markdown",
   "metadata": {
    "id": "srBkQe_Qhucw"
   },
   "source": [
    "# VIDEO: Remainder after division (modulus)"
   ]
  },
  {
   "cell_type": "code",
   "execution_count": 53,
   "metadata": {
    "id": "WcdKiFDihucw"
   },
   "outputs": [
    {
     "data": {
      "text/plain": [
       "3.3333333333333335"
      ]
     },
     "execution_count": 53,
     "metadata": {},
     "output_type": "execute_result"
    }
   ],
   "source": [
    "# pick some numbers\n",
    "a = 10\n",
    "b = 3\n",
    "\n",
    "# division\n",
    "a/b"
   ]
  },
  {
   "cell_type": "code",
   "execution_count": 54,
   "metadata": {
    "id": "eK74d5bGhucw"
   },
   "outputs": [
    {
     "data": {
      "text/plain": [
       "3"
      ]
     },
     "execution_count": 54,
     "metadata": {},
     "output_type": "execute_result"
    }
   ],
   "source": [
    "# integer division\n",
    "int(a/b)"
   ]
  },
  {
   "cell_type": "code",
   "execution_count": 55,
   "metadata": {
    "id": "HYEV8_Aohucx"
   },
   "outputs": [
    {
     "data": {
      "text/plain": [
       "1"
      ]
     },
     "execution_count": 55,
     "metadata": {},
     "output_type": "execute_result"
    }
   ],
   "source": [
    "# with a remainder!\n",
    "a%b"
   ]
  },
  {
   "cell_type": "code",
   "execution_count": 56,
   "metadata": {
    "id": "P0fnSoROhucx"
   },
   "outputs": [
    {
     "name": "stdout",
     "output_type": "stream",
     "text": [
      "3 goes into 10, 3 times with a remainder of 1.\n"
     ]
    }
   ],
   "source": [
    "# now for a nicer printing\n",
    "# set variables for outputs\n",
    "divis = int(a/b)\n",
    "remainder = a%b\n",
    "\n",
    "print(\"%g goes into %g, %g times with a remainder of %g.\" %(b,a,divis,remainder))"
   ]
  },
  {
   "cell_type": "markdown",
   "metadata": {
    "id": "oK97yaEGhucx"
   },
   "source": [
    "### Exercises"
   ]
  },
  {
   "cell_type": "code",
   "execution_count": 66,
   "metadata": {},
   "outputs": [],
   "source": [
    "# determining whether a number is odd or even in range(-5,6)"
   ]
  },
  {
   "cell_type": "code",
   "execution_count": 65,
   "metadata": {},
   "outputs": [
    {
     "data": {
      "text/plain": [
       "'-5 is an odd number'"
      ]
     },
     "metadata": {},
     "output_type": "display_data"
    },
    {
     "data": {
      "text/plain": [
       "'-4 is an even number'"
      ]
     },
     "metadata": {},
     "output_type": "display_data"
    },
    {
     "data": {
      "text/plain": [
       "'-3 is an odd number'"
      ]
     },
     "metadata": {},
     "output_type": "display_data"
    },
    {
     "data": {
      "text/plain": [
       "'-2 is an even number'"
      ]
     },
     "metadata": {},
     "output_type": "display_data"
    },
    {
     "data": {
      "text/plain": [
       "'-1 is an odd number'"
      ]
     },
     "metadata": {},
     "output_type": "display_data"
    },
    {
     "data": {
      "text/plain": [
       "' 0 is an even number'"
      ]
     },
     "metadata": {},
     "output_type": "display_data"
    },
    {
     "data": {
      "text/plain": [
       "' 1 is an odd number'"
      ]
     },
     "metadata": {},
     "output_type": "display_data"
    },
    {
     "data": {
      "text/plain": [
       "' 2 is an even number'"
      ]
     },
     "metadata": {},
     "output_type": "display_data"
    },
    {
     "data": {
      "text/plain": [
       "' 3 is an odd number'"
      ]
     },
     "metadata": {},
     "output_type": "display_data"
    },
    {
     "data": {
      "text/plain": [
       "' 4 is an even number'"
      ]
     },
     "metadata": {},
     "output_type": "display_data"
    },
    {
     "data": {
      "text/plain": [
       "' 5 is an odd number'"
      ]
     },
     "metadata": {},
     "output_type": "display_data"
    }
   ],
   "source": [
    "for i in range (-5, 6):\n",
    "    spc_char = '' if i < 0 else ' '\n",
    "\n",
    "    if i%2 == 0:\n",
    "        display(\"%s%g is an even number\" %(spc_char, i))\n",
    "    else:\n",
    "        display(\"%s%g is an odd number\" %(spc_char, i))"
   ]
  },
  {
   "cell_type": "markdown",
   "metadata": {},
   "source": []
  },
  {
   "cell_type": "markdown",
   "metadata": {
    "id": "qsk6J1shhucx"
   },
   "source": [
    "# VIDEO: Create interactive math functions"
   ]
  },
  {
   "cell_type": "code",
   "execution_count": 1,
   "metadata": {
    "id": "UNLyD268hucx"
   },
   "outputs": [],
   "source": [
    "# create a function that takes two numbers and reports the numbers, their integer division, and remainder\n",
    "\n",
    "# define the function\n",
    "def computeremainder(x,y):\n",
    "    division  = int( x/y )\n",
    "    remainder = x%y\n",
    "    \n",
    "    print(\"%g goes into %g, %g times with a remainder of %g.\" %(y,x,division,remainder))"
   ]
  },
  {
   "cell_type": "code",
   "execution_count": 2,
   "metadata": {
    "id": "TlXdMEOEhucy"
   },
   "outputs": [
    {
     "name": "stdout",
     "output_type": "stream",
     "text": [
      "3 goes into 10, 3 times with a remainder of 1.\n"
     ]
    }
   ],
   "source": [
    "computeremainder(10,3)"
   ]
  },
  {
   "cell_type": "code",
   "execution_count": 3,
   "metadata": {
    "id": "170aWiaOhucy"
   },
   "outputs": [],
   "source": [
    "# create a function that inputs two numbers and reports the numbers, their integer division, and remainder\n",
    "\n",
    "# define the function\n",
    "def computeremainder():\n",
    "    x = int( input('Input numerator: ') )\n",
    "    y = int( input('Input denominator: ') )\n",
    "    division  = int( x/y )\n",
    "    remainder = x%y\n",
    "    \n",
    "    print(\"%g goes into %g, %g times with a remainder of %g.\" %(y,x,division,remainder))"
   ]
  },
  {
   "cell_type": "code",
   "execution_count": 6,
   "metadata": {
    "id": "1hWgpoMwhucy"
   },
   "outputs": [
    {
     "name": "stdout",
     "output_type": "stream",
     "text": [
      "2 goes into 10, 5 times with a remainder of 0.\n"
     ]
    }
   ],
   "source": [
    "# now test the function!\n",
    "computeremainder()"
   ]
  },
  {
   "cell_type": "code",
   "execution_count": null,
   "metadata": {
    "id": "1uH-38_vhucy"
   },
   "outputs": [],
   "source": [
    "# create a function that takes two numbers as input, \n",
    "# and returns the larger-magnitude number to the power of the smaller-magnitude number\n",
    "\n",
    "def powerfun():\n",
    "    n1 = int( input('Input one number ') )\n",
    "    n2 = int( input('Input a second number ') )\n",
    "    \n",
    "    # test\n",
    "    if abs(n1)>abs(n2):\n",
    "        return n1,n2,n1**n2\n",
    "    else:\n",
    "        return n2,n1,n2**n1\n"
   ]
  },
  {
   "cell_type": "code",
   "execution_count": null,
   "metadata": {
    "id": "yVbPfpDHhucz"
   },
   "outputs": [],
   "source": [
    "# now test the function\n",
    "first,second,outcome = powerfun()\n",
    "\n",
    "display(Math('%g^{%g} = %g '%(first,second,outcome)))\n"
   ]
  },
  {
   "cell_type": "code",
   "execution_count": 13,
   "metadata": {},
   "outputs": [
    {
     "data": {
      "text/latex": [
       "$\\displaystyle Press \"1\" to compute\" \" 2^{3}\\text{ or \"2\" to compute }\\frac{2}{3}$"
      ],
      "text/plain": [
       "<IPython.core.display.Math object>"
      ]
     },
     "metadata": {},
     "output_type": "display_data"
    },
    {
     "data": {
      "text/latex": [
       "$\\displaystyle \\frac{2}{3} = 0.666667$"
      ],
      "text/plain": [
       "<IPython.core.display.Math object>"
      ]
     },
     "metadata": {},
     "output_type": "display_data"
    }
   ],
   "source": [
    "\n",
    "\n"
   ]
  },
  {
   "cell_type": "markdown",
   "metadata": {
    "id": "V8aVzDw2hucz"
   },
   "source": [
    "### Exercises"
   ]
  },
  {
   "cell_type": "code",
   "execution_count": 14,
   "metadata": {
    "id": "Z4k6xeObhucz"
   },
   "outputs": [],
   "source": [
    "# input three numbers from user, x, y, and a switch option\n",
    "#    Create two functions that will compute x**y and x/y\n",
    "#    call the appropriate function and print the result\n"
   ]
  },
  {
   "cell_type": "code",
   "execution_count": 16,
   "metadata": {},
   "outputs": [
    {
     "data": {
      "text/latex": [
       "$\\displaystyle \\text{Press \"1\" to compute }2^{3}\\text{ or \"2\" to compute }\\frac{2}{3}$"
      ],
      "text/plain": [
       "<IPython.core.display.Math object>"
      ]
     },
     "metadata": {},
     "output_type": "display_data"
    },
    {
     "data": {
      "text/latex": [
       "$\\displaystyle 2^{3} = 8$"
      ],
      "text/plain": [
       "<IPython.core.display.Math object>"
      ]
     },
     "metadata": {},
     "output_type": "display_data"
    }
   ],
   "source": [
    "from IPython.display import display,Math\n",
    "\n",
    "def power(x:int, y:int) -> None:\n",
    "    solution = x**y\n",
    "    display(Math('%g^{%g} = %g' %(x, y, solution)))\n",
    "    \n",
    "\n",
    "def division(x:int, y:int) -> None:\n",
    "    solution = x/y\n",
    "    display(Math('\\\\frac{%g}{%g} = %g' %(x, y, solution)))\n",
    "\n",
    "\n",
    "\n",
    "x = int(input('input X: '))\n",
    "y = int(input('input Y: '))\n",
    "display(Math('\\\\text{Press \"1\" to compute }%g^{%g}\\\\text{ or \"2\" to compute }\\\\frac{%g}{%g}' %(x,y,x,y)))\n",
    "\n",
    "choice = int(input(' '))\n",
    "    \n",
    "if choice == 1:\n",
    "    power(x, y)\n",
    "elif choice == 2:\n",
    "    division(x,y)\n",
    "else:\n",
    "    print('Invalid selection!')"
   ]
  },
  {
   "cell_type": "markdown",
   "metadata": {
    "id": "UJOR4zFuhucz"
   },
   "source": [
    "# VIDEO: Interactive functions: Guess the number!"
   ]
  },
  {
   "cell_type": "code",
   "execution_count": 17,
   "metadata": {
    "id": "1wxpR9xdhuc0"
   },
   "outputs": [],
   "source": [
    "# guess a number!\n",
    "# write code to generate a random integer and then input user guesses of that integer. \n",
    "# The code should tell the user to guess higher or lower until they get the right answer.\n",
    "\n",
    "from numpy import random\n",
    "\n",
    "def guessTheNumber():\n",
    "    num2guess = random.randint(1,101)\n",
    "    \n",
    "    userguess = int( input('Guess a number between 1 and 100  ') )\n",
    "    while userguess!=num2guess:\n",
    "        if userguess>num2guess:\n",
    "            print('Guess lower!')\n",
    "        elif userguess<num2guess:\n",
    "            print('Guess higher!')\n",
    "        \n",
    "        userguess = int( input('Guess again ') )\n",
    "    \n",
    "    print('Got it! The right number was %g and your final guess was %g'%(num2guess,userguess))\n"
   ]
  },
  {
   "cell_type": "code",
   "execution_count": 18,
   "metadata": {
    "id": "_1TgxXY3huc0"
   },
   "outputs": [
    {
     "name": "stdout",
     "output_type": "stream",
     "text": [
      "Guess higher!\n",
      "Guess higher!\n",
      "Guess higher!\n",
      "Guess lower!\n",
      "Guess lower!\n",
      "Got it! The right number was 83 and your final guess was 83\n"
     ]
    }
   ],
   "source": [
    "guessTheNumber()"
   ]
  },
  {
   "cell_type": "markdown",
   "metadata": {
    "id": "78jOFEduhuc0"
   },
   "source": [
    "# VIDEO: ARITHMETIC BUG HUNT!!!\n",
    "#### Note about this code: The code below shows the SOLUTIONS! \n",
    "\n",
    "You should first go through the file called \"MXC_pymath_arithmetic_bughunt.ipynb.\" \n",
    "\n",
    "Then you can check your answers here!"
   ]
  },
  {
   "cell_type": "code",
   "execution_count": null,
   "metadata": {
    "id": "VIEjmWZjhuc0"
   },
   "outputs": [],
   "source": [
    "x = '1'\n",
    "y = '2'\n",
    "\n",
    "print( int(x) + int(y) )"
   ]
  },
  {
   "cell_type": "code",
   "execution_count": null,
   "metadata": {
    "id": "O3fowG2Yhuc0"
   },
   "outputs": [],
   "source": [
    "display(Math('\\\\frac{1}{2}'))"
   ]
  },
  {
   "cell_type": "code",
   "execution_count": null,
   "metadata": {
    "id": "ZRB7A7kvhuc1"
   },
   "outputs": [],
   "source": [
    "x = 4\n",
    "y = 5\n",
    "display(Math('%g + %g = %g'%(x,y,x+y)))"
   ]
  },
  {
   "cell_type": "code",
   "execution_count": null,
   "metadata": {
    "id": "4HXAaLV_huc1"
   },
   "outputs": [],
   "source": [
    "display(Math('\\\\frac{%g}{%g} = %g'%(x,y,x/y)))"
   ]
  },
  {
   "cell_type": "code",
   "execution_count": null,
   "metadata": {
    "id": "fLRCp9iNhuc1"
   },
   "outputs": [],
   "source": [
    "3**2 # should equal 9"
   ]
  },
  {
   "cell_type": "code",
   "execution_count": null,
   "metadata": {
    "id": "pcIqCApVhuc1"
   },
   "outputs": [],
   "source": [
    "for i in range(0,3):\n",
    "    display(Math('%g\\\\times2 = %g'%(i,i*2)))"
   ]
  },
  {
   "cell_type": "code",
   "execution_count": null,
   "metadata": {
    "id": "txZugHR4huc1"
   },
   "outputs": [],
   "source": [
    "a = 10\n",
    "b = 20\n",
    "\n",
    "result = 2*a <= b\n",
    "\n",
    "print(result)"
   ]
  },
  {
   "cell_type": "code",
   "execution_count": null,
   "metadata": {
    "id": "u1JnlZjghuc2"
   },
   "outputs": [],
   "source": [
    "if a+b*2 > 40:\n",
    "    print(str(a+b*2) + ' is greater than ' + str(40) + '. Time to celebrate!')\n"
   ]
  },
  {
   "cell_type": "code",
   "execution_count": null,
   "metadata": {
    "id": "fePcOFvwhuc2"
   },
   "outputs": [],
   "source": [
    "var = input('input a number!')\n",
    "print(var)\n"
   ]
  },
  {
   "cell_type": "code",
   "execution_count": null,
   "metadata": {
    "id": "tI1iArzYhuc2"
   },
   "outputs": [],
   "source": [
    "# division\n",
    "4/10"
   ]
  },
  {
   "cell_type": "code",
   "execution_count": null,
   "metadata": {
    "id": "upDlLMu4huc2"
   },
   "outputs": [],
   "source": [
    "# sum two numbers\n",
    "w = float( input('Input a number: ') )\n",
    "z = float( input('Input another number: ') )\n",
    "\n",
    "print('The sum of %s and %s is %s' %(w,z,w+z))\n"
   ]
  },
  {
   "cell_type": "code",
   "execution_count": null,
   "metadata": {
    "id": "3P5ZEOTzhuc2"
   },
   "outputs": [],
   "source": [
    "display(Math('\\\\frac{9}{3} = ' + str(9/3)))"
   ]
  },
  {
   "cell_type": "code",
   "execution_count": null,
   "metadata": {
    "id": "m5I8j_MJhuc2"
   },
   "outputs": [],
   "source": [
    "display(Math('\\\\frac{9}{3} = ' + str(9/3)))"
   ]
  },
  {
   "cell_type": "code",
   "execution_count": null,
   "metadata": {
    "id": "PeX1tAushuc3"
   },
   "outputs": [],
   "source": [
    "# print the numbers 1 through 10\n",
    "t = 1\n",
    "while t<11:\n",
    "    print(t)\n",
    "    t=t+1"
   ]
  },
  {
   "cell_type": "code",
   "execution_count": null,
   "metadata": {
    "id": "3IV8H6anhuc3"
   },
   "outputs": [],
   "source": []
  }
 ],
 "metadata": {
  "colab": {
   "include_colab_link": true,
   "name": "MXC_pymath_arithmetic.ipynb",
   "provenance": []
  },
  "interpreter": {
   "hash": "797ffa668596b192db9eb2b6fe9134818528b629e5e16290c01706ef9a034204"
  },
  "kernelspec": {
   "display_name": "Python 3.9.7 64-bit ('ML_DS': conda)",
   "name": "python3"
  },
  "language_info": {
   "codemirror_mode": {
    "name": "ipython",
    "version": 3
   },
   "file_extension": ".py",
   "mimetype": "text/x-python",
   "name": "python",
   "nbconvert_exporter": "python",
   "pygments_lexer": "ipython3",
   "version": "3.9.7"
  }
 },
 "nbformat": 4,
 "nbformat_minor": 4
}
