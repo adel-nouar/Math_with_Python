{
  "nbformat": 4,
  "nbformat_minor": 2,
  "metadata": {
    "kernelspec": {
      "name": "python3",
      "display_name": "Python 3.9.7 64-bit ('ML_DS': conda)"
    },
    "language_info": {
      "codemirror_mode": {
        "name": "ipython",
        "version": 3
      },
      "file_extension": ".py",
      "mimetype": "text/x-python",
      "name": "python",
      "nbconvert_exporter": "python",
      "pygments_lexer": "ipython3",
      "version": "3.9.7"
    },
    "colab": {
      "name": "MXC_pymath_arithmetic.ipynb",
      "provenance": [],
      "include_colab_link": true
    },
    "interpreter": {
      "hash": "746800f96ece29ab8b5df47a779cb8f76655f7cf39bc7615a93fb17b55f50443"
    }
  },
  "cells": [
    {
      "cell_type": "markdown",
      "source": [
        "<a href=\"https://colab.research.google.com/github/adel-nouar/Math_with_Python/blob/main/Section02_pymath_arithmetic.ipynb\" target=\"_parent\"><img src=\"https://colab.research.google.com/assets/colab-badge.svg\" alt=\"Open In Colab\"/></a>"
      ],
      "metadata": {
        "id": "view-in-github",
        "colab_type": "text"
      }
    },
    {
      "cell_type": "markdown",
      "source": [
        "# COURSE: Master math by coding in Python\n",
        "## SECTION: Arithmetic\n",
        "\n",
        "#### https://www.udemy.com/course/math-with-python/?couponCode=MXC-DISC4ALL\n",
        "#### INSTRUCTOR: sincxpress.com\n",
        "\n",
        "Note about this code: Each video in this section of the course corresponds to a section of code below. Please note that this code roughly matches the code shown in the live recording, but is not exactly the same -- the variable names, order of lines, and parameters may be slightly different. "
      ],
      "metadata": {
        "id": "eLqP4-P1hucU"
      }
    },
    {
      "cell_type": "code",
      "execution_count": null,
      "source": [],
      "outputs": [],
      "metadata": {
        "id": "VseYzolLhucZ"
      }
    },
    {
      "cell_type": "markdown",
      "source": [
        "# VIDEO: Addition, subtraction, multiplication, division"
      ],
      "metadata": {
        "id": "ziL1zy6uhuca"
      }
    },
    {
      "cell_type": "markdown",
      "source": [
        "#### Addition"
      ],
      "metadata": {
        "id": "4_LiJ_Nahucb"
      }
    },
    {
      "cell_type": "code",
      "execution_count": 1,
      "source": [
        "# use Python like a calculator\n",
        "4+5 # press Ctrl-Enter to find the answer!"
      ],
      "outputs": [
        {
          "output_type": "execute_result",
          "data": {
            "text/plain": [
              "9"
            ]
          },
          "metadata": {},
          "execution_count": 1
        }
      ],
      "metadata": {
        "colab": {
          "base_uri": "https://localhost:8080/"
        },
        "id": "Xa3xdQNzhucb",
        "outputId": "12b8cebf-eed7-4a5d-e4a0-94d9dd34e47b"
      }
    },
    {
      "cell_type": "code",
      "execution_count": 2,
      "source": [
        "# can use multiple numbers at the same time:\n",
        "4 + 3/4 + 9.4"
      ],
      "outputs": [
        {
          "output_type": "execute_result",
          "data": {
            "text/plain": [
              "14.15"
            ]
          },
          "metadata": {},
          "execution_count": 2
        }
      ],
      "metadata": {
        "colab": {
          "base_uri": "https://localhost:8080/"
        },
        "id": "4qb1wm1khucc",
        "outputId": "838678e2-9341-4534-e572-02ee48c84290"
      }
    },
    {
      "cell_type": "markdown",
      "source": [
        "#### Subtraction"
      ],
      "metadata": {
        "id": "nygvfoSihucd"
      }
    },
    {
      "cell_type": "code",
      "execution_count": 3,
      "source": [
        "# exactly how you'd think it should work!\n",
        "4 - 3 - 1"
      ],
      "outputs": [
        {
          "output_type": "execute_result",
          "data": {
            "text/plain": [
              "0"
            ]
          },
          "metadata": {},
          "execution_count": 3
        }
      ],
      "metadata": {
        "colab": {
          "base_uri": "https://localhost:8080/"
        },
        "id": "UrhBcnTzhucd",
        "outputId": "6acbae27-efde-49ee-e15c-9df87d6677ce"
      }
    },
    {
      "cell_type": "markdown",
      "source": [
        "#### Multiplication"
      ],
      "metadata": {
        "id": "y-FwVXwXhuce"
      }
    },
    {
      "cell_type": "code",
      "execution_count": 4,
      "source": [
        "# Use * to indicate multiplication (not x!)\n",
        "3*4 "
      ],
      "outputs": [
        {
          "output_type": "execute_result",
          "data": {
            "text/plain": [
              "12"
            ]
          },
          "metadata": {},
          "execution_count": 4
        }
      ],
      "metadata": {
        "colab": {
          "base_uri": "https://localhost:8080/"
        },
        "id": "I-j3ed_Zhucf",
        "outputId": "0608652b-4e1c-47f3-ea96-096503f72f3f"
      }
    },
    {
      "cell_type": "code",
      "execution_count": 5,
      "source": [
        "# can mix operations\n",
        "3*4 - 3*2"
      ],
      "outputs": [
        {
          "output_type": "execute_result",
          "data": {
            "text/plain": [
              "6"
            ]
          },
          "metadata": {},
          "execution_count": 5
        }
      ],
      "metadata": {
        "scrolled": true,
        "colab": {
          "base_uri": "https://localhost:8080/"
        },
        "id": "Zu_553INhucf",
        "outputId": "5ddf0472-f156-49b9-e784-7e3793d16373"
      }
    },
    {
      "cell_type": "markdown",
      "source": [
        "#### Division"
      ],
      "metadata": {
        "id": "VAiusQT2hucg"
      }
    },
    {
      "cell_type": "code",
      "execution_count": 6,
      "source": [
        "# use /\n",
        "3/4"
      ],
      "outputs": [
        {
          "output_type": "execute_result",
          "data": {
            "text/plain": [
              "0.75"
            ]
          },
          "metadata": {},
          "execution_count": 6
        }
      ],
      "metadata": {
        "colab": {
          "base_uri": "https://localhost:8080/"
        },
        "id": "DHz7tABMhucg",
        "outputId": "d508a58b-32e4-4598-e77f-0a0dcc6fb4f4"
      }
    },
    {
      "cell_type": "code",
      "execution_count": 8,
      "source": [
        "# error! Always use the forward slash\n",
        "3\\4"
      ],
      "outputs": [
        {
          "output_type": "error",
          "ename": "SyntaxError",
          "evalue": "ignored",
          "traceback": [
            "\u001b[0;36m  File \u001b[0;32m\"<ipython-input-8-98e174cbfd99>\"\u001b[0;36m, line \u001b[0;32m2\u001b[0m\n\u001b[0;31m    3\\4\u001b[0m\n\u001b[0m       ^\u001b[0m\n\u001b[0;31mSyntaxError\u001b[0m\u001b[0;31m:\u001b[0m unexpected character after line continuation character\n"
          ]
        }
      ],
      "metadata": {
        "colab": {
          "base_uri": "https://localhost:8080/",
          "height": 131
        },
        "id": "WOdIy2-4huch",
        "outputId": "b95e251b-a320-4d0e-9fa6-a6de8ea6e0ed"
      }
    },
    {
      "cell_type": "code",
      "execution_count": 9,
      "source": [
        "(1 + 3) / 4"
      ],
      "outputs": [
        {
          "output_type": "execute_result",
          "data": {
            "text/plain": [
              "1.0"
            ]
          },
          "metadata": {},
          "execution_count": 9
        }
      ],
      "metadata": {
        "colab": {
          "base_uri": "https://localhost:8080/"
        },
        "id": "IuUhjaheiuKL",
        "outputId": "03d18750-8480-484a-e1ca-6aa3c4fea67b"
      }
    },
    {
      "cell_type": "markdown",
      "source": [
        "### Exercises!"
      ],
      "metadata": {
        "id": "vr3Rylvfhuch"
      }
    },
    {
      "cell_type": "code",
      "execution_count": 14,
      "source": [
        "#1) 5 - 2/4 x 3/5 = 4.7\n",
        "# 5 - 2/4 * 3/5  # Solution without parenthesis\n",
        "5 - (2/4) * (3/5) # It's better to use parenthesis for clarity "
      ],
      "outputs": [
        {
          "output_type": "execute_result",
          "data": {
            "text/plain": [
              "4.7"
            ]
          },
          "metadata": {},
          "execution_count": 14
        }
      ],
      "metadata": {
        "colab": {
          "base_uri": "https://localhost:8080/"
        },
        "id": "dwlqiwwohuch",
        "outputId": "541c770a-e35c-4181-a019-95b1faa219ee"
      }
    },
    {
      "cell_type": "code",
      "execution_count": 16,
      "source": [
        "#2) (4-5) / (3 + 5 x 6) = -0.303 (almost equal)\n",
        "(4 - 5) / (3 + (5 * 6))"
      ],
      "outputs": [
        {
          "output_type": "execute_result",
          "data": {
            "text/plain": [
              "-0.030303030303030304"
            ]
          },
          "metadata": {},
          "execution_count": 16
        }
      ],
      "metadata": {
        "colab": {
          "base_uri": "https://localhost:8080/"
        },
        "id": "d0M52Xjxhuci",
        "outputId": "1e453020-0666-4609-b0b9-f64226987273"
      }
    },
    {
      "cell_type": "markdown",
      "source": [
        "# VIDEO: Using variables in place of numbers"
      ],
      "metadata": {
        "id": "FaibVf9Hhuci"
      }
    },
    {
      "cell_type": "code",
      "execution_count": 19,
      "source": [
        "x = 7"
      ],
      "outputs": [],
      "metadata": {
        "id": "39RlntMchuci"
      }
    },
    {
      "cell_type": "code",
      "execution_count": 20,
      "source": [
        "x - 2"
      ],
      "outputs": [
        {
          "output_type": "execute_result",
          "data": {
            "text/plain": [
              "5"
            ]
          },
          "metadata": {},
          "execution_count": 20
        }
      ],
      "metadata": {
        "colab": {
          "base_uri": "https://localhost:8080/"
        },
        "id": "-ynA6a_bhucj",
        "outputId": "63c2f84b-939f-4310-9aed-64c835a4a458"
      }
    },
    {
      "cell_type": "code",
      "execution_count": 21,
      "source": [
        "x = 10"
      ],
      "outputs": [],
      "metadata": {
        "id": "21s7mEYQhucj"
      }
    },
    {
      "cell_type": "code",
      "execution_count": 23,
      "source": [
        "x = x-2*5\n",
        "x"
      ],
      "outputs": [
        {
          "output_type": "execute_result",
          "data": {
            "text/plain": [
              "-10"
            ]
          },
          "metadata": {},
          "execution_count": 23
        }
      ],
      "metadata": {
        "colab": {
          "base_uri": "https://localhost:8080/"
        },
        "id": "2PQeq3h1hucj",
        "outputId": "2cef401a-d1e0-4546-e64b-c92caea559f3"
      }
    },
    {
      "cell_type": "code",
      "execution_count": 24,
      "source": [
        "x = 10\n",
        "y = 20\n"
      ],
      "outputs": [],
      "metadata": {
        "id": "63elt7Tnhuck"
      }
    },
    {
      "cell_type": "code",
      "execution_count": 25,
      "source": [
        "x + y*z # can't use a variable before it's created!"
      ],
      "outputs": [
        {
          "output_type": "error",
          "ename": "NameError",
          "evalue": "ignored",
          "traceback": [
            "\u001b[0;31m---------------------------------------------------------------------------\u001b[0m",
            "\u001b[0;31mNameError\u001b[0m                                 Traceback (most recent call last)",
            "\u001b[0;32m<ipython-input-25-60419e8affa2>\u001b[0m in \u001b[0;36m<module>\u001b[0;34m()\u001b[0m\n\u001b[0;32m----> 1\u001b[0;31m \u001b[0mx\u001b[0m \u001b[0;34m+\u001b[0m \u001b[0my\u001b[0m\u001b[0;34m*\u001b[0m\u001b[0mz\u001b[0m \u001b[0;31m# can't use a variable before it's created!\u001b[0m\u001b[0;34m\u001b[0m\u001b[0;34m\u001b[0m\u001b[0m\n\u001b[0m",
            "\u001b[0;31mNameError\u001b[0m: name 'z' is not defined"
          ]
        }
      ],
      "metadata": {
        "colab": {
          "base_uri": "https://localhost:8080/",
          "height": 165
        },
        "id": "cWOfKe57huck",
        "outputId": "71414e8d-2cfd-489b-c718-2937df962d7e"
      }
    },
    {
      "cell_type": "code",
      "execution_count": 27,
      "source": [
        "z = 31\n",
        "x + y*z"
      ],
      "outputs": [
        {
          "output_type": "execute_result",
          "data": {
            "text/plain": [
              "630"
            ]
          },
          "metadata": {},
          "execution_count": 27
        }
      ],
      "metadata": {
        "colab": {
          "base_uri": "https://localhost:8080/"
        },
        "id": "dfdCzEiIhuck",
        "outputId": "8f62c1db-231c-4d71-812b-ac5cdf2a7b1f"
      }
    },
    {
      "cell_type": "code",
      "execution_count": 30,
      "source": [
        "NumberOfChocolateBars = .5\n",
        "mike = 10\n",
        "spike = 34\n",
        "mike + spike"
      ],
      "outputs": [
        {
          "output_type": "execute_result",
          "data": {
            "text/plain": [
              "44"
            ]
          },
          "metadata": {},
          "execution_count": 30
        }
      ],
      "metadata": {
        "colab": {
          "base_uri": "https://localhost:8080/"
        },
        "id": "QFtpf4DFlcrb",
        "outputId": "1b2a9e1d-482f-4c44-cd3c-52a5fb644595"
      }
    },
    {
      "cell_type": "code",
      "execution_count": 33,
      "source": [
        "x + y*z\n",
        "\n",
        "x - y*z\n",
        "\n",
        "print(x + y*z)\n",
        "print(x - y*z)"
      ],
      "outputs": [
        {
          "output_type": "stream",
          "name": "stdout",
          "text": [
            "630\n",
            "-610\n"
          ]
        }
      ],
      "metadata": {
        "colab": {
          "base_uri": "https://localhost:8080/"
        },
        "id": "7OkKon0fhucl",
        "outputId": "48581b0a-bcf7-4c6c-f2c4-b552cc5e5560"
      }
    },
    {
      "cell_type": "markdown",
      "source": [
        "### Exercises"
      ],
      "metadata": {
        "id": "yFbZUwoMhucl"
      }
    },
    {
      "cell_type": "code",
      "execution_count": 34,
      "source": [
        "# variables for the exercice\n",
        "x = 7\n",
        "y = -2\n",
        "z = 5"
      ],
      "outputs": [],
      "metadata": {
        "id": "xq2KYNaohucl"
      }
    },
    {
      "cell_type": "code",
      "execution_count": 36,
      "source": [
        "# 1)\n",
        "3 * x * (4 + y)"
      ],
      "outputs": [
        {
          "output_type": "execute_result",
          "data": {
            "text/plain": [
              "42"
            ]
          },
          "metadata": {},
          "execution_count": 36
        }
      ],
      "metadata": {
        "colab": {
          "base_uri": "https://localhost:8080/"
        },
        "id": "Ifv9qPQynDaT",
        "outputId": "47819794-1daa-4a89-95a6-495a4ead2532"
      }
    },
    {
      "cell_type": "code",
      "execution_count": 38,
      "source": [
        "# 2)\n",
        "-y - ((x + 3) / z)"
      ],
      "outputs": [
        {
          "output_type": "execute_result",
          "data": {
            "text/plain": [
              "0.0"
            ]
          },
          "metadata": {},
          "execution_count": 38
        }
      ],
      "metadata": {
        "colab": {
          "base_uri": "https://localhost:8080/"
        },
        "id": "NWNu8PBbhucl",
        "outputId": "54ee49f7-9652-4abe-9b4e-7562f6ba072e"
      }
    },
    {
      "cell_type": "markdown",
      "source": [],
      "metadata": {
        "id": "SFZS_DuMooIb"
      }
    },
    {
      "cell_type": "markdown",
      "source": [
        "# VIDEO: Printing out equations in IPython"
      ],
      "metadata": {
        "id": "3rn5uh5rhucm"
      }
    },
    {
      "cell_type": "code",
      "execution_count": 3,
      "source": [
        "# the line below will import special functions that are not otherwise available in the main Python environment\n",
        "from IPython.display import Math, display\n",
        "\n",
        "display('4 + 3 = 7')\n",
        "display('4 + 3 = ' + str(4+3)) # overloading display\n",
        "\n",
        "display(Math('4+3=7'))"
      ],
      "outputs": [
        {
          "output_type": "display_data",
          "data": {
            "text/plain": [
              "'4 + 3 = 7'"
            ]
          },
          "metadata": {}
        },
        {
          "output_type": "display_data",
          "data": {
            "text/plain": [
              "'4 + 3 = 7'"
            ]
          },
          "metadata": {}
        },
        {
          "output_type": "display_data",
          "data": {
            "text/latex": [
              "$\\displaystyle 4+3=7$"
            ],
            "text/plain": [
              "<IPython.core.display.Math object>"
            ]
          },
          "metadata": {}
        }
      ],
      "metadata": {
        "id": "9xO9xSC9hucm"
      }
    },
    {
      "cell_type": "code",
      "execution_count": 8,
      "source": [
        "# can also use string variables for printing\n",
        "\n",
        "expr = '4+5-9 = 0'\n",
        "\n",
        "display(expr)\n",
        "display(Math(expr)) # note that this line produces slightly nicer output\n",
        "\n",
        "x = 4\n",
        "y = 5\n",
        "\n",
        "display(Math('x+y='+str(x+y)))"
      ],
      "outputs": [
        {
          "output_type": "display_data",
          "data": {
            "text/plain": [
              "'4+5-9 = 0'"
            ]
          },
          "metadata": {}
        },
        {
          "output_type": "display_data",
          "data": {
            "text/latex": [
              "$\\displaystyle 4+5-9 = 0$"
            ],
            "text/plain": [
              "<IPython.core.display.Math object>"
            ]
          },
          "metadata": {}
        },
        {
          "output_type": "display_data",
          "data": {
            "text/latex": [
              "$\\displaystyle x+y=9$"
            ],
            "text/plain": [
              "<IPython.core.display.Math object>"
            ]
          },
          "metadata": {}
        }
      ],
      "metadata": {
        "id": "46LNHtFMhucm"
      }
    },
    {
      "cell_type": "code",
      "execution_count": 10,
      "source": [
        "# mixing variable types in outputs\n",
        "x = 4\n",
        "y = 5\n",
        "\n",
        "display(Math( str(x) + ' + ' + str(y) + ' = ' + str(x+y) )) # note: plus sign here is for concatenating strings, not for summing!\n",
        "\n",
        "display(Math('%g+%g = %g' %(x, y, x+y)))"
      ],
      "outputs": [
        {
          "output_type": "display_data",
          "data": {
            "text/latex": [
              "$\\displaystyle 4 + 5 = 9$"
            ],
            "text/plain": [
              "<IPython.core.display.Math object>"
            ]
          },
          "metadata": {}
        },
        {
          "output_type": "display_data",
          "data": {
            "text/latex": [
              "$\\displaystyle 4+5 = 9$"
            ],
            "text/plain": [
              "<IPython.core.display.Math object>"
            ]
          },
          "metadata": {}
        }
      ],
      "metadata": {
        "id": "QiDBoqnWhucm"
      }
    },
    {
      "cell_type": "code",
      "execution_count": 16,
      "source": [
        "# without using latex\n",
        "display(Math('4/5 = .8'))\n",
        "\n",
        "# with latex (much nicer!)\n",
        "display(Math('\\\\frac{4}{5} = ' + str(4/5)))\n",
        "\n"
      ],
      "outputs": [
        {
          "output_type": "display_data",
          "data": {
            "text/latex": [
              "$\\displaystyle 4/5 = .8$"
            ],
            "text/plain": [
              "<IPython.core.display.Math object>"
            ]
          },
          "metadata": {}
        },
        {
          "output_type": "display_data",
          "data": {
            "text/latex": [
              "$\\displaystyle \\frac{4}{5} = 0.8$"
            ],
            "text/plain": [
              "<IPython.core.display.Math object>"
            ]
          },
          "metadata": {}
        }
      ],
      "metadata": {
        "id": "DajA6Luchucm"
      }
    },
    {
      "cell_type": "code",
      "execution_count": 14,
      "source": [
        "# alternative method for integrating numbers with string text\n",
        "display(Math('\\\\frac{4}{5} = %g' %(4/5)))\n",
        "\n",
        "# Note: We'll be using the basics of substitution (%g and %s) in this course; for more details and formatting options, see\n",
        "# https://docs.python.org/3/library/stdtypes.html#printf-style-string-formatting\n"
      ],
      "outputs": [
        {
          "output_type": "display_data",
          "data": {
            "text/latex": [
              "$\\displaystyle \\frac{4}{5} = 0.8$"
            ],
            "text/plain": [
              "<IPython.core.display.Math object>"
            ]
          },
          "metadata": {}
        }
      ],
      "metadata": {
        "id": "eAPVZGWzhucn"
      }
    },
    {
      "cell_type": "code",
      "execution_count": 15,
      "source": [
        "# more variables in the same line\n",
        "\n",
        "x = 3.4\n",
        "y = 17\n",
        "\n",
        "display(Math('%g \\\\times %g = %g' %(x, y, x*y)))"
      ],
      "outputs": [
        {
          "output_type": "display_data",
          "data": {
            "text/latex": [
              "$\\displaystyle 3.4 \\times 17 = 57.8$"
            ],
            "text/plain": [
              "<IPython.core.display.Math object>"
            ]
          },
          "metadata": {}
        }
      ],
      "metadata": {
        "id": "eNVEBaeGhucn"
      }
    },
    {
      "cell_type": "markdown",
      "source": [],
      "metadata": {}
    },
    {
      "cell_type": "markdown",
      "source": [
        "### Exercises"
      ],
      "metadata": {
        "id": "DiWqY1RHhuco"
      }
    },
    {
      "cell_type": "code",
      "execution_count": 4,
      "source": [
        "# Variables used for exercises\n",
        "x = 7\n",
        "y = -2\n",
        "z = 5\n",
        "\n",
        "# 1)\n",
        "# ans = 3*x*(4+y)\n",
        "# display(Math('3x(4+y) = ' + str(ans)))\n",
        "# display(Math('3\\\\times%g(4+%g) = %g' %(x,y,ans) ))\n",
        "\n",
        "\n",
        "# 2)\n",
        "# ans = -y - (x+3)/z\n",
        "# display(Math('-y - \\\\frac{x+3}{z} = %g'%ans))\n",
        "\n",
        "# display(Math('-%g - \\\\frac{%g+3}{%g} = %g'%(y,x,z,ans)))"
      ],
      "outputs": [],
      "metadata": {
        "id": "9ojP2okNhuco"
      }
    },
    {
      "cell_type": "code",
      "execution_count": 10,
      "source": [
        "# 1)\n",
        "solution = 3 * x * (4 + y)\n",
        "display(Math(\"3\\\\times %g(4+%g)=%g\"%(x, y, solution)))"
      ],
      "outputs": [
        {
          "output_type": "display_data",
          "data": {
            "text/latex": [
              "$\\displaystyle 3\\times 7(4+-2)=42$"
            ],
            "text/plain": [
              "<IPython.core.display.Math object>"
            ]
          },
          "metadata": {}
        }
      ],
      "metadata": {}
    },
    {
      "cell_type": "code",
      "execution_count": 14,
      "source": [
        "# 2)\n",
        "solution = -y - ((x + 3) / z)\n",
        "display(Math(\"-%g- \\\\frac{%g + 3}{%g} = %g\"%(y, x, z, solution)))"
      ],
      "outputs": [
        {
          "output_type": "display_data",
          "data": {
            "text/latex": [
              "$\\displaystyle --2- \\frac{7 + 3}{5} = 0$"
            ],
            "text/plain": [
              "<IPython.core.display.Math object>"
            ]
          },
          "metadata": {}
        }
      ],
      "metadata": {}
    },
    {
      "cell_type": "markdown",
      "source": [
        "# VIDEO: Writing comments in Python"
      ],
      "metadata": {}
    },
    {
      "cell_type": "code",
      "execution_count": 17,
      "source": [
        "y = 3\n",
        "x = 5\n",
        "x"
      ],
      "outputs": [
        {
          "output_type": "execute_result",
          "data": {
            "text/plain": [
              "5"
            ]
          },
          "metadata": {},
          "execution_count": 17
        }
      ],
      "metadata": {}
    },
    {
      "cell_type": "code",
      "execution_count": null,
      "source": [
        "# First type of comment\n",
        "\n",
        "# Shortcut in the notebook to comments and uncomment (line or paragraph): \n",
        "# Ctrl + /\n",
        "\"\"\"\n",
        "Second type of comment \n",
        "\"\"\""
      ],
      "outputs": [],
      "metadata": {}
    },
    {
      "cell_type": "markdown",
      "source": [
        "# TODO: AFTER HERE\n",
        "-------------------------------------------------------------------------------"
      ],
      "metadata": {}
    },
    {
      "cell_type": "markdown",
      "source": [
        "# VIDEO: Exponents (powers)"
      ],
      "metadata": {
        "id": "E1Xelwj4huco"
      }
    },
    {
      "cell_type": "code",
      "execution_count": null,
      "source": [
        "# use **\n",
        "3**2"
      ],
      "outputs": [],
      "metadata": {
        "id": "2R4JWZpMhuco"
      }
    },
    {
      "cell_type": "code",
      "execution_count": null,
      "source": [
        "# careful not to confuse with ^\n",
        "3^1\n",
        "# this is actually the symbol for the XOR logical problem"
      ],
      "outputs": [],
      "metadata": {
        "id": "sbGEbhN1huco"
      }
    },
    {
      "cell_type": "code",
      "execution_count": null,
      "source": [
        "# variables can also be useful\n",
        "x = 2\n",
        "3**x"
      ],
      "outputs": [],
      "metadata": {
        "id": "pItX9lTIhucp"
      }
    },
    {
      "cell_type": "code",
      "execution_count": null,
      "source": [
        "# Note about importing functions or modules: You need to do this only once per session.\n",
        "# Thus, you don't need the following line if you've already imported these functions.\n",
        "# On the other hand, it doesn't hurt to import multiple times ;)\n",
        "from IPython.display import display, Math\n",
        "\n",
        "\n",
        "# using the print function\n",
        "print( 2**x )\n",
        "\n",
        "# print out the whole equation\n",
        "display(Math('x^%g = %g'%(x,2**x)))"
      ],
      "outputs": [],
      "metadata": {
        "id": "nxeRnmUvhucp"
      }
    },
    {
      "cell_type": "code",
      "execution_count": null,
      "source": [
        "# the law of exponents\n",
        "print(3**3)\n",
        "print(3*3*3)"
      ],
      "outputs": [],
      "metadata": {
        "id": "vqp6wrjBhucp"
      }
    },
    {
      "cell_type": "code",
      "execution_count": null,
      "source": [
        "print( 3**2 * 3**4 )\n",
        "print( 3**(2+4) )"
      ],
      "outputs": [],
      "metadata": {
        "id": "i3C_vLVdhucp"
      }
    },
    {
      "cell_type": "code",
      "execution_count": null,
      "source": [
        "# square root as fractional power\n",
        "x**(1/2)"
      ],
      "outputs": [],
      "metadata": {
        "id": "JjytEvS8hucp"
      }
    },
    {
      "cell_type": "markdown",
      "source": [
        "### Exercises"
      ],
      "metadata": {
        "id": "NyQNK_n9hucq"
      }
    },
    {
      "cell_type": "code",
      "execution_count": null,
      "source": [
        "x = 5\n",
        "y = 5.1\n",
        "\n",
        "# 1)\n",
        "ans = x**(3/4) * 4**y\n",
        "display(Math('x^{3/4}\\\\times 4^y = %g'%ans))\n",
        "\n",
        "# 2)\n",
        "solution = (3**3) / (x**y)\n",
        "display(Math('\\\\frac{3^3}{x^y} = %g'%solution))\n",
        "\n",
        "# 3)\n",
        "ans = 10**(x-4)\n",
        "display(Math('10^{x-4} = %g'%ans))"
      ],
      "outputs": [],
      "metadata": {
        "id": "P2wpFLZBhucq"
      }
    },
    {
      "cell_type": "markdown",
      "source": [
        "# VIDEO: Using for-loops to compute powers"
      ],
      "metadata": {
        "id": "0WWo7lKohucq"
      }
    },
    {
      "cell_type": "code",
      "execution_count": null,
      "source": [
        "# basic for loop construction\n",
        "\n",
        "for i in [0,1,2,3]:\n",
        "    print(i)\n"
      ],
      "outputs": [],
      "metadata": {
        "id": "CFQZqeDihucq"
      }
    },
    {
      "cell_type": "code",
      "execution_count": null,
      "source": [
        "# using the range function\n",
        "list( range(0,3) )"
      ],
      "outputs": [],
      "metadata": {
        "id": "NBT9Ix7Fhucq"
      }
    },
    {
      "cell_type": "code",
      "execution_count": null,
      "source": [
        "for i in range(0,3):\n",
        "    print('This is the %gth element.'%i)"
      ],
      "outputs": [],
      "metadata": {
        "id": "Pemnxo2Bhucr"
      }
    },
    {
      "cell_type": "code",
      "execution_count": null,
      "source": [
        "for i in range(0,5):\n",
        "    num = i**2\n",
        "    print(num)"
      ],
      "outputs": [],
      "metadata": {
        "id": "3r0qVK9khucr"
      }
    },
    {
      "cell_type": "markdown",
      "source": [
        "### Exercises"
      ],
      "metadata": {
        "id": "P8cuN_Z6hucr"
      }
    },
    {
      "cell_type": "code",
      "execution_count": null,
      "source": [
        "# write code to print the following:\n",
        "# 2 to the power of 0 is 1\n",
        "# and so on for 2**0 through 2**9\n",
        "\n",
        "base = 2\n",
        "\n",
        "for i in range(0,10):\n",
        "    print('%g to the power of %g is %g'%(base,i,base**i))"
      ],
      "outputs": [],
      "metadata": {
        "id": "pJnFcLVShucr"
      }
    },
    {
      "cell_type": "markdown",
      "source": [
        "# VIDEO: Order of operations"
      ],
      "metadata": {
        "id": "zUxbywVwhucr"
      }
    },
    {
      "cell_type": "markdown",
      "source": [
        "## Reminder about order of operations:\n",
        "PEMDAS:\n",
        "\n",
        "    Parentheses\n",
        "    Exponents\n",
        "    Multiplication\n",
        "    Division\n",
        "    Addition\n",
        "    Subtraction\n",
        "    \n",
        "(Please excuse my dear aunt Sally)\n"
      ],
      "metadata": {
        "scrolled": true,
        "id": "-0qlL52rhucr"
      }
    },
    {
      "cell_type": "code",
      "execution_count": null,
      "source": [
        "# examples from slides\n",
        "\n",
        "print( 4 + 3 * 2 - 1 ) # spacing has no effect\n"
      ],
      "outputs": [],
      "metadata": {
        "id": "nD6J_gAYhucs"
      }
    },
    {
      "cell_type": "code",
      "execution_count": null,
      "source": [
        "# will this be 24 or 10?\n",
        "4 + 2 * 3"
      ],
      "outputs": [],
      "metadata": {
        "id": "FtHnv9rihucs"
      }
    },
    {
      "cell_type": "code",
      "execution_count": null,
      "source": [
        "# how about this one? can you make the be 7 or -11?\n",
        "2 - 4 + 9"
      ],
      "outputs": [],
      "metadata": {
        "id": "2a85Q3nuhucs"
      }
    },
    {
      "cell_type": "markdown",
      "source": [
        "### Exercises"
      ],
      "metadata": {
        "id": "taQ4-n2Ehucs"
      }
    },
    {
      "cell_type": "code",
      "execution_count": null,
      "source": [
        "# add parentheses as needed to make the following equations true\n",
        "\n",
        "# 1) \n",
        "print( 4*5/(7+3) )\n",
        "\n",
        "# 2)\n",
        "print( 9/(3+6)-1 )\n"
      ],
      "outputs": [],
      "metadata": {
        "id": "X41TGP5zhucs"
      }
    },
    {
      "cell_type": "markdown",
      "source": [
        "# VIDEO: Testing inequalities and Boolean data type"
      ],
      "metadata": {
        "id": "hHa-A94ohuct"
      }
    },
    {
      "cell_type": "code",
      "execution_count": null,
      "source": [
        "# The result of the below expression can only be True or False\n",
        "4>5"
      ],
      "outputs": [],
      "metadata": {
        "id": "6YhW6aIThuct"
      }
    },
    {
      "cell_type": "code",
      "execution_count": null,
      "source": [
        "print(5<5.1)"
      ],
      "outputs": [],
      "metadata": {
        "id": "HUjenyOLhuct"
      }
    },
    {
      "cell_type": "code",
      "execution_count": null,
      "source": [
        "b = 10 > 3*3.33334\n",
        "\n",
        "print(b)\n",
        "print(type(b)) # the variable class is boolean"
      ],
      "outputs": [],
      "metadata": {
        "id": "S8qw_KQPhuct"
      }
    },
    {
      "cell_type": "code",
      "execution_count": null,
      "source": [
        "4 >= 2+2"
      ],
      "outputs": [],
      "metadata": {
        "id": "_JlIHtH2huct"
      }
    },
    {
      "cell_type": "code",
      "execution_count": null,
      "source": [
        "5 <= 3*2-1.00000000001"
      ],
      "outputs": [],
      "metadata": {
        "id": "0FiJpVpRhuct"
      }
    },
    {
      "cell_type": "code",
      "execution_count": null,
      "source": [
        "# testing for equalities requires two equals signs\n",
        "\n",
        "# 4 = 4\n",
        "4 == 4\n",
        "\n",
        "test = 4 == 5\n",
        "print(test)\n"
      ],
      "outputs": [],
      "metadata": {
        "id": "uHJ_JF6Qhuct"
      }
    },
    {
      "cell_type": "markdown",
      "source": [
        "### Exercises"
      ],
      "metadata": {
        "id": "LUBho5Q3hucu"
      }
    },
    {
      "cell_type": "code",
      "execution_count": null,
      "source": [
        "# which variable value(s) will make the following inequalities true?\n",
        "# comment out the incorrect answers!\n",
        "x = 2\n",
        "x = 3\n",
        "x = 4\n",
        "\n",
        "# 1)\n",
        "print( 4*x+3 < 17-x**2 )\n",
        "\n",
        "#2) \n",
        "print( 8*x - 2 <= -3*x + 42 )"
      ],
      "outputs": [],
      "metadata": {
        "id": "RyUmgimAhucu"
      }
    },
    {
      "cell_type": "markdown",
      "source": [
        "# VIDEO: If-statements and logical operators"
      ],
      "metadata": {
        "id": "Gg8_UNwThucu"
      }
    },
    {
      "cell_type": "code",
      "execution_count": null,
      "source": [
        "# start with basics:\n",
        "if 4+2 == 6:\n",
        "    print('True!')\n",
        "else:\n",
        "    print('Nope!')"
      ],
      "outputs": [],
      "metadata": {
        "id": "qJKmoi6xhucu"
      }
    },
    {
      "cell_type": "code",
      "execution_count": null,
      "source": [
        "# using variables\n",
        "\n",
        "x1 = 3\n",
        "x2 = 4\n",
        "\n",
        "if x1>x2:\n",
        "    print('%g is greater than %g' %(x1,x2))\n",
        "elif x1<x2:\n",
        "    print('%g is greater than %g' %(x2,x1))\n",
        "else:\n",
        "    print('%g is equal to %g' %(x1,x2))\n"
      ],
      "outputs": [],
      "metadata": {
        "id": "niwSgh-thucu"
      }
    },
    {
      "cell_type": "code",
      "execution_count": null,
      "source": [
        "# with logical operators\n",
        "\n",
        "x = 1\n",
        "y = 2\n",
        "z = 3\n",
        "\n",
        "if x+y<z or x-z>y:\n",
        "    print('Yeah, the first thing.')\n",
        "elif 2*x+y>z and 2*z-x>y:\n",
        "    print('the second thing')\n"
      ],
      "outputs": [],
      "metadata": {
        "id": "QlFerwD4hucu"
      }
    },
    {
      "cell_type": "markdown",
      "source": [
        "### Exercise"
      ],
      "metadata": {
        "id": "NgTu40lfhucv"
      }
    },
    {
      "cell_type": "code",
      "execution_count": null,
      "source": [
        "from IPython.display import display, Math\n",
        "\n",
        "for i in range(0,4):\n",
        "    for j in range(0,5):\n",
        "        if j>0 and i>0:\n",
        "            display(Math('%g^{-%g} = %g' %(i,j,i**-j)))"
      ],
      "outputs": [],
      "metadata": {
        "id": "Bqh_QcUuhucv"
      }
    },
    {
      "cell_type": "markdown",
      "source": [
        "# VIDEO: Absolute value"
      ],
      "metadata": {
        "id": "ygdXQ19hhucv"
      }
    },
    {
      "cell_type": "code",
      "execution_count": null,
      "source": [
        "a = -4\n",
        "abs(a)"
      ],
      "outputs": [],
      "metadata": {
        "id": "0NAUkN1Ehucv"
      }
    },
    {
      "cell_type": "code",
      "execution_count": null,
      "source": [
        "b = abs(a)\n",
        "a,b"
      ],
      "outputs": [],
      "metadata": {
        "id": "YwXEInXOhucv"
      }
    },
    {
      "cell_type": "code",
      "execution_count": null,
      "source": [
        "# printing out with latex\n",
        "x = -4.3\n",
        "\n",
        "# If the following line crashes, you need to import the display and Math functions as shown earlier\n",
        "display(Math('|%g| = %g' %(x,abs(x)) ))"
      ],
      "outputs": [],
      "metadata": {
        "id": "fuN8Nu2whucv"
      }
    },
    {
      "cell_type": "markdown",
      "source": [
        "### Exercise"
      ],
      "metadata": {
        "id": "RsAk7zThhucw"
      }
    },
    {
      "cell_type": "code",
      "execution_count": null,
      "source": [
        "# report the absolute value of a set of numbers only if they are less than -5 or greater than +2\n",
        "numbers = [-4,6,-1,43,-18,2,0]\n",
        "\n",
        "# for-loop\n",
        "for i in numbers:\n",
        "    if i<-5 or i>2:\n",
        "        print( 'Absolute value of %g is %g.' %(i,abs(i)) )\n",
        "    else:\n",
        "        print( str(i) + ' was not tested.' )"
      ],
      "outputs": [],
      "metadata": {
        "id": "jjnn4nPMhucw"
      }
    },
    {
      "cell_type": "markdown",
      "source": [
        "# VIDEO: Remainder after division (modulus)"
      ],
      "metadata": {
        "id": "srBkQe_Qhucw"
      }
    },
    {
      "cell_type": "code",
      "execution_count": null,
      "source": [
        "# pick some numbers\n",
        "a = 10\n",
        "b = 3\n",
        "\n",
        "# division\n",
        "a/b"
      ],
      "outputs": [],
      "metadata": {
        "id": "WcdKiFDihucw"
      }
    },
    {
      "cell_type": "code",
      "execution_count": null,
      "source": [
        "# integer division\n",
        "int(a/b)"
      ],
      "outputs": [],
      "metadata": {
        "id": "eK74d5bGhucw"
      }
    },
    {
      "cell_type": "code",
      "execution_count": null,
      "source": [
        "# with a remainder!\n",
        "a%b"
      ],
      "outputs": [],
      "metadata": {
        "id": "HYEV8_Aohucx"
      }
    },
    {
      "cell_type": "code",
      "execution_count": null,
      "source": [
        "# now for a nicer printing\n",
        "# set variables for outputs\n",
        "divis = int(a/b)\n",
        "remainder = a%b\n",
        "\n",
        "print(\"%g goes into %g, %g times with a remainder of %g.\" %(b,a,divis,remainder))"
      ],
      "outputs": [],
      "metadata": {
        "id": "P0fnSoROhucx"
      }
    },
    {
      "cell_type": "markdown",
      "source": [
        "### Exercises"
      ],
      "metadata": {
        "id": "oK97yaEGhucx"
      }
    },
    {
      "cell_type": "code",
      "execution_count": null,
      "source": [
        "# determining whether a number is odd or even\n",
        "\n",
        "nums = range(-5,6)\n",
        "\n",
        "for i in nums:\n",
        "    \n",
        "    # check for first character spacing\n",
        "    firstchar = '' if i<0 else ' '\n",
        "    \n",
        "    # test and report\n",
        "    if i%2 == 0:\n",
        "        print('%s%g is an even number' %(firstchar,i))\n",
        "    else:\n",
        "        print('%s%g is an odd  number' %(firstchar,i))"
      ],
      "outputs": [],
      "metadata": {
        "id": "rmEKNTBchucx"
      }
    },
    {
      "cell_type": "markdown",
      "source": [
        "# VIDEO: Create interactive math functions"
      ],
      "metadata": {
        "id": "qsk6J1shhucx"
      }
    },
    {
      "cell_type": "code",
      "execution_count": null,
      "source": [
        "# create a function that takes two numbers and reports the numbers, their integer division, and remainder\n",
        "\n",
        "# define the function\n",
        "def computeremainder(x,y):\n",
        "    division  = int( x/y )\n",
        "    remainder = x%y\n",
        "    \n",
        "    print(\"%g goes into %g, %g times with a remainder of %g.\" %(y,x,division,remainder))"
      ],
      "outputs": [],
      "metadata": {
        "id": "UNLyD268hucx"
      }
    },
    {
      "cell_type": "code",
      "execution_count": null,
      "source": [
        "computeremainder(10,3)"
      ],
      "outputs": [],
      "metadata": {
        "id": "TlXdMEOEhucy"
      }
    },
    {
      "cell_type": "code",
      "execution_count": null,
      "source": [
        "# create a function that inputs two numbers and reports the numbers, their integer division, and remainder\n",
        "\n",
        "# define the function\n",
        "def computeremainder():\n",
        "    x = int( input('Input numerator: ') )\n",
        "    y = int( input('Input denominator: ') )\n",
        "    division  = int( x/y )\n",
        "    remainder = x%y\n",
        "    \n",
        "    print(\"%g goes into %g, %g times with a remainder of %g.\" %(y,x,division,remainder))"
      ],
      "outputs": [],
      "metadata": {
        "id": "170aWiaOhucy"
      }
    },
    {
      "cell_type": "code",
      "execution_count": null,
      "source": [
        "# now test the function!\n",
        "computeremainder()"
      ],
      "outputs": [],
      "metadata": {
        "id": "1hWgpoMwhucy"
      }
    },
    {
      "cell_type": "code",
      "execution_count": null,
      "source": [
        "# create a function that takes two numbers as input, \n",
        "# and returns the larger-magnitude number to the power of the smaller-magnitude number\n",
        "\n",
        "def powerfun():\n",
        "    n1 = int( input('Input one number ') )\n",
        "    n2 = int( input('Input a second number ') )\n",
        "    \n",
        "    # test\n",
        "    if abs(n1)>abs(n2):\n",
        "        return n1,n2,n1**n2\n",
        "    else:\n",
        "        return n2,n1,n2**n1\n"
      ],
      "outputs": [],
      "metadata": {
        "id": "1uH-38_vhucy"
      }
    },
    {
      "cell_type": "code",
      "execution_count": null,
      "source": [
        "# now test the function\n",
        "first,second,outcome = powerfun()\n",
        "\n",
        "display(Math('%g^{%g} = %g '%(first,second,outcome)))\n"
      ],
      "outputs": [],
      "metadata": {
        "id": "yVbPfpDHhucz"
      }
    },
    {
      "cell_type": "markdown",
      "source": [
        "### Exercises"
      ],
      "metadata": {
        "id": "V8aVzDw2hucz"
      }
    },
    {
      "cell_type": "code",
      "execution_count": null,
      "source": [
        "# input three numbers from user, x, y, and a switch option\n",
        "#    Create two functions that will compute x**y and x/y\n",
        "#    call the appropriate function and print the result\n",
        "\n",
        "from IPython.display import display,Math\n",
        "\n",
        "# create functions\n",
        "def powers(x,y):\n",
        "    display(Math('%g^{%g} = %g' %(x,y,x**y)))\n",
        "\n",
        "def division(x,y):\n",
        "    display(Math('\\\\frac{%g}{%g} = %g' %(x,y,x/y)))\n",
        "    \n",
        "def mainfunction():\n",
        "    x = int(input('input X: '))\n",
        "    y = int(input('input Y: '))\n",
        "    display(Math('Press \"1\" to compute %g^{%g}\\\\text{ or \"2\" to compute }\\\\frac{%g}{%g}' %(x,y,x,y)))\n",
        "    which = int(input(' '))\n",
        "    \n",
        "    if which==1:\n",
        "        powers(x,y)\n",
        "    elif which==2:\n",
        "        division(x,y)\n",
        "    else:\n",
        "        print('Invalid selection!')\n"
      ],
      "outputs": [],
      "metadata": {
        "id": "Z4k6xeObhucz"
      }
    },
    {
      "cell_type": "code",
      "execution_count": null,
      "source": [
        "# run the main function\n",
        "\n",
        "mainfunction()\n"
      ],
      "outputs": [],
      "metadata": {
        "id": "TNGl7FWihucz"
      }
    },
    {
      "cell_type": "code",
      "execution_count": null,
      "source": [
        "float(input(' '))"
      ],
      "outputs": [],
      "metadata": {
        "id": "z12MmW3Whucz"
      }
    },
    {
      "cell_type": "markdown",
      "source": [
        "# VIDEO: Interactive functions: Guess the number!"
      ],
      "metadata": {
        "id": "UJOR4zFuhucz"
      }
    },
    {
      "cell_type": "code",
      "execution_count": null,
      "source": [
        "# guess a number!\n",
        "# write code to generate a random integer and then input user guesses of that integer. \n",
        "# The code should tell the user to guess higher or lower until they get the right answer.\n",
        "\n",
        "from numpy import random\n",
        "\n",
        "def guessTheNumber():\n",
        "    num2guess = random.randint(1,101)\n",
        "    \n",
        "    userguess = int( input('Guess a number between 1 and 100  ') )\n",
        "    while userguess!=num2guess:\n",
        "        if userguess>num2guess:\n",
        "            print('Guess lower!')\n",
        "        elif userguess<num2guess:\n",
        "            print('Guess higher!')\n",
        "        \n",
        "        userguess = int( input('Guess again ') )\n",
        "    \n",
        "    print('Got it! The right number was %g and your final guess was %g'%(num2guess,userguess))\n"
      ],
      "outputs": [],
      "metadata": {
        "id": "1wxpR9xdhuc0"
      }
    },
    {
      "cell_type": "code",
      "execution_count": null,
      "source": [
        "guessTheNumber()"
      ],
      "outputs": [],
      "metadata": {
        "id": "_1TgxXY3huc0"
      }
    },
    {
      "cell_type": "markdown",
      "source": [
        "# VIDEO: ARITHMETIC BUG HUNT!!!\n",
        "#### Note about this code: The code below shows the SOLUTIONS! \n",
        "\n",
        "You should first go through the file called \"MXC_pymath_arithmetic_bughunt.ipynb.\" \n",
        "\n",
        "Then you can check your answers here!"
      ],
      "metadata": {
        "id": "78jOFEduhuc0"
      }
    },
    {
      "cell_type": "code",
      "execution_count": null,
      "source": [
        "x = '1'\n",
        "y = '2'\n",
        "\n",
        "print( int(x) + int(y) )"
      ],
      "outputs": [],
      "metadata": {
        "id": "VIEjmWZjhuc0"
      }
    },
    {
      "cell_type": "code",
      "execution_count": null,
      "source": [
        "display(Math('\\\\frac{1}{2}'))"
      ],
      "outputs": [],
      "metadata": {
        "id": "O3fowG2Yhuc0"
      }
    },
    {
      "cell_type": "code",
      "execution_count": null,
      "source": [
        "x = 4\n",
        "y = 5\n",
        "display(Math('%g + %g = %g'%(x,y,x+y)))"
      ],
      "outputs": [],
      "metadata": {
        "id": "ZRB7A7kvhuc1"
      }
    },
    {
      "cell_type": "code",
      "execution_count": null,
      "source": [
        "display(Math('\\\\frac{%g}{%g} = %g'%(x,y,x/y)))"
      ],
      "outputs": [],
      "metadata": {
        "id": "4HXAaLV_huc1"
      }
    },
    {
      "cell_type": "code",
      "execution_count": null,
      "source": [
        "3**2 # should equal 9"
      ],
      "outputs": [],
      "metadata": {
        "id": "fLRCp9iNhuc1"
      }
    },
    {
      "cell_type": "code",
      "execution_count": null,
      "source": [
        "for i in range(0,3):\n",
        "    display(Math('%g\\\\times2 = %g'%(i,i*2)))"
      ],
      "outputs": [],
      "metadata": {
        "id": "pcIqCApVhuc1"
      }
    },
    {
      "cell_type": "code",
      "execution_count": null,
      "source": [
        "a = 10\n",
        "b = 20\n",
        "\n",
        "result = 2*a <= b\n",
        "\n",
        "print(result)"
      ],
      "outputs": [],
      "metadata": {
        "id": "txZugHR4huc1"
      }
    },
    {
      "cell_type": "code",
      "execution_count": null,
      "source": [
        "if a+b*2 > 40:\n",
        "    print(str(a+b*2) + ' is greater than ' + str(40) + '. Time to celebrate!')\n"
      ],
      "outputs": [],
      "metadata": {
        "id": "u1JnlZjghuc2"
      }
    },
    {
      "cell_type": "code",
      "execution_count": null,
      "source": [
        "var = input('input a number!')\n",
        "print(var)\n"
      ],
      "outputs": [],
      "metadata": {
        "id": "fePcOFvwhuc2"
      }
    },
    {
      "cell_type": "code",
      "execution_count": null,
      "source": [
        "# division\n",
        "4/10"
      ],
      "outputs": [],
      "metadata": {
        "id": "tI1iArzYhuc2"
      }
    },
    {
      "cell_type": "code",
      "execution_count": null,
      "source": [
        "# sum two numbers\n",
        "w = float( input('Input a number: ') )\n",
        "z = float( input('Input another number: ') )\n",
        "\n",
        "print('The sum of %s and %s is %s' %(w,z,w+z))\n"
      ],
      "outputs": [],
      "metadata": {
        "id": "upDlLMu4huc2"
      }
    },
    {
      "cell_type": "code",
      "execution_count": null,
      "source": [
        "display(Math('\\\\frac{9}{3} = ' + str(9/3)))"
      ],
      "outputs": [],
      "metadata": {
        "id": "3P5ZEOTzhuc2"
      }
    },
    {
      "cell_type": "code",
      "execution_count": null,
      "source": [
        "display(Math('\\\\frac{9}{3} = ' + str(9/3)))"
      ],
      "outputs": [],
      "metadata": {
        "id": "m5I8j_MJhuc2"
      }
    },
    {
      "cell_type": "code",
      "execution_count": null,
      "source": [
        "# print the numbers 1 through 10\n",
        "t = 1\n",
        "while t<11:\n",
        "    print(t)\n",
        "    t=t+1"
      ],
      "outputs": [],
      "metadata": {
        "id": "PeX1tAushuc3"
      }
    },
    {
      "cell_type": "code",
      "execution_count": null,
      "source": [],
      "outputs": [],
      "metadata": {
        "id": "3IV8H6anhuc3"
      }
    }
  ]
}