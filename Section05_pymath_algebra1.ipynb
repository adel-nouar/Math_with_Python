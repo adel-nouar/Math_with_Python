{
 "cells": [
  {
   "cell_type": "markdown",
   "metadata": {},
   "source": [
    "# COURSE: Master math by coding in Python\n",
    "## SECTION: Algebra 1\n",
    "\n",
    "#### https://www.udemy.com/course/math-with-python/?couponCode=MXC-DISC4ALL\n",
    "#### INSTRUCTOR: sincxpress.com\n",
    "\n",
    "Note about this code: Each video in this section of the course corresponds to a section of code below. Please note that this code roughly matches the code shown in the live recording, but is not exactly the same -- the variable names, order of lines, and parameters may be slightly different. "
   ]
  },
  {
   "cell_type": "code",
   "execution_count": null,
   "metadata": {},
   "outputs": [],
   "source": []
  },
  {
   "cell_type": "markdown",
   "metadata": {},
   "source": []
  },
  {
   "cell_type": "code",
   "execution_count": null,
   "metadata": {},
   "outputs": [],
   "source": [
    "# It's generally good practice to import all required modules at the top of the script!\n",
    "import sympy as sym\n",
    "import numpy as np\n",
    "from IPython.display import display, Math"
   ]
  },
  {
   "cell_type": "markdown",
   "metadata": {},
   "source": [
    "# VIDEO: Solving for x"
   ]
  },
  {
   "cell_type": "code",
   "execution_count": null,
   "metadata": {},
   "outputs": [],
   "source": [
    "x = sym.symbols('x')\n",
    "\n",
    "# the expression we want to solve is 2x+4=9\n",
    "expr = 2*x + 4 -9\n",
    "\n",
    "sym.solve(expr,x)"
   ]
  },
  {
   "cell_type": "code",
   "execution_count": null,
   "metadata": {},
   "outputs": [],
   "source": [
    "solution = sym.solve(expr,x)\n",
    "display('The solution to %s is %g' %(sym.latex(expr), solution[0]))"
   ]
  },
  {
   "cell_type": "code",
   "execution_count": null,
   "metadata": {},
   "outputs": [],
   "source": [
    "# make it look a bit nicer\n",
    "\n",
    "sol = sym.solve(expr,x)\n",
    "\n",
    "display('The solution to %s is %g'%(expr,sol[0]))\n",
    "\n",
    "# or\n",
    "display(Math('\\\\text{The solution to }%s\\\\text{ is x=}%g' %(sym.latex(expr),sol[0])))"
   ]
  },
  {
   "cell_type": "markdown",
   "metadata": {},
   "source": []
  },
  {
   "cell_type": "code",
   "execution_count": null,
   "metadata": {},
   "outputs": [],
   "source": [
    "# can input the equation directly into the solve function\n",
    "x = sym.symbols('x')\n",
    "sym.solve(x**2 - 4,x)"
   ]
  },
  {
   "cell_type": "code",
   "execution_count": null,
   "metadata": {},
   "outputs": [],
   "source": [
    "# notice the solution is stored as a list, with one solution per element\n",
    "sol = sym.solve(x**2 - 4,x)\n",
    "\n",
    "print( type(sol) )\n",
    "print( len(sol) )\n",
    "print(sol)"
   ]
  },
  {
   "cell_type": "code",
   "execution_count": null,
   "metadata": {},
   "outputs": [],
   "source": [
    "# we can print them all out:\n",
    "for i in range(0,len(sol)):\n",
    "    print('Solution #' + str(i+1) + ' is ' + str(sol[i]))\n"
   ]
  },
  {
   "cell_type": "code",
   "execution_count": null,
   "metadata": {},
   "outputs": [],
   "source": [
    "y = sym.symbols('y')\n",
    "\n",
    "expr = x/4 - x*y + 5\n",
    "\n",
    "print( \"Solved for x: \" + str(sym.solve(expr,x)[0]) )\n",
    "print( \"Solved for y: \" + str(sym.solve(expr,y)) )\n",
    "\n",
    "display(sym.solve(expr, x))\n",
    "display(sym.solve(expr, y))\n"
   ]
  },
  {
   "cell_type": "markdown",
   "metadata": {},
   "source": []
  },
  {
   "cell_type": "markdown",
   "metadata": {},
   "source": [
    "### Exercises"
   ]
  },
  {
   "cell_type": "code",
   "execution_count": null,
   "metadata": {},
   "outputs": [],
   "source": [
    "import sympy as sym\n",
    "from IPython.display import display, Math"
   ]
  },
  {
   "cell_type": "code",
   "execution_count": null,
   "metadata": {},
   "outputs": [],
   "source": [
    "# Ex1:\n",
    "q = sym.symbols('q')\n",
    "eq = (3*q) + (4/q) + 3 - (5*q) - (1/q) - 1\n",
    "\n",
    "display(Math(sym.latex(sym.simplify(eq))))\n",
    "display(Math('q=' + sym.latex(sym.solve(eq, q))))"
   ]
  },
  {
   "cell_type": "code",
   "execution_count": null,
   "metadata": {},
   "outputs": [],
   "source": [
    "# Ex2:\n",
    "q = sym.symbols('q')\n",
    "eq = 2*q + 3*(q**2) - (5 / q) - ( 4 / (q**3))\n",
    "display(eq)\n",
    "\n",
    "display(Math(sym.latex(sym.simplify(eq))))\n",
    "display(Math(sym.latex(sym.cancel(eq))))\n",
    "display(Math(sym.latex(sym.solve(eq))))"
   ]
  },
  {
   "cell_type": "code",
   "execution_count": null,
   "metadata": {},
   "outputs": [],
   "source": [
    "# Ex3: \n",
    "q = sym.symbols('q')\n",
    "eq = (sym.sqrt(3) + sym.sqrt(15*q)) / (sym.sqrt(2) + sym.sqrt(10*q))\n",
    "display(eq)\n",
    "display(sym.simplify(eq))\n",
    "display(eq.subs(q, 10))"
   ]
  },
  {
   "cell_type": "code",
   "execution_count": null,
   "metadata": {
    "scrolled": true
   },
   "outputs": [],
   "source": [
    "# 1)\n",
    "# simplify and solve for q\n",
    "q = sym.symbols('q')\n",
    "eq = 3*q + 4/q + 3 - 5*q - 1/q - 1\n",
    "\n",
    "display(Math(sym.latex(eq.simplify()))) \n",
    "display(Math('q='+sym.latex(sym.solve(eq,q))))"
   ]
  },
  {
   "cell_type": "code",
   "execution_count": null,
   "metadata": {},
   "outputs": [],
   "source": [
    "# 2)\n",
    "eq = 2*q + 3*q**2 - 5/q - 4/q**3\n",
    "\n",
    "display(Math(sym.latex(eq)))\n",
    "display(Math(sym.latex(sym.simplify(eq))))\n",
    "display(Math(sym.latex(sym.cancel(eq)))) # puts into p/q form with integer coefficients"
   ]
  },
  {
   "cell_type": "code",
   "execution_count": null,
   "metadata": {},
   "outputs": [],
   "source": [
    "# 3)\n",
    "# simplify this expression. confirm on your own using paper-and-pencil\n",
    "expr = (sym.sqrt(3) + sym.sqrt(15)*q) / (sym.sqrt(2) + sym.sqrt(10)*q)\n",
    "display(Math(sym.latex(expr)))\n",
    "display(Math(sym.latex(sym.simplify(expr))))"
   ]
  },
  {
   "cell_type": "code",
   "execution_count": null,
   "metadata": {},
   "outputs": [],
   "source": [
    "sym.simplify( expr.subs(q,10) )"
   ]
  },
  {
   "cell_type": "code",
   "execution_count": null,
   "metadata": {},
   "outputs": [],
   "source": [
    "expr.subs(q,10).evalf()"
   ]
  },
  {
   "cell_type": "markdown",
   "metadata": {},
   "source": [
    "# VIDEO: Expanding terms"
   ]
  },
  {
   "cell_type": "code",
   "execution_count": null,
   "metadata": {},
   "outputs": [],
   "source": [
    "import sympy as sym\n",
    "from IPython.display import display, Math"
   ]
  },
  {
   "cell_type": "code",
   "execution_count": null,
   "metadata": {},
   "outputs": [],
   "source": [
    "# define our terms\n",
    "from sympy.abc import x\n",
    "\n",
    "term1 = (4*x + 5)\n",
    "term2 = x\n",
    "\n",
    "print( term1*term2 )\n",
    "print( sym.expand(term1*term2) )\n",
    "print( Math(sym.latex(sym.expand(term1*term2)) ))\n",
    "\n",
    "display( term1*term2 )\n",
    "display( sym.expand(term1*term2) )\n",
    "display( Math(sym.latex(sym.expand(term1*term2)) ))"
   ]
  },
  {
   "cell_type": "code",
   "execution_count": null,
   "metadata": {},
   "outputs": [],
   "source": [
    "term3 = x - 7 # note that parentheses are not necessary!\n",
    "display(Math( sym.latex(term1*term3) ))\n",
    "display(Math( sym.latex( sym.expand(term1*term3) )))"
   ]
  },
  {
   "cell_type": "code",
   "execution_count": null,
   "metadata": {},
   "outputs": [],
   "source": [
    "term4 = sym.simplify(term1*term3)\n",
    "display(Math(sym.latex(term4.expand())))"
   ]
  },
  {
   "cell_type": "code",
   "execution_count": null,
   "metadata": {},
   "outputs": [],
   "source": [
    "# with two variables\n",
    "y = sym.symbols('y')\n",
    "x = sym.symbols('x')\n",
    "\n",
    "expr = x*(2*y**2 - 5**x/x)\n",
    "expr_ex = sym.expand(expr)\n",
    "\n",
    "display(Math(sym.latex(expr)))\n",
    "display(Math(sym.latex(expr_ex)))"
   ]
  },
  {
   "cell_type": "code",
   "execution_count": null,
   "metadata": {},
   "outputs": [],
   "source": [
    "# three expressions and three variables!!\n",
    "# but first, what variables have we already created??\n",
    "%whos\n"
   ]
  },
  {
   "cell_type": "code",
   "execution_count": null,
   "metadata": {},
   "outputs": [],
   "source": [
    "z = sym.symbols('z')\n",
    "\n",
    "term1 = (3 + x)\n",
    "term2 = (y - 4*z)\n",
    "term3 = (5/z + 3*x)\n",
    "\n",
    "display(Math(sym.latex(term1*term2*term3)))\n",
    "display(Math(sym.latex(sym.expand(term1*term2*term3))))\n",
    "display(Math(sym.latex(sym.simplify(sym.expand(term1*term2*term3)))))"
   ]
  },
  {
   "cell_type": "markdown",
   "metadata": {},
   "source": []
  },
  {
   "cell_type": "markdown",
   "metadata": {},
   "source": [
    "### Exercises"
   ]
  },
  {
   "cell_type": "code",
   "execution_count": null,
   "metadata": {},
   "outputs": [],
   "source": [
    "# a function of two variables\n",
    "Fxy = (4+x)*(2-y)"
   ]
  },
  {
   "cell_type": "code",
   "execution_count": null,
   "metadata": {},
   "outputs": [],
   "source": [
    "val_range = range(0,3)\n",
    "display(Math(sym.latex(Fxy)))\n",
    "for x_i in val_range:\n",
    "    for y_j in val_range:\n",
    "        print('When x=%g and y=%g, f(x,y) = %g' %(x_i, y_j, Fxy.subs({x:x_i, y:y_j})))"
   ]
  },
  {
   "cell_type": "code",
   "execution_count": null,
   "metadata": {},
   "outputs": [],
   "source": [
    "# a function of two variables\n",
    "Fxy = (4+x)*(2-y)\n",
    "print(Fxy.subs({x:2,y:-2}))"
   ]
  },
  {
   "cell_type": "code",
   "execution_count": null,
   "metadata": {},
   "outputs": [],
   "source": [
    "numrange = range(0,3)\n",
    "for i in numrange:\n",
    "    for j in numrange:\n",
    "        print('When x=%g and y=%g, f(x,y)=%g' %(i,j,Fxy.subs({x:i,y:j})) )"
   ]
  },
  {
   "cell_type": "markdown",
   "metadata": {},
   "source": []
  },
  {
   "cell_type": "markdown",
   "metadata": {},
   "source": [
    "# VIDEO: Creating and accessing matrices with numpy"
   ]
  },
  {
   "cell_type": "code",
   "execution_count": null,
   "metadata": {},
   "outputs": [],
   "source": [
    "import sympy as sym\n",
    "import numpy as np\n",
    "from IPython.display import display, Math"
   ]
  },
  {
   "cell_type": "code",
   "execution_count": null,
   "metadata": {},
   "outputs": [],
   "source": []
  },
  {
   "cell_type": "code",
   "execution_count": null,
   "metadata": {},
   "outputs": [],
   "source": [
    "A = np.array( [ [1,2],[3,4] ] )\n",
    "print(A)\n",
    "print(type(A))\n",
    "# make it look nicer\n",
    "display(Math(sym.latex(sym.sympify(A))))"
   ]
  },
  {
   "cell_type": "code",
   "execution_count": null,
   "metadata": {},
   "outputs": [],
   "source": [
    "# initializing a matrix with zeros\n",
    "\n",
    "numrange = range(0,5)\n",
    "\n",
    "mat = np.zeros([len(numrange),len(numrange)])\n",
    "print(mat)"
   ]
  },
  {
   "cell_type": "code",
   "execution_count": null,
   "metadata": {},
   "outputs": [],
   "source": [
    "# populating matrices using row-col indexing\n",
    "\n",
    "mat[0,1] = 1\n",
    "mat[2,4] = 7\n",
    "mat"
   ]
  },
  {
   "cell_type": "code",
   "execution_count": null,
   "metadata": {},
   "outputs": [],
   "source": [
    "# can also use variables for indices\n",
    "i = 2\n",
    "j = 1\n",
    "mat[i,j] = 4.5\n",
    "\n",
    "display(Math(sym.latex(sym.sympify(mat))))"
   ]
  },
  {
   "cell_type": "code",
   "execution_count": null,
   "metadata": {},
   "outputs": [],
   "source": [
    "# now use a for-loop\n",
    "\n",
    "numrange = range(0,4)\n",
    "for row_i in numrange:\n",
    "    for col_j in numrange:\n",
    "        mat[row_i][col_j] = (-1)**(row_i+col_j)\n",
    "\n",
    "mat"
   ]
  },
  {
   "cell_type": "markdown",
   "metadata": {},
   "source": [
    "### Exercise"
   ]
  },
  {
   "cell_type": "code",
   "execution_count": null,
   "metadata": {},
   "outputs": [],
   "source": [
    "from sympy.abc import x, y"
   ]
  },
  {
   "cell_type": "code",
   "execution_count": null,
   "metadata": {},
   "outputs": [],
   "source": [
    "Fxy = (4+x) * (2-y)"
   ]
  },
  {
   "cell_type": "code",
   "execution_count": null,
   "metadata": {},
   "outputs": [],
   "source": [
    "ind_mat = range(0,3)\n",
    "mat = np.zeros([len(ind_mat), len(ind_mat)])\n",
    "mat\n",
    "for row in ind_mat:\n",
    "    for col in ind_mat:\n",
    "        mat[row][col] = Fxy.subs({x:row, y:col})\n",
    "\n",
    "display(Math(sym.latex(sym.simplify(mat))))"
   ]
  },
  {
   "cell_type": "markdown",
   "metadata": {},
   "source": []
  },
  {
   "cell_type": "code",
   "execution_count": null,
   "metadata": {},
   "outputs": [],
   "source": [
    "x,y = sym.symbols('x y')\n",
    "Fxy = (4+x)*(2-y)\n",
    "\n",
    "numrange = range(0,3)\n",
    "\n",
    "funout = np.zeros((len(numrange),len(numrange)))\n",
    "\n",
    "for i in numrange:\n",
    "    for j in numrange:\n",
    "        funout[i,j] = Fxy.subs({x:i,y:j})\n",
    "\n",
    "display(Math(sym.latex(sym.sympify(funout))))"
   ]
  },
  {
   "cell_type": "code",
   "execution_count": null,
   "metadata": {},
   "outputs": [],
   "source": []
  },
  {
   "cell_type": "markdown",
   "metadata": {},
   "source": []
  },
  {
   "cell_type": "code",
   "execution_count": null,
   "metadata": {},
   "outputs": [],
   "source": []
  },
  {
   "cell_type": "markdown",
   "metadata": {},
   "source": [
    "### Exercise: Create a multiplication table"
   ]
  },
  {
   "cell_type": "code",
   "execution_count": null,
   "metadata": {},
   "outputs": [],
   "source": [
    "import numpy as np\n",
    "import sympy as sym\n",
    "from IPython.display import display, Math\n",
    "\n",
    "interval = range(1, 11)\n",
    "mult_table = np.zeros((len(interval), len(interval)))\n",
    "\n",
    "\n",
    "for row in interval:\n",
    "    for col in interval:\n",
    "            mult_table[row -1, col -1] = row * col\n",
    "\n",
    "\n",
    "display(Math(sym.latex(sym.simplify(mult_table))))"
   ]
  },
  {
   "cell_type": "code",
   "execution_count": null,
   "metadata": {},
   "outputs": [],
   "source": [
    "nums = range(1,11)\n",
    "\n",
    "multmat = np.zeros((len(nums),len(nums)),dtype=int)\n",
    "\n",
    "for i in nums:\n",
    "    for j in nums:\n",
    "        multmat[i-1,j-1] = i*j\n",
    "\n",
    "        \n",
    "display(Math(sym.latex(sym.sympify(multmat)))) # no display without display\n",
    "\n",
    "x = 3"
   ]
  },
  {
   "cell_type": "markdown",
   "metadata": {},
   "source": []
  },
  {
   "cell_type": "markdown",
   "metadata": {},
   "source": [
    "# VIDEO: Associative, commutative, and distributive properties"
   ]
  },
  {
   "cell_type": "code",
   "execution_count": null,
   "metadata": {},
   "outputs": [],
   "source": [
    "import sympy as sym"
   ]
  },
  {
   "cell_type": "code",
   "execution_count": null,
   "metadata": {},
   "outputs": [],
   "source": [
    "from sympy.abc import x, y"
   ]
  },
  {
   "cell_type": "markdown",
   "metadata": {},
   "source": [
    "### Associative\n",
    "$ a\\cdot(b \\times c) = (a\\times b)\\cdot c $ <br>\n",
    "$ a\\cdot(b \\cdot c) = (a\\cdot b)\\cdot c $ <br>\n",
    "$ a\\cdot b \\cdot c = a\\cdot b\\cdot c $ <br>\n"
   ]
  },
  {
   "cell_type": "code",
   "execution_count": null,
   "metadata": {},
   "outputs": [],
   "source": [
    "expr1 = x*(4*y)\n",
    "expr2 = (x*4)*y\n",
    "print(expr1 - expr2) # If the results is 0, the exprs gives the same results"
   ]
  },
  {
   "cell_type": "markdown",
   "metadata": {},
   "source": [
    "### Commutative\n",
    "$ a \\times b = b\\times a $ <br>\n",
    "$ a\\times b \\times c = b\\times a\\times c = c\\times a\\times b $ <br>"
   ]
  },
  {
   "cell_type": "code",
   "execution_count": null,
   "metadata": {},
   "outputs": [],
   "source": [
    "e1 = 4*x*y\n",
    "e2 = x*4*y\n",
    "e3 = y*x*4"
   ]
  },
  {
   "cell_type": "code",
   "execution_count": null,
   "metadata": {},
   "outputs": [],
   "source": [
    "e1.subs(x, 3)"
   ]
  },
  {
   "cell_type": "code",
   "execution_count": null,
   "metadata": {},
   "outputs": [],
   "source": [
    "print(e1.subs({x:3, y:2}))\n",
    "print(e2.subs({x:3, y:2}))\n",
    "print(e3.subs({x:3, y:2}))"
   ]
  },
  {
   "cell_type": "markdown",
   "metadata": {},
   "source": [
    "### Distributive\n",
    "$ x\\cdot(y + z) = x \\cdot y + x \\cdot z  $ <br>"
   ]
  },
  {
   "cell_type": "code",
   "execution_count": null,
   "metadata": {},
   "outputs": [],
   "source": [
    "a, b, c, d = sym.symbols('a, b, c, d')"
   ]
  },
  {
   "cell_type": "code",
   "execution_count": null,
   "metadata": {},
   "outputs": [],
   "source": [
    "expr = a*(c+d)\n",
    "sym.expand(expr)"
   ]
  },
  {
   "cell_type": "markdown",
   "metadata": {},
   "source": [
    "### Exercises\n",
    "* Implement these expressions in Python\n",
    "* Display and simplify $ f_1 \\times f_2 $\n",
    "* Show that the commutative property holds\n",
    "\n",
    "$ x = w\\cdot (4 - w) + \\frac{1}{w^2} \\cdot(1+w) $ <br>\n",
    "$ f_1 = x \\cdot (y + z) $ <br>\n",
    "\n",
    "$ f_2 = \\frac{3}{x} + x^2 $ <br>\n",
    "$ f_3 = f_1 \\times f_2 $ "
   ]
  },
  {
   "cell_type": "code",
   "execution_count": null,
   "metadata": {},
   "outputs": [],
   "source": [
    "import sympy as sym\n",
    "from IPython.display import display, Math"
   ]
  },
  {
   "cell_type": "code",
   "execution_count": null,
   "metadata": {},
   "outputs": [],
   "source": [
    "w, x, y, z = sym.symbols('w, x, y, z')\n"
   ]
  },
  {
   "cell_type": "code",
   "execution_count": null,
   "metadata": {},
   "outputs": [],
   "source": [
    "x = w * (4 - w) + 1/(w**2) * (1 + w)\n",
    "display(Math(sym.latex(x)))\n",
    "display(Math(sym.latex(x.simplify())))\n",
    "display(Math(sym.latex(x.expand())))"
   ]
  },
  {
   "cell_type": "code",
   "execution_count": null,
   "metadata": {},
   "outputs": [],
   "source": [
    "f1 = x * (y + z)\n",
    "display(Math(sym.latex(f1)))"
   ]
  },
  {
   "cell_type": "code",
   "execution_count": null,
   "metadata": {},
   "outputs": [],
   "source": [
    "f2 = (3/x) + (x**2)\n",
    "display(Math(sym.latex(f2)))"
   ]
  },
  {
   "cell_type": "code",
   "execution_count": null,
   "metadata": {},
   "outputs": [],
   "source": [
    "expr1 = f1 * f2\n",
    "display(Math(sym.latex(expr1.simplify())))\n"
   ]
  },
  {
   "cell_type": "code",
   "execution_count": null,
   "metadata": {},
   "outputs": [],
   "source": [
    "# Showing that commutative property holds\n",
    "expr2 = f2 * f1\n",
    "display(Math(sym.latex(sym.simplify(expr1 - expr2))))"
   ]
  },
  {
   "cell_type": "code",
   "execution_count": null,
   "metadata": {},
   "outputs": [],
   "source": [
    "f3 = f1 * f2"
   ]
  },
  {
   "cell_type": "code",
   "execution_count": null,
   "metadata": {},
   "outputs": [],
   "source": [
    "display(\"Affichage de l'expression\")\n",
    "display(Math(sym.latex(f3)))"
   ]
  },
  {
   "cell_type": "code",
   "execution_count": null,
   "metadata": {},
   "outputs": [],
   "source": [
    "display(\"Simplification de l'expression\")\n",
    "display(Math(sym.latex(f3.simplify())))"
   ]
  },
  {
   "cell_type": "code",
   "execution_count": null,
   "metadata": {},
   "outputs": [],
   "source": [
    "display(\"'distribuer' l'expression\")\n",
    "display(Math(sym.latex(f3.expand())))"
   ]
  },
  {
   "cell_type": "markdown",
   "metadata": {},
   "source": [
    "# VIDEO: Creating and working with Python lists"
   ]
  },
  {
   "cell_type": "code",
   "execution_count": null,
   "metadata": {},
   "outputs": [],
   "source": [
    "lst = [1, 3, 6, 7, 2, 5, 6, 7, 8, 9, 7, 1, 0, 5, 3]\n",
    "print(type(lst))"
   ]
  },
  {
   "cell_type": "code",
   "execution_count": null,
   "metadata": {},
   "outputs": [],
   "source": [
    "lst[-1]"
   ]
  },
  {
   "cell_type": "code",
   "execution_count": null,
   "metadata": {},
   "outputs": [],
   "source": [
    "# Slicing\n",
    "N = 2\n",
    "lst[:N] # From the beginning until the first N elements"
   ]
  },
  {
   "cell_type": "code",
   "execution_count": null,
   "metadata": {},
   "outputs": [],
   "source": [
    "K = 2\n",
    "lst[-K:] # The last K elements"
   ]
  },
  {
   "cell_type": "code",
   "execution_count": null,
   "metadata": {},
   "outputs": [],
   "source": [
    "n = 3\n",
    "k = 7\n",
    "print(lst)\n",
    "lst[n:k]"
   ]
  },
  {
   "cell_type": "code",
   "execution_count": null,
   "metadata": {},
   "outputs": [],
   "source": [
    "words = ['hello', 'my', 'name', 'is', 'Adel']\n",
    "\n",
    "for word in words:\n",
    "    print(word)\n",
    "\n",
    "for i in range(0, len(words)):\n",
    "    print(words[i])"
   ]
  },
  {
   "cell_type": "code",
   "execution_count": null,
   "metadata": {},
   "outputs": [],
   "source": [
    "alist = [1, 2, 'cookies', [6, 4]]\n",
    "\n",
    "for element in alist:\n",
    "    print(element)"
   ]
  },
  {
   "cell_type": "code",
   "execution_count": null,
   "metadata": {},
   "outputs": [],
   "source": [
    "alist[-1]"
   ]
  },
  {
   "cell_type": "code",
   "execution_count": null,
   "metadata": {},
   "outputs": [],
   "source": [
    "alist[-1][0]"
   ]
  },
  {
   "cell_type": "markdown",
   "metadata": {},
   "source": [
    "### Exercises\n",
    "* Implement these expressions as a list\n",
    "* Expand the expressions and print using LaTex\n",
    "* Use a for loop!\n",
    "\n",
    "$ e_1 = 2x + x \\cdot (4 - 6x) + x $ <br>\n",
    "$ e_2 = -x \\cdot (\\frac{2}{x} + \\frac{4}{x^2}) + \\frac{4+x}{4x} $  <br>\n",
    "$ e_3 = (x + 3) \\cdot (x - 3) \\cdot x(\\frac{1}{9x}) $\n"
   ]
  },
  {
   "cell_type": "code",
   "execution_count": null,
   "metadata": {},
   "outputs": [],
   "source": [
    "import sympy as sym\n",
    "from IPython.display import display, Math"
   ]
  },
  {
   "cell_type": "code",
   "execution_count": null,
   "metadata": {},
   "outputs": [],
   "source": [
    "x = sym.symbols('x')"
   ]
  },
  {
   "cell_type": "code",
   "execution_count": null,
   "metadata": {},
   "outputs": [],
   "source": [
    "e1 = 2*x + x * (4-6*x) + x\n",
    "display(e1)"
   ]
  },
  {
   "cell_type": "code",
   "execution_count": null,
   "metadata": {},
   "outputs": [],
   "source": [
    "e2 = -x * (2/x + 4/(x**2)) + (4+x)/(4*x)\n",
    "display(e2)"
   ]
  },
  {
   "cell_type": "code",
   "execution_count": null,
   "metadata": {},
   "outputs": [],
   "source": [
    "e3 = (x + 3) * (x - 3) * x*(1/(9*x))\n",
    "display(e3)"
   ]
  },
  {
   "cell_type": "code",
   "execution_count": null,
   "metadata": {},
   "outputs": [],
   "source": [
    "expressions = [e1, e2, e3]\n",
    "display(expressions)"
   ]
  },
  {
   "cell_type": "code",
   "execution_count": null,
   "metadata": {},
   "outputs": [],
   "source": [
    "for expr in expressions:\n",
    "    display(Math('%s \\\\quad \\\\Longleftrightarrow \\\\quad %s'%(sym.latex(expr), sym.latex(expr.expand()))))"
   ]
  },
  {
   "cell_type": "markdown",
   "metadata": {},
   "source": []
  },
  {
   "cell_type": "markdown",
   "metadata": {},
   "source": [
    "# VIDEO: More on \"slicing\" in Python"
   ]
  },
  {
   "cell_type": "code",
   "execution_count": null,
   "metadata": {},
   "outputs": [],
   "source": [
    "vec = list(range(10, 21))\n",
    "vec"
   ]
  },
  {
   "cell_type": "code",
   "execution_count": null,
   "metadata": {},
   "outputs": [],
   "source": [
    "vec[:6]"
   ]
  },
  {
   "cell_type": "code",
   "execution_count": null,
   "metadata": {},
   "outputs": [],
   "source": [
    "vec[-8]"
   ]
  },
  {
   "cell_type": "code",
   "execution_count": null,
   "metadata": {},
   "outputs": [],
   "source": [
    "vec[-1]"
   ]
  },
  {
   "cell_type": "code",
   "execution_count": null,
   "metadata": {},
   "outputs": [],
   "source": [
    "vec[::-1] # reverse the list"
   ]
  },
  {
   "cell_type": "code",
   "execution_count": null,
   "metadata": {},
   "outputs": [],
   "source": [
    "#Explanation of [::]\n",
    "# [A:B:C]\n",
    "# A: Start of selection\n",
    "# B: End of selection\n",
    "# C: steps to skip, for exemple if 2, so every two index number will be skiped\n",
    "# Exemple below: We just want even numbers from index 0 to 4\n",
    "print(vec[0:5:2])\n",
    "\n",
    "# We also could count in steps of 3:\n",
    "print(vec[0:5:3])"
   ]
  },
  {
   "cell_type": "code",
   "execution_count": null,
   "metadata": {},
   "outputs": [],
   "source": [
    "vec[::-2]"
   ]
  },
  {
   "cell_type": "markdown",
   "metadata": {},
   "source": []
  },
  {
   "cell_type": "markdown",
   "metadata": {},
   "source": [
    "# VIDEO: Greatest common denominator"
   ]
  },
  {
   "cell_type": "markdown",
   "metadata": {},
   "source": [
    "## Reducing fractions!\n",
    "\n",
    "$ if \\quad gcd(a,b) = c, then \\frac{a}{b} = \\frac{{\\frac{a}{b} \\times c}}{{\\frac{b}{c} \\times c}} = \\frac{\\frac{a}{b}}{\\frac{b}{c}} $\n",
    "\n",
    "### Example:\n",
    "\n",
    "$ gcd(6,15) = 3, so \\frac{6}{15} = \\frac{{\\frac{6}{3} \\times 3}}{{\\frac{15}{3} \\times 3}} = \\frac{\\frac{6}{3}}{\\frac{15}{3}} = \\frac{2}{5} $\n"
   ]
  },
  {
   "cell_type": "code",
   "execution_count": null,
   "metadata": {},
   "outputs": [],
   "source": [
    "import math\n",
    "from IPython.display import display, Math"
   ]
  },
  {
   "cell_type": "code",
   "execution_count": null,
   "metadata": {},
   "outputs": [],
   "source": [
    "math.gcd(95,100)"
   ]
  },
  {
   "cell_type": "code",
   "execution_count": null,
   "metadata": {},
   "outputs": [],
   "source": [
    "# Application\n",
    "a = 16\n",
    "b = 88\n",
    "\n",
    "fact = math.gcd(a,b)\n",
    "display(Math('\\\\frac{%g}{%g} = \\\\frac{%g \\\\times %g}{%g \\\\times %g}' %(a, b, a/fact, fact, b/fact, fact)))"
   ]
  },
  {
   "cell_type": "markdown",
   "metadata": {},
   "source": [
    "### Exercises\n",
    "#### Exercice 1:\n",
    "$ gcd(ca, cb) = c \\cdot gcd(a,b)$\n",
    "\n",
    "<br>\n",
    "\n",
    "#### Exercice 2:\n",
    "* Create a matrix that contains 10 rows and 15 columns, where each element is equal to 99.\n",
    "* Populate the matrix such that the $i^{th}$ row and $j^{th}$ column contains $gcd(i+1, j+1)$."
   ]
  },
  {
   "cell_type": "code",
   "execution_count": null,
   "metadata": {},
   "outputs": [],
   "source": [
    "import math\n",
    "import sympy as sym\n",
    "import numpy as np\n",
    "\n",
    "from IPython.display import display, Math"
   ]
  },
  {
   "cell_type": "code",
   "execution_count": null,
   "metadata": {},
   "outputs": [],
   "source": [
    "# Exercice 1\n",
    "a, b, c = sym.symbols('a, b, c')\n",
    "print( sym.gcd(a*c, b*c) )\n",
    "print( sym.gcd(a,b))\n",
    "print( c * sym.gcd(a,b))\n",
    "\n",
    "a = 15\n",
    "b = 6\n",
    "c = 3\n",
    "\n",
    "print( math.gcd(a*c, b*c) )\n",
    "print( math.gcd(a,b))\n",
    "print( c * math.gcd(a,b))"
   ]
  },
  {
   "cell_type": "code",
   "execution_count": null,
   "metadata": {},
   "outputs": [],
   "source": [
    "# Exercice 2:\n",
    "# First part of the exercice:\n",
    "nb_rows = 10 \n",
    "nb_columns = 15\n",
    "gcd_math = np.zeros([nb_rows, nb_columns]) + 99\n",
    "\n",
    "# Second part of the exercice:\n",
    "for row in range(0, nb_rows):\n",
    "    for column in range(0, nb_columns):\n",
    "        gcd_math[row, column] = math.gcd(row+1, column + 1)\n",
    "        \n",
    "display(Math(sym.latex(sym.simplify(gcd_math))))"
   ]
  },
  {
   "cell_type": "markdown",
   "metadata": {},
   "source": []
  },
  {
   "cell_type": "markdown",
   "metadata": {},
   "source": [
    "# VIDEO: Introduction to dictionaries"
   ]
  },
  {
   "cell_type": "code",
   "execution_count": null,
   "metadata": {},
   "outputs": [],
   "source": [
    "D = dict(fruit=['banana', 'apple'], numbers=[1, 3,2,7])\n",
    "print(D)"
   ]
  },
  {
   "cell_type": "code",
   "execution_count": null,
   "metadata": {},
   "outputs": [],
   "source": [
    "D.keys()"
   ]
  },
  {
   "cell_type": "code",
   "execution_count": null,
   "metadata": {},
   "outputs": [],
   "source": [
    "D['fruit']"
   ]
  },
  {
   "cell_type": "code",
   "execution_count": null,
   "metadata": {},
   "outputs": [],
   "source": [
    "D.get('fruit')"
   ]
  },
  {
   "cell_type": "code",
   "execution_count": null,
   "metadata": {},
   "outputs": [],
   "source": [
    "print(D['fruit'][0])\n",
    "print(D.get('fruit')[0])"
   ]
  },
  {
   "cell_type": "code",
   "execution_count": null,
   "metadata": {},
   "outputs": [],
   "source": [
    "for keys in D:\n",
    "    print(D[keys])"
   ]
  },
  {
   "cell_type": "markdown",
   "metadata": {},
   "source": []
  },
  {
   "cell_type": "markdown",
   "metadata": {},
   "source": [
    "### Exercise\n",
    "$ 4x = 6 $ <br>\n",
    "$ \\sin (y) = 0 $ <br>\n",
    "$ x^2 = 9 $ <br>\n",
    "#### Equations Solving for X:\n",
    "$ 4x - 6 = 0 \\quad \\rightarrow \\quad X = [\\frac{3}{2}] $ <br>\n",
    "$ x^2 - 9 = 0 \\quad \\rightarrow \\quad X = [-3, 3] $ <br>\n",
    "\n",
    "#### Equations Solving for Y:\n",
    "$ \\sin (y) = 0 \\quad \\rightarrow \\quad Y = [0, \\pi] $ <br>"
   ]
  },
  {
   "cell_type": "code",
   "execution_count": null,
   "metadata": {},
   "outputs": [],
   "source": [
    "from IPython.display import display, Math\n",
    "import sympy as sym\n",
    "import math"
   ]
  },
  {
   "cell_type": "code",
   "execution_count": null,
   "metadata": {},
   "outputs": [],
   "source": [
    "x, y = sym.symbols('x, y')"
   ]
  },
  {
   "cell_type": "code",
   "execution_count": null,
   "metadata": {},
   "outputs": [],
   "source": [
    "eqx1 = 4 * x - 6\n",
    "eqx2 = x ** 2 - 9\n",
    "eqy1 = sym.sin(y)\n",
    "\n",
    "Eqs = dict(eqsWithX = [eqx1, eqx2], eqsWithY=[eqy1])"
   ]
  },
  {
   "cell_type": "code",
   "execution_count": null,
   "metadata": {},
   "outputs": [],
   "source": [
    "D"
   ]
  },
  {
   "cell_type": "code",
   "execution_count": null,
   "metadata": {},
   "outputs": [],
   "source": [
    "for key in Eqs:\n",
    "    print('Solutions for equations involving ' + key[-1] + ':')\n",
    "    for eq in D[key]:\n",
    "        leftpart = sym.latex(eq) + ' = 0'\n",
    "        midpart = '\\\\quad \\\\Rightarrow \\\\quad ' + key[-1] + ' = '\n",
    "        rightpart = sym.latex(sym.solve(eq))\n",
    "        display(Math('\\\\quad \\\\quad '+ leftpart + midpart + rightpart))"
   ]
  },
  {
   "cell_type": "markdown",
   "metadata": {},
   "source": [
    "# VIDEO: Prime factorization\n",
    "\n",
    "## Prime number:\n",
    "Only divisible by itself and 1\n",
    "\n",
    "## Prime factorization\n",
    "Breaking down a number into prime multiplicands\n",
    "### Exemple\n",
    "8 isn't prime\n",
    "2 is prime\n",
    "So : 8 = 2 x 2 x 2"
   ]
  },
  {
   "cell_type": "code",
   "execution_count": null,
   "metadata": {},
   "outputs": [],
   "source": [
    "import sympy as sym"
   ]
  },
  {
   "cell_type": "code",
   "execution_count": null,
   "metadata": {},
   "outputs": [],
   "source": [
    "number = 48\n",
    "\n",
    "fact_dict = sym.factorint(number)"
   ]
  },
  {
   "cell_type": "markdown",
   "metadata": {},
   "source": [
    "### Exercise\n",
    "* write a function tells if: \n",
    "* * It's a prime number \n",
    "* * It's a composite number with prime factors [fact1, fact2, ..., factN]\n",
    "<br> <br>\n",
    "* Loop through integers from 2 through 50.\n",
    "<br> <br>\n",
    "* Use functions: \n",
    "* * factorint\n",
    "* * list\n",
    "* * len\n",
    "* * if/else\n",
    "* * print"
   ]
  },
  {
   "cell_type": "code",
   "execution_count": null,
   "metadata": {},
   "outputs": [],
   "source": [
    "v = sym.factorint(7)\n",
    "print(len(v))\n",
    "print(v)\n",
    "list(v.values())[0]"
   ]
  },
  {
   "cell_type": "code",
   "execution_count": null,
   "metadata": {},
   "outputs": [],
   "source": [
    "def is_prime(num: int) -> str:\n",
    "    fact_num = sym.factorint(num)\n",
    "    if len(fact_num) == 1 and list(fact_num.values())[0] == 1:\n",
    "        return str(num) + \" is a prime number\"\n",
    "    else:\n",
    "        return str(num) + \" is a composite number with prime factors \" + str(list(fact_num.keys()))\n"
   ]
  },
  {
   "cell_type": "code",
   "execution_count": null,
   "metadata": {},
   "outputs": [],
   "source": [
    "numbers = range(2, 51)\n",
    "for number in numbers:\n",
    "    print(is_prime(number))"
   ]
  },
  {
   "cell_type": "markdown",
   "metadata": {},
   "source": []
  },
  {
   "cell_type": "markdown",
   "metadata": {},
   "source": [
    "# VIDEO: Solving inequalities"
   ]
  },
  {
   "cell_type": "code",
   "execution_count": null,
   "metadata": {},
   "outputs": [],
   "source": [
    "import sympy as sym\n",
    "from IPython.display import display, Math"
   ]
  },
  {
   "cell_type": "code",
   "execution_count": null,
   "metadata": {},
   "outputs": [],
   "source": [
    "x = sym.symbols('x')"
   ]
  },
  {
   "cell_type": "code",
   "execution_count": null,
   "metadata": {},
   "outputs": [],
   "source": [
    "expr = 4*x > 8\n",
    "\n",
    "display(Math(sym.latex(sym.solve(expr))))\n",
    "# wedge operator for then \"and\" in latex it's \\\\wedge"
   ]
  },
  {
   "cell_type": "code",
   "execution_count": null,
   "metadata": {},
   "outputs": [],
   "source": [
    "sym.oo"
   ]
  },
  {
   "cell_type": "code",
   "execution_count": null,
   "metadata": {},
   "outputs": [],
   "source": [
    "expr = (x-1) * (x+3) > 0\n",
    "b\n",
    "display(Math(sym.latex(sym.solve(expr))))"
   ]
  },
  {
   "cell_type": "code",
   "execution_count": null,
   "metadata": {},
   "outputs": [],
   "source": [
    "a, b, c = sym.symbols('a, b, c')\n",
    "\n",
    "ex = a*x > b**2/c\n",
    "display(Math(sym.latex(ex)))\n",
    "sym.solve(ex, x)"
   ]
  },
  {
   "cell_type": "markdown",
   "metadata": {},
   "source": [
    "### Exercise\n",
    "$ \\frac{3x}{2} + \\frac{4-5x}{3} \\leq 2 - \\frac{5(2-x)}{4} $\n",
    "* Implement this expression in sympy\n",
    "* Solve the expression for x"
   ]
  },
  {
   "cell_type": "code",
   "execution_count": null,
   "metadata": {},
   "outputs": [],
   "source": [
    "import sympy as sym\n",
    "from IPython.display import display, Math"
   ]
  },
  {
   "cell_type": "code",
   "execution_count": null,
   "metadata": {},
   "outputs": [],
   "source": [
    "x = sym.symbols('x')"
   ]
  },
  {
   "cell_type": "code",
   "execution_count": null,
   "metadata": {},
   "outputs": [],
   "source": [
    "expr = ((3*x)/2) + ((4-5*x)/3) <= 2 - ((5*(2-x))/4)\n",
    "display(Math(sym.latex(expr)))"
   ]
  },
  {
   "cell_type": "code",
   "execution_count": null,
   "metadata": {},
   "outputs": [],
   "source": [
    "sol = sym.solve(expr, x)\n",
    "display(Math(sym.latex(sol)))"
   ]
  },
  {
   "cell_type": "markdown",
   "metadata": {},
   "source": [
    "# VIDEO: Adding polynomials"
   ]
  },
  {
   "cell_type": "code",
   "execution_count": null,
   "metadata": {},
   "outputs": [],
   "source": [
    "import sympy as sym\n",
    "from IPython.display import display, Math"
   ]
  },
  {
   "cell_type": "code",
   "execution_count": null,
   "metadata": {},
   "outputs": [],
   "source": [
    "from sympy.abc import x"
   ]
  },
  {
   "cell_type": "code",
   "execution_count": null,
   "metadata": {},
   "outputs": [],
   "source": [
    "p1 = 2*x**3 + x**2 - x\n",
    "p2 = x**3 - x**4 - 4*x**2"
   ]
  },
  {
   "cell_type": "code",
   "execution_count": null,
   "metadata": {},
   "outputs": [],
   "source": [
    "display(Math(sym.latex(p1)))\n",
    "display(Math(sym.latex(p2)))\n",
    "display(Math('(%s) + (%s) = %s' %(sym.latex(p1), sym.latex(p2), sym.latex(p1+p2))))\n",
    "display(Math('(%s) - (%s) = %s' %(sym.latex(p1), sym.latex(p2), sym.latex(p1-p2))))"
   ]
  },
  {
   "cell_type": "code",
   "execution_count": null,
   "metadata": {},
   "outputs": [],
   "source": [
    "p1 = sym.Poly(2*x**3 + x**2 - x)"
   ]
  },
  {
   "cell_type": "code",
   "execution_count": null,
   "metadata": {},
   "outputs": [],
   "source": [
    "type(p1)"
   ]
  },
  {
   "cell_type": "code",
   "execution_count": null,
   "metadata": {},
   "outputs": [],
   "source": [
    "print(p1)"
   ]
  },
  {
   "cell_type": "code",
   "execution_count": null,
   "metadata": {},
   "outputs": [],
   "source": [
    "p1.degree()"
   ]
  },
  {
   "cell_type": "code",
   "execution_count": null,
   "metadata": {},
   "outputs": [],
   "source": [
    "p1.eval(0)"
   ]
  },
  {
   "cell_type": "code",
   "execution_count": null,
   "metadata": {},
   "outputs": [],
   "source": [
    "p1.eval(3)"
   ]
  },
  {
   "cell_type": "code",
   "execution_count": null,
   "metadata": {},
   "outputs": [],
   "source": [
    "p1.coeffs()"
   ]
  },
  {
   "cell_type": "markdown",
   "metadata": {},
   "source": [
    "### Exercise\n",
    "* Implement these polynomials as Python list.\n",
    "* For each polynomial:\n",
    "* -> if the degree is even, sum the coefficients\n",
    "* -> if the degree is odd, count the coefficients\n",
    "\n",
    "$ x^2 + 2x $ <br>\n",
    "$ -x^3 + 4x $ <br>\n",
    "$ x^5 - x^4 + \\frac{x}{4} + 4 $"
   ]
  },
  {
   "cell_type": "code",
   "execution_count": null,
   "metadata": {},
   "outputs": [],
   "source": [
    "import sympy as sym\n",
    "from IPython.display import display, Math\n",
    "from sympy.abc import x"
   ]
  },
  {
   "cell_type": "code",
   "execution_count": null,
   "metadata": {},
   "outputs": [],
   "source": [
    "pol1 = sym.Poly(x**2 + 2*x)\n",
    "pol2 = sym.Poly(-x**3 + 4*x)\n",
    "pol3 = sym.Poly(x**5 - x**4 + (x/4) + 4)\n",
    "\n",
    "pols = [pol1, pol2, pol3]"
   ]
  },
  {
   "cell_type": "code",
   "execution_count": null,
   "metadata": {},
   "outputs": [],
   "source": [
    "datas = [{}]\n",
    "for pol in pols:\n",
    "    if pol.degree() %2 == 0:\n",
    "        sum_coef = sum(pol.coeffs())\n",
    "        val = 'Even, sum of coeffs: ' + str(sum_coef)\n",
    "        dict_p = {pol: val}\n",
    "        datas.append(dict_p)\n",
    "        display(Math('The \\quad degree \\quad of \\quad %s \\quad is \\quad even, \\quad and \\quad the \\quad coefficients \\quad sum \\quad to \\quad %g' %(sym.latex(pol.as_expr()), sum_coef)))\n",
    "    else:\n",
    "        count_coef = len(pol.coeffs())\n",
    "        val = 'Odd, number of coeffs: ' + str(count_coef)\n",
    "        dict_p = {pol: val}\n",
    "        datas.append(dict_p)\n",
    "        display(Math('The \\quad degree \\quad of \\quad %s \\quad is \\quad odd, \\quad and \\quad there \\quad are \\quad %g \\quad coefficients' %(sym.latex(pol.as_expr()), sum_coef)))\n"
   ]
  },
  {
   "cell_type": "code",
   "execution_count": null,
   "metadata": {},
   "outputs": [],
   "source": []
  },
  {
   "cell_type": "markdown",
   "metadata": {
    "tags": []
   },
   "source": [
    "# TODO: AFTER HERE\n",
    "-------------------------------------------------------------------------------"
   ]
  },
  {
   "cell_type": "markdown",
   "metadata": {},
   "source": [
    "# VIDEO: Multiplying polynomials"
   ]
  },
  {
   "cell_type": "code",
   "execution_count": null,
   "metadata": {},
   "outputs": [],
   "source": [
    "import sympy as sym\n",
    "from IPython.display import display, Math"
   ]
  },
  {
   "cell_type": "code",
   "execution_count": null,
   "metadata": {},
   "outputs": [],
   "source": [
    "x = sym.symbols('x')\n",
    "x**5 * x**3"
   ]
  },
  {
   "cell_type": "code",
   "execution_count": null,
   "metadata": {},
   "outputs": [],
   "source": [
    "p1 = 4*x**2 - 2*x\n",
    "p2 = x**3 - 1\n",
    "\n",
    "display(Math(sym.latex(p1 * p2)))\n",
    "display(Math(sym.latex(sym.expand(p1 * p2))))"
   ]
  },
  {
   "cell_type": "markdown",
   "metadata": {},
   "source": [
    "### Exercise\n",
    "Implement these polynomials.\n",
    "- Multiply the polynomials and then substitute x=5, y=-2\n",
    "- Substitute x=5, y=-2 into each polynomial, then multiply <br>\n",
    "$ f(x,y) = 4x^4 - 3x^2 + xy^2 - 9y^3 $ <br>\n",
    "$ g(x,y) = -x^3 + 6x^2y + 0.8y^3 $"
   ]
  },
  {
   "cell_type": "code",
   "execution_count": 1,
   "metadata": {},
   "outputs": [],
   "source": [
    "import sympy as sym\n",
    "from IPython.display import display, Math"
   ]
  },
  {
   "cell_type": "code",
   "execution_count": 2,
   "metadata": {},
   "outputs": [],
   "source": [
    "from sympy.abc import x,y"
   ]
  },
  {
   "cell_type": "code",
   "execution_count": 4,
   "metadata": {},
   "outputs": [
    {
     "data": {
      "text/latex": [
       "$\\displaystyle (4 x^{4} - 3 x^{2} + x y^{2} - 9 y^{3}) \\times (- x^{3} + 6 x^{2} y + 0.8 y^{3}) = - 4 x^{7} + 24 x^{6} y + 3 x^{5} + 3.2 x^{4} y^{3} - x^{4} y^{2} - 18 x^{4} y + 15 x^{3} y^{3} - 54 x^{2} y^{4} - 2.4 x^{2} y^{3} + 0.8 x y^{5} - 7.2 y^{6}$"
      ],
      "text/plain": [
       "<IPython.core.display.Math object>"
      ]
     },
     "metadata": {},
     "output_type": "display_data"
    }
   ],
   "source": [
    "f_xy = 4*x**4 - 9*y**3 - 3*x**2 + x*y**2\n",
    "g_xy = .8*y**3 - x**3 + 6*x**2*y\n",
    "\n",
    "display(Math('(%s) \\\\times (%s) = %s' %(sym.latex(f_xy), sym.latex(g_xy), sym.latex(sym.expand(f_xy * g_xy)))))"
   ]
  },
  {
   "cell_type": "code",
   "execution_count": 7,
   "metadata": {},
   "outputs": [
    {
     "data": {
      "text/plain": [
       "'Multiplied solution is -1085833.80000000'"
      ]
     },
     "metadata": {},
     "output_type": "display_data"
    }
   ],
   "source": [
    "x_val = 5\n",
    "y_val = -2\n",
    "fg = (f_xy * g_xy).subs({x:x_val, y:y_val})\n",
    "display('Multiplied solution is %s'%(fg))"
   ]
  },
  {
   "cell_type": "code",
   "execution_count": 9,
   "metadata": {},
   "outputs": [
    {
     "data": {
      "text/plain": [
       "'Separate solution is -1085833.80000000'"
      ]
     },
     "metadata": {},
     "output_type": "display_data"
    }
   ],
   "source": [
    "f_xy_ans = f_xy.subs([(x, 5), (y, -2)])\n",
    "g_xy_ans = g_xy.subs([(x, 5), (y, -2)])\n",
    "\n",
    "f_g_ans = f_xy_ans * g_xy_ans\n",
    "display('Separate solution is %s'%(fg))"
   ]
  },
  {
   "cell_type": "markdown",
   "metadata": {},
   "source": [
    "# VIDEO: Dividing by polynomials"
   ]
  },
  {
   "cell_type": "code",
   "execution_count": 1,
   "metadata": {},
   "outputs": [],
   "source": [
    "import sympy as sym\n",
    "from IPython.display import display, Math"
   ]
  },
  {
   "cell_type": "code",
   "execution_count": 2,
   "metadata": {},
   "outputs": [],
   "source": [
    "x = sym.symbols('x')"
   ]
  },
  {
   "cell_type": "code",
   "execution_count": 6,
   "metadata": {},
   "outputs": [
    {
     "data": {
      "text/latex": [
       "$\\displaystyle \\frac{4 x^{5} - x}{2 x^{3} - x} = \\frac{4 x^{5} - x}{2 x^{3} - x}$"
      ],
      "text/plain": [
       "<IPython.core.display.Math object>"
      ]
     },
     "metadata": {},
     "output_type": "display_data"
    },
    {
     "data": {
      "text/latex": [
       "$\\displaystyle \\frac{4 x^{5} - x}{2 x^{3} - x} = \\frac{4 x^{5}}{2 x^{3} - x} - \\frac{x}{2 x^{3} - x}$"
      ],
      "text/plain": [
       "<IPython.core.display.Math object>"
      ]
     },
     "metadata": {},
     "output_type": "display_data"
    },
    {
     "data": {
      "text/latex": [
       "$\\displaystyle \\frac{4 x^{5} - x}{2 x^{3} - x} = 2 x^{2} + 1$"
      ],
      "text/plain": [
       "<IPython.core.display.Math object>"
      ]
     },
     "metadata": {},
     "output_type": "display_data"
    }
   ],
   "source": [
    "p1 = 4*x**5 - x\n",
    "p2 = 2*x**3 - x\n",
    "\n",
    "display(Math('\\\\frac{%s}{%s} = %s' %(sym.latex(p1), sym.latex(p2), sym.latex(p1/p2))))\n",
    "display(Math('\\\\frac{%s}{%s} = %s' %(sym.latex(p1), sym.latex(p2), sym.latex(sym.expand(p1/p2)))))\n",
    "display(Math('\\\\frac{%s}{%s} = %s' %(sym.latex(p1), sym.latex(p2), sym.latex(sym.simplify(p1/p2)))))\n"
   ]
  },
  {
   "cell_type": "markdown",
   "metadata": {},
   "source": [
    "### Exercise\n",
    "* For the following polynomial division, find the value of y that eleminates the denominator.\n",
    "- Hint: use the function sym.fraction\n",
    "\n",
    "$ \\frac{x^6 + 2x^4 + 6x - y}{x^3 + 3}, y \\in \\lbrace 5, 6, ... 15 \\rbrace $"
   ]
  },
  {
   "cell_type": "code",
   "execution_count": 7,
   "metadata": {},
   "outputs": [],
   "source": [
    "import sympy as sym\n",
    "from IPython.display import display, Math"
   ]
  },
  {
   "cell_type": "code",
   "execution_count": 8,
   "metadata": {},
   "outputs": [],
   "source": [
    "x, y = sym.symbols('x, y')"
   ]
  },
  {
   "cell_type": "code",
   "execution_count": 21,
   "metadata": {},
   "outputs": [],
   "source": [
    "p1 = x**6 + 2*x**4 + 6*x - y\n",
    "p2 = x**3 + 3"
   ]
  },
  {
   "cell_type": "code",
   "execution_count": 33,
   "metadata": {},
   "outputs": [
    {
     "data": {
      "text/plain": [
       "9"
      ]
     },
     "metadata": {},
     "output_type": "display_data"
    }
   ],
   "source": [
    "values = range(5, 16)\n",
    "\n",
    "# display(Math(sym.latex(sym.simplify(p1/p2))))\n",
    "expr = p1/p2\n",
    "ret = expr\n",
    "# for x_value in values:\n",
    "for y_value in values:\n",
    "    v = expr.subs(y,y_value).simplify()\n",
    "    #display(v)\n",
    "    # display(sym.fraction(v)[1])\n",
    "    if sym.fraction(v)[1] == 1:\n",
    "        ret = y_value\n",
    "    #     display(v)\n",
    "    #     continue\n",
    "display(ret)"
   ]
  },
  {
   "cell_type": "markdown",
   "metadata": {},
   "source": [
    "# VIDEO: Factoring polynomials"
   ]
  },
  {
   "cell_type": "code",
   "execution_count": 1,
   "metadata": {},
   "outputs": [],
   "source": [
    "import sympy as sym\n",
    "from IPython.display import display, Math\n",
    "x,y = sym.symbols('x, y')"
   ]
  },
  {
   "cell_type": "code",
   "execution_count": 2,
   "metadata": {},
   "outputs": [
    {
     "data": {
      "text/latex": [
       "$\\displaystyle x^{2} + 4 x - 3$"
      ],
      "text/plain": [
       "x**2 + 4*x - 3"
      ]
     },
     "execution_count": 2,
     "metadata": {},
     "output_type": "execute_result"
    }
   ],
   "source": [
    "p = x**2 + 4*x -3\n",
    "sym.factor(p)"
   ]
  },
  {
   "cell_type": "code",
   "execution_count": 3,
   "metadata": {},
   "outputs": [
    {
     "data": {
      "text/latex": [
       "$\\displaystyle 2 x \\left(x^{2} y + x y + 2 x - 3 y + 3\\right)$"
      ],
      "text/plain": [
       "2*x*(x**2*y + x*y + 2*x - 3*y + 3)"
      ]
     },
     "execution_count": 3,
     "metadata": {},
     "output_type": "execute_result"
    }
   ],
   "source": [
    "expr = 2*x**3*y - 2*x**2 + 2*x**2*y + 6*x**2 - 6*x*y + 6*x\n",
    "sym.factor(expr)"
   ]
  },
  {
   "cell_type": "markdown",
   "metadata": {},
   "source": [
    "### Exercise\n",
    "* Determine whether the following polynomials can be factored.\n",
    "\n",
    "$ x^2 + 4x + 3  \\quad\t\\Rightarrow \\quad (x + 1)(x + 3) $ <br>\n",
    "$ 2y^2 - 1 \\quad \\quad \\quad\t\\Rightarrow \\quad  $ not factorable! <br> \n",
    "$ 3y^2 + 12y  \\quad \\quad\t\\Rightarrow \\quad  3y(y + 4) $"
   ]
  },
  {
   "cell_type": "code",
   "execution_count": 4,
   "metadata": {},
   "outputs": [
    {
     "data": {
      "text/latex": [
       "$\\displaystyle x^{2} + 4 x + 3$"
      ],
      "text/plain": [
       "x**2 + 4*x + 3"
      ]
     },
     "metadata": {},
     "output_type": "display_data"
    }
   ],
   "source": [
    "expr1 = x**2 + 4*x + 3\n",
    "display(expr1)"
   ]
  },
  {
   "cell_type": "code",
   "execution_count": 9,
   "metadata": {},
   "outputs": [
    {
     "data": {
      "text/latex": [
       "$\\displaystyle 2 y^{2} - 1$"
      ],
      "text/plain": [
       "2*y**2 - 1"
      ]
     },
     "metadata": {},
     "output_type": "display_data"
    }
   ],
   "source": [
    "expr2 = 2*y**2 - 1\n",
    "display(expr2)"
   ]
  },
  {
   "cell_type": "code",
   "execution_count": 10,
   "metadata": {},
   "outputs": [
    {
     "data": {
      "text/latex": [
       "$\\displaystyle 3 y^{2} + 12 y$"
      ],
      "text/plain": [
       "3*y**2 + 12*y"
      ]
     },
     "metadata": {},
     "output_type": "display_data"
    }
   ],
   "source": [
    "expr3 = 3*y**2 + 12*y\n",
    "display(expr3)"
   ]
  },
  {
   "cell_type": "code",
   "execution_count": 17,
   "metadata": {},
   "outputs": [
    {
     "data": {
      "text/latex": [
       "$\\displaystyle expr \\quad x^{2} + 4 x + 3 \\quad  \\Rightarrow \\quad  (x + 1)*(x + 3)$"
      ],
      "text/plain": [
       "<IPython.core.display.Math object>"
      ]
     },
     "metadata": {},
     "output_type": "display_data"
    },
    {
     "data": {
      "text/latex": [
       "$\\displaystyle expr \\quad 2*y**2 - 1 \\quad  \\Rightarrow \\quad  not factorable!$"
      ],
      "text/plain": [
       "<IPython.core.display.Math object>"
      ]
     },
     "metadata": {},
     "output_type": "display_data"
    },
    {
     "data": {
      "text/latex": [
       "$\\displaystyle expr \\quad 3 y^{2} + 12 y \\quad  \\Rightarrow \\quad  3*y*(y + 4)$"
      ],
      "text/plain": [
       "<IPython.core.display.Math object>"
      ]
     },
     "metadata": {},
     "output_type": "display_data"
    }
   ],
   "source": [
    "exprs = [expr1, expr2, expr3]\n",
    "\n",
    "for expr in exprs:\n",
    "    if expr.factor() == expr:\n",
    "        display(Math('expr \\\\quad %s \\\\quad  \\\\Rightarrow \\\\quad  %s' %(expr, 'not factorable!')))\n",
    "    else:\n",
    "        display(Math('expr \\\\quad %s \\\\quad  \\\\Rightarrow \\\\quad  %s' %(sym.latex(expr), expr.factor())))"
   ]
  },
  {
   "cell_type": "markdown",
   "metadata": {},
   "source": [
    "# VIDEO: Algebra 1 BUG HUNT!"
   ]
  }
 ],
 "metadata": {
  "interpreter": {
   "hash": "115054bb2bf482aff81641b799f560526166af4bc418b832cae5741025f02eaf"
  },
  "kernelspec": {
   "display_name": "Python 3 (ipykernel)",
   "language": "python",
   "name": "python3"
  },
  "language_info": {
   "codemirror_mode": {
    "name": "ipython",
    "version": 3
   },
   "file_extension": ".py",
   "mimetype": "text/x-python",
   "name": "python",
   "nbconvert_exporter": "python",
   "pygments_lexer": "ipython3",
   "version": "3.9.7"
  }
 },
 "nbformat": 4,
 "nbformat_minor": 4
}
