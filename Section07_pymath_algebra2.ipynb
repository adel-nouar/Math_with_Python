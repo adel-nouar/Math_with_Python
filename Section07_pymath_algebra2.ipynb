{
 "cells": [
  {
   "cell_type": "markdown",
   "metadata": {},
   "source": [
    "# COURSE: Master math by coding in Python\n",
    "## SECTION: Algebra 2\n",
    "\n",
    "#### https://www.udemy.com/course/math-with-python/?couponCode=MXC-DISC4ALL\n",
    "#### INSTRUCTOR: sincxpress.com\n",
    "\n",
    "Note about this code: Each video in this section of the course corresponds to a section of code below. Please note that this code roughly matches the code shown in the live recording, but is not exactly the same -- the variable names, order of lines, and parameters may be slightly different. "
   ]
  },
  {
   "cell_type": "code",
   "execution_count": null,
   "metadata": {},
   "outputs": [],
   "source": []
  },
  {
   "cell_type": "markdown",
   "metadata": {},
   "source": [
    "# VIDEO: Summation and products\n",
    "\n",
    "## Summation\n",
    "$ \\sum_{i=1}^{n} a{i} = a1 + a2 + ... + an $\n",
    "\n",
    "## Products\n",
    "$ \\prod_{i=1}^{n} a{i} = a1 \\times a2 \\times ... \\times an$\n",
    "\n",
    "## Cumulative sum\n",
    "$ yk = \\sum_{i=1}^{k} a{i} = a1 + a2 + ... + ak $ <br>\n",
    "That will produce a list (vector) of cumulative sum, first element will be the first in y (y1), second will be the sum of a1 and y2, the third will be the sum between a2 and y3, and so on. "
   ]
  },
  {
   "cell_type": "code",
   "execution_count": 1,
   "metadata": {},
   "outputs": [],
   "source": [
    "import numpy as np\n",
    "import matplotlib.pyplot as plt"
   ]
  },
  {
   "cell_type": "code",
   "execution_count": 2,
   "metadata": {},
   "outputs": [
    {
     "name": "stdout",
     "output_type": "stream",
     "text": [
      "15\n",
      "15\n"
     ]
    }
   ],
   "source": [
    "lst = [1, 3, 4, 1, 6]\n",
    "print(sum(lst))\n",
    "print(np.sum(lst))"
   ]
  },
  {
   "cell_type": "code",
   "execution_count": 3,
   "metadata": {},
   "outputs": [
    {
     "data": {
      "text/plain": [
       "72"
      ]
     },
     "execution_count": 3,
     "metadata": {},
     "output_type": "execute_result"
    }
   ],
   "source": [
    "np.prod(lst)"
   ]
  },
  {
   "cell_type": "code",
   "execution_count": 4,
   "metadata": {},
   "outputs": [
    {
     "data": {
      "text/plain": [
       "<matplotlib.legend.Legend at 0x7f8539cc0fd0>"
      ]
     },
     "execution_count": 4,
     "metadata": {},
     "output_type": "execute_result"
    },
    {
     "data": {
      "image/png": "[encoded data removed]",
      "text/plain": [
       "<Figure size 432x288 with 1 Axes>"
      ]
     },
     "metadata": {
      "needs_background": "light"
     },
     "output_type": "display_data"
    }
   ],
   "source": [
    "np.cumsum(lst)\n",
    "\n",
    "plt.plot(lst, 'rs-')\n",
    "plt.plot(np.cumsum(lst), \"bo-\")\n",
    "\n",
    "plt.legend(['set', 'cumulative sum'])"
   ]
  },
  {
   "cell_type": "markdown",
   "metadata": {},
   "source": [
    "### Exercise\n",
    "$ a = {1, 2, 3, 4, 5} $\n",
    "\n",
    "#### 1) Is equality true ?\n",
    "$ \\frac{\\sum_{} a}{\\sum_{} a²} = \\frac{1}{\\sum_{} a}$ <br>\n",
    "\n",
    "#### 2) Is equality true ?\n",
    "$ \\frac{\\prod_{} a}{\\prod_{} a²} = \\frac{1}{\\prod_{} a}$"
   ]
  },
  {
   "cell_type": "code",
   "execution_count": 5,
   "metadata": {},
   "outputs": [],
   "source": [
    "import numpy as np"
   ]
  },
  {
   "cell_type": "code",
   "execution_count": 6,
   "metadata": {},
   "outputs": [],
   "source": [
    "a = [1, 2, 3, 4, 5]\n",
    "a_square = [e**2 for e in a]"
   ]
  },
  {
   "cell_type": "code",
   "execution_count": 7,
   "metadata": {},
   "outputs": [
    {
     "name": "stdout",
     "output_type": "stream",
     "text": [
      "0.2727272727272727\n",
      "0.06666666666666667\n",
      "False\n"
     ]
    }
   ],
   "source": [
    "# Ex 1\n",
    "sum_a = np.sum(a)\n",
    "sum_a_square = np.sum(a_square)\n",
    "ans_f_sum_1 = sum_a / sum_a_square\n",
    "ans_f_sum_2 = 1 / sum_a\n",
    "\n",
    "print(ans_f_sum_1)\n",
    "print(ans_f_sum_2)\n",
    "\n",
    "print(ans_f_sum_1 == ans_f_sum_2)"
   ]
  },
  {
   "cell_type": "code",
   "execution_count": 8,
   "metadata": {},
   "outputs": [
    {
     "name": "stdout",
     "output_type": "stream",
     "text": [
      "0.008333333333333333\n",
      "0.008333333333333333\n",
      "True\n"
     ]
    }
   ],
   "source": [
    "#Ex 2\n",
    "prod_a = np.prod(a)\n",
    "prod_a_square = np.prod(a_square)\n",
    "ans_f_prod_1 = prod_a / prod_a_square\n",
    "ans_f_prod_2 = 1 / prod_a\n",
    "\n",
    "print(ans_f_prod_1)\n",
    "print(ans_f_prod_2)\n",
    "\n",
    "print(ans_f_prod_1 == ans_f_prod_2)\n"
   ]
  },
  {
   "cell_type": "markdown",
   "metadata": {},
   "source": [
    "# VIDEO: Differences (discrete derivative)\n",
    "\n",
    "$ y_t = x_{t + 1} - x_t $ "
   ]
  },
  {
   "cell_type": "code",
   "execution_count": 9,
   "metadata": {},
   "outputs": [],
   "source": [
    "import numpy as np"
   ]
  },
  {
   "cell_type": "code",
   "execution_count": 10,
   "metadata": {},
   "outputs": [
    {
     "data": {
      "text/plain": [
       "1"
      ]
     },
     "execution_count": 10,
     "metadata": {},
     "output_type": "execute_result"
    }
   ],
   "source": [
    "2-1"
   ]
  },
  {
   "cell_type": "code",
   "execution_count": 11,
   "metadata": {},
   "outputs": [],
   "source": [
    "x = [1, 3, 4, -4]"
   ]
  },
  {
   "cell_type": "code",
   "execution_count": 12,
   "metadata": {},
   "outputs": [
    {
     "data": {
      "text/plain": [
       "array([ 2,  1, -8])"
      ]
     },
     "execution_count": 12,
     "metadata": {},
     "output_type": "execute_result"
    }
   ],
   "source": [
    "np.diff(x)"
   ]
  },
  {
   "cell_type": "code",
   "execution_count": 13,
   "metadata": {},
   "outputs": [
    {
     "name": "stdout",
     "output_type": "stream",
     "text": [
      "[ 0  1  2  3  4  5  6  7  8  9 10]\n",
      "[1 1 1 1 1 1 1 1 1 1]\n",
      "[0 0 0 0 0 0 0 0 0]\n",
      "[0 0 0 0 0 0 0 0 0]\n"
     ]
    }
   ],
   "source": [
    "v = np.arange(0, 11)\n",
    "print(v)\n",
    "print(np.diff(v))\n",
    "print(np.diff(v, 2))\n",
    "\n",
    "print(np.diff(np.diff(v)))"
   ]
  },
  {
   "cell_type": "markdown",
   "metadata": {},
   "source": [
    "### Exercise\n",
    "\n",
    "$ f(x) = x² $"
   ]
  },
  {
   "cell_type": "code",
   "execution_count": 14,
   "metadata": {},
   "outputs": [],
   "source": [
    "import numpy as np\n",
    "import matplotlib.pyplot as plt"
   ]
  },
  {
   "cell_type": "code",
   "execution_count": 15,
   "metadata": {},
   "outputs": [
    {
     "data": {
      "image/png": "[encoded data removed]",
      "text/plain": [
       "<Figure size 432x288 with 1 Axes>"
      ]
     },
     "metadata": {
      "needs_background": "light"
     },
     "output_type": "display_data"
    }
   ],
   "source": [
    "x = np.linspace(-2, 2, 141)\n",
    "f = x**2\n",
    "df = np.diff(f)\n",
    "dx = np.diff(x)\n",
    "plt.plot(x, f, label='f')\n",
    "plt.plot(x[:-1], df/dx, label='df/dx')\n",
    "\n",
    "\n",
    "plt.axis([-2, 2, -1, 2])\n",
    "plt.legend()\n",
    "plt.grid()\n",
    "\n",
    "plt.show()"
   ]
  },
  {
   "cell_type": "markdown",
   "metadata": {},
   "source": [
    "# VIDEO: Roots of polynomials\n",
    "$ a_0.x^0 + a_1.x^1 + a_2.x^2 + ... + a_n.x^n = 0 $ <br>\n",
    "\n",
    "## Set to 0, solve for x -> \"roots\""
   ]
  },
  {
   "cell_type": "code",
   "execution_count": 16,
   "metadata": {},
   "outputs": [],
   "source": [
    "import numpy as np\n",
    "import sympy as sym\n",
    "from IPython.display import display, Math"
   ]
  },
  {
   "cell_type": "code",
   "execution_count": 17,
   "metadata": {},
   "outputs": [
    {
     "name": "stdout",
     "output_type": "stream",
     "text": [
      "[-1.          0.33333333]\n"
     ]
    }
   ],
   "source": [
    "## The polynomial:\n",
    "# 3x^2 + 2x - 1\n",
    "\n",
    "# define the coefficients\n",
    "coefs = [3, 2, -1]\n",
    "roots = np.roots(coefs)\n",
    "print(roots)"
   ]
  },
  {
   "cell_type": "code",
   "execution_count": 20,
   "metadata": {},
   "outputs": [
    {
     "data": {
      "text/latex": [
       "$\\displaystyle \\text{At }x=-1, \\quad 3 x^{2} + 2 x - 1 = 0$"
      ],
      "text/plain": [
       "<IPython.core.display.Math object>"
      ]
     },
     "metadata": {},
     "output_type": "display_data"
    },
    {
     "data": {
      "text/latex": [
       "$\\displaystyle \\text{At }x=0.333333, \\quad 3 x^{2} + 2 x - 1 = -5.55112e-17$"
      ],
      "text/plain": [
       "<IPython.core.display.Math object>"
      ]
     },
     "metadata": {},
     "output_type": "display_data"
    }
   ],
   "source": [
    "x = sym.symbols('x')\n",
    "pn = 3*x**2 + 2*x -1\n",
    "\n",
    "for i in roots:\n",
    "    display(Math('\\\\text{At }x=%g, \\\\quad %s = %g' %(i, sym.latex(pn), pn.subs(x, i))))"
   ]
  },
  {
   "cell_type": "markdown",
   "metadata": {},
   "source": [
    "### Exercise\n",
    "- Generate a degree-N polynomial and count the number of roots.\n",
    "-- -> The degree of the polynomial is the same as the number of roots"
   ]
  },
  {
   "cell_type": "code",
   "execution_count": 24,
   "metadata": {},
   "outputs": [
    {
     "name": "stdout",
     "output_type": "stream",
     "text": [
      "A degree-0 polynomial has 0 roots\n",
      "A degree-1 polynomial has 1 roots\n",
      "A degree-2 polynomial has 2 roots\n",
      "A degree-3 polynomial has 3 roots\n",
      "A degree-4 polynomial has 4 roots\n",
      "A degree-5 polynomial has 5 roots\n",
      "A degree-6 polynomial has 6 roots\n",
      "A degree-7 polynomial has 7 roots\n",
      "A degree-8 polynomial has 8 roots\n",
      "A degree-9 polynomial has 9 roots\n"
     ]
    }
   ],
   "source": [
    "number_of_polynomial = 10\n",
    "\n",
    "for i in range(1, number_of_polynomial + 1):\n",
    "    coefs = np.arange(1, i+1)\n",
    "    print('A degree-%s polynomial has %s roots' %(len(coefs) -1, len(np.roots(coefs))))"
   ]
  },
  {
   "cell_type": "markdown",
   "metadata": {},
   "source": [
    "# VIDEO: The quadratic equation and functions\n",
    "\n",
    "$ ax^2 + bx + c = 0 $ \n",
    "<br>\n",
    "<br>\n",
    "$ x = \\frac{-b \\pm \\sqrt{b^2 - 4ac}}{2a}$"
   ]
  },
  {
   "cell_type": "code",
   "execution_count": 15,
   "metadata": {},
   "outputs": [],
   "source": [
    "import numpy as np\n",
    "import scipy as sp\n",
    "import matplotlib.pyplot as plt"
   ]
  },
  {
   "cell_type": "code",
   "execution_count": 3,
   "metadata": {},
   "outputs": [
    {
     "name": "stdout",
     "output_type": "stream",
     "text": [
      "nan nan\n"
     ]
    },
    {
     "name": "stderr",
     "output_type": "stream",
     "text": [
      "/tmp/ipykernel_9483/1174213067.py:5: RuntimeWarning: invalid value encountered in sqrt\n",
      "  quadeqP = (-b + np.sqrt(b**2 - 4*a*c)) / (2*a)\n",
      "/tmp/ipykernel_9483/1174213067.py:7: RuntimeWarning: invalid value encountered in sqrt\n",
      "  quadeqN = (-b - np.sqrt(b**2 - 4*a*c)) / (2*a)\n"
     ]
    }
   ],
   "source": [
    "a = 3\n",
    "b = 7\n",
    "c = 5\n",
    "\n",
    "quadeqP = (-b + np.sqrt(b**2 - 4*a*c)) / (2*a)\n",
    "\n",
    "quadeqN = (-b - np.sqrt(b**2 - 4*a*c)) / (2*a)\n",
    "\n",
    "print(quadeqP, quadeqN)"
   ]
  },
  {
   "cell_type": "code",
   "execution_count": 5,
   "metadata": {},
   "outputs": [
    {
     "name": "stdout",
     "output_type": "stream",
     "text": [
      "(-1.1666666666666665+0.5527707983925666j) (-1.1666666666666665-0.5527707983925666j)\n"
     ]
    },
    {
     "name": "stderr",
     "output_type": "stream",
     "text": [
      "/tmp/ipykernel_9483/1874162721.py:5: DeprecationWarning: scipy.sqrt is deprecated and will be removed in SciPy 2.0.0, use numpy.lib.scimath.sqrt instead\n",
      "  quadeqP = (-b + sp.sqrt(b**2 - 4*a*c)) / (2*a)\n",
      "/tmp/ipykernel_9483/1874162721.py:7: DeprecationWarning: scipy.sqrt is deprecated and will be removed in SciPy 2.0.0, use numpy.lib.scimath.sqrt instead\n",
      "  quadeqN = (-b - sp.sqrt(b**2 - 4*a*c)) / (2*a)\n"
     ]
    }
   ],
   "source": [
    "a = 3\n",
    "b = 7\n",
    "c = 5\n",
    "\n",
    "quadeqP = (-b + sp.sqrt(b**2 - 4*a*c)) / (2*a)\n",
    "\n",
    "quadeqN = (-b - sp.sqrt(b**2 - 4*a*c)) / (2*a)\n",
    "\n",
    "print(quadeqP, quadeqN)"
   ]
  },
  {
   "cell_type": "code",
   "execution_count": 7,
   "metadata": {},
   "outputs": [
    {
     "name": "stdout",
     "output_type": "stream",
     "text": [
      "(-1.1666666666666665+0.5527707983925666j) (-1.1666666666666665-0.5527707983925666j)\n"
     ]
    }
   ],
   "source": [
    "### NOTE: After I created the videos, scipy announced that they will deprecate their sqrt function.\n",
    "#  So now you should use numpy's scimath.sqrt function if you expect complex-valued results (or use\n",
    "#  the regular np.sqrt function for real-valued results). This is adjusted in the code below, which\n",
    "#  means there is a minor discrepancy between this code and the video.\n",
    "\n",
    "a = 3\n",
    "b = 7\n",
    "c = 5\n",
    "\n",
    "quadeqP = (-b + np.lib.scimath.sqrt(b**2 - 4*a*c)) / (2*a)\n",
    "\n",
    "quadeqN = (-b - np.lib.scimath.sqrt(b**2 - 4*a*c)) / (2*a)\n",
    "\n",
    "print(quadeqP, quadeqN)\n"
   ]
  },
  {
   "cell_type": "code",
   "execution_count": 8,
   "metadata": {},
   "outputs": [],
   "source": [
    "# as a function!\n",
    "\n",
    "def quadeq(a,b,c):\n",
    "    \n",
    "    # initialize\n",
    "    out = sp.zeros(2)\n",
    "    \n",
    "    # compute\n",
    "    out[0] = ( -b - np.lib.scimath.sqrt(b**2 - 4*a*c) ) / (2*a)\n",
    "    out[1] = ( -b + np.lib.scimath.sqrt(b**2 - 4*a*c) ) / (2*a)\n",
    "    \n",
    "    # output\n",
    "    return out"
   ]
  },
  {
   "cell_type": "code",
   "execution_count": 10,
   "metadata": {},
   "outputs": [],
   "source": [
    "# as a function!\n",
    "\n",
    "def quadeq(a,b,c):\n",
    "    \n",
    "    # initialize\n",
    "    out = np.zeros(2)\n",
    "    \n",
    "    # compute\n",
    "    out[0] = ( -b - np.lib.scimath.sqrt(b**2 - 4*a*c) ) / (2*a)\n",
    "    out[1] = ( -b + np.lib.scimath.sqrt(b**2 - 4*a*c) ) / (2*a)\n",
    "    \n",
    "    # output\n",
    "    return out"
   ]
  },
  {
   "cell_type": "code",
   "execution_count": 12,
   "metadata": {},
   "outputs": [
    {
     "name": "stdout",
     "output_type": "stream",
     "text": [
      "[-2.5 -1. ]\n"
     ]
    }
   ],
   "source": [
    "sol = quadeq(2, 7, 5)\n",
    "print(sol)"
   ]
  },
  {
   "cell_type": "markdown",
   "metadata": {},
   "source": [
    "### Exercise\n",
    "- Compute the quadratic equation for: <br>\n",
    "$ a = 1 $ <br>\n",
    "$ b = \\{-5, -4, ..., 5\\} $ <br>\n",
    "$ c = \\{-2, -1, ..., 10\\} $ <br>"
   ]
  },
  {
   "cell_type": "code",
   "execution_count": 20,
   "metadata": {},
   "outputs": [
    {
     "name": "stderr",
     "output_type": "stream",
     "text": [
      "/tmp/ipykernel_9483/1699679149.py:9: ComplexWarning: Casting complex values to real discards the imaginary part\n",
      "  out[0] = ( -b - np.lib.scimath.sqrt(b**2 - 4*a*c) ) / (2*a)\n",
      "/tmp/ipykernel_9483/1699679149.py:10: ComplexWarning: Casting complex values to real discards the imaginary part\n",
      "  out[1] = ( -b + np.lib.scimath.sqrt(b**2 - 4*a*c) ) / (2*a)\n"
     ]
    },
    {
     "data": {
      "image/png": "[encoded data removed]",
      "text/plain": [
       "<Figure size 432x288 with 2 Axes>"
      ]
     },
     "metadata": {
      "needs_background": "light"
     },
     "output_type": "display_data"
    }
   ],
   "source": [
    "a = 1\n",
    "b = range(-5, 5)\n",
    "c = range(-2, 10)\n",
    "\n",
    "M = np.zeros((len(b), len(c)))\n",
    "\n",
    "for bi in range(0, len(b)):\n",
    "    for ci in range(0, len(c)):\n",
    "        M[bi, ci] = quadeq(a, b[bi], c[ci])[0]\n",
    "\n",
    "plt.imshow(M, extent=[ c[0], c[-1], b[0], b[-1] ])\n",
    "plt.xlabel('c')\n",
    "plt.ylabel('b')\n",
    "plt.title('a=' + str(a))\n",
    "plt.colorbar()\n",
    "plt.show()\n"
   ]
  },
  {
   "cell_type": "markdown",
   "metadata": {},
   "source": [
    "# VIDEO: Complex numbers: addition and subtraction"
   ]
  },
  {
   "cell_type": "code",
   "execution_count": 9,
   "metadata": {},
   "outputs": [],
   "source": [
    "import numpy as np\n",
    "import sympy as sym"
   ]
  },
  {
   "cell_type": "code",
   "execution_count": 11,
   "metadata": {},
   "outputs": [
    {
     "name": "stdout",
     "output_type": "stream",
     "text": [
      "1j\n",
      "nan\n",
      "1j\n",
      "(6.123233995736766e-17+1j)\n",
      "I\n"
     ]
    },
    {
     "name": "stderr",
     "output_type": "stream",
     "text": [
      "/tmp/ipykernel_33288/1755866072.py:2: RuntimeWarning: invalid value encountered in sqrt\n",
      "  print(np.sqrt(-1))\n"
     ]
    }
   ],
   "source": [
    "print(1j)\n",
    "print(np.sqrt(-1))\n",
    "print(np.sqrt(-1, dtype='complex'))\n",
    "\n",
    "print( (-1)**(1/2)) # Not a prefered method for getting the imaginary operator\n",
    "\n",
    "print( sym.I )\n"
   ]
  },
  {
   "cell_type": "code",
   "execution_count": 14,
   "metadata": {},
   "outputs": [
    {
     "name": "stdout",
     "output_type": "stream",
     "text": [
      "<class 'complex'>\n",
      "<class 'complex'>\n"
     ]
    }
   ],
   "source": [
    "# create complex numbers\n",
    "\n",
    "real_part = 4\n",
    "imag_part = -5\n",
    "\n",
    "#cn1 = np.complex(real_part,imag_part) # Deprecated\n",
    "\n",
    "cn1 = complex(real_part,imag_part)\n",
    "cn2 = real_part + 1j*imag_part\n",
    "\n",
    "print(type(cn1))\n",
    "print(type(cn2))"
   ]
  },
  {
   "cell_type": "code",
   "execution_count": 15,
   "metadata": {},
   "outputs": [
    {
     "name": "stdout",
     "output_type": "stream",
     "text": [
      "(10+3j)\n",
      "(-2+7j)\n"
     ]
    }
   ],
   "source": [
    "# now for adding and subtracting\n",
    "z1 = complex(4,5)\n",
    "z2 = complex(6,-2)\n",
    "\n",
    "print(z1+z2)\n",
    "print(z1-z2)\n"
   ]
  },
  {
   "cell_type": "code",
   "execution_count": 16,
   "metadata": {},
   "outputs": [
    {
     "name": "stdout",
     "output_type": "stream",
     "text": [
      "The real part of z is 4.0\n",
      "The imaginary part of z is 5.0\n"
     ]
    }
   ],
   "source": [
    "# extracting the real and imaginary parts of a complex number\n",
    "print( 'The real part of z is ' + str(z1.real))\n",
    "print( 'The imaginary part of z is ' + str(z1.imag))"
   ]
  },
  {
   "cell_type": "markdown",
   "metadata": {},
   "source": [
    "### Exercise"
   ]
  },
  {
   "cell_type": "code",
   "execution_count": 20,
   "metadata": {},
   "outputs": [
    {
     "name": "stdout",
     "output_type": "stream",
     "text": [
      "(7+10j)\n",
      "(7+10j)\n"
     ]
    }
   ],
   "source": [
    "w = complex(2, 4)\n",
    "z = complex(5, 6)\n",
    "\n",
    "print(w + z)\n",
    "\n",
    "w_plus_z = complex(w.real + z.real, w.imag + z.imag)\n",
    "print(w_plus_z)\n"
   ]
  },
  {
   "cell_type": "code",
   "execution_count": null,
   "metadata": {},
   "outputs": [],
   "source": []
  },
  {
   "cell_type": "markdown",
   "metadata": {},
   "source": [
    "# VIDEO: Complex numbers: conjugate and multiplication"
   ]
  },
  {
   "cell_type": "code",
   "execution_count": 23,
   "metadata": {},
   "outputs": [],
   "source": [
    "import numpy as np\n",
    "import sympy as sym\n",
    "from IPython.display import display, Math"
   ]
  },
  {
   "cell_type": "code",
   "execution_count": 7,
   "metadata": {},
   "outputs": [
    {
     "data": {
      "text/latex": [
       "$\\displaystyle 34.0 + 22.0 i$"
      ],
      "text/plain": [
       "34.0 + 22.0*I"
      ]
     },
     "execution_count": 7,
     "metadata": {},
     "output_type": "execute_result"
    }
   ],
   "source": [
    "z1 = complex(4, 5)\n",
    "z2 = complex(6, -2)\n",
    "\n",
    "w = z1.real * z2.real + z1.real * z2.imag*1j + z1.imag * 1j * z2.real + z1.imag*1j*z2.imag*1J\n",
    "# print(w)\n",
    "# print(z1*z2)\n",
    "# sym.sympify(w)\n",
    "sym.sympify(z1*z2)"
   ]
  },
  {
   "cell_type": "code",
   "execution_count": 12,
   "metadata": {},
   "outputs": [
    {
     "data": {
      "text/plain": [
       "(4-5j)"
      ]
     },
     "execution_count": 12,
     "metadata": {},
     "output_type": "execute_result"
    }
   ],
   "source": [
    "z1.conjugate()"
   ]
  },
  {
   "cell_type": "markdown",
   "metadata": {},
   "source": [
    "### Exercise\n",
    "- Use sympy to show that : \n",
    "\n",
    "$ z \\times \\bar{z} = a^2 + b^2 $"
   ]
  },
  {
   "cell_type": "code",
   "execution_count": 19,
   "metadata": {},
   "outputs": [
    {
     "data": {
      "text/latex": [
       "$\\displaystyle a - i b$"
      ],
      "text/plain": [
       "a - I*b"
      ]
     },
     "execution_count": 19,
     "metadata": {},
     "output_type": "execute_result"
    }
   ],
   "source": [
    "a, b = sym.symbols('a, b', real=True)\n",
    "z = a + b * sym.I\n",
    "\n",
    "sym.conjugate(z)"
   ]
  },
  {
   "cell_type": "code",
   "execution_count": 24,
   "metadata": {},
   "outputs": [
    {
     "data": {
      "text/latex": [
       "$\\displaystyle z\\times \\bar{z} = a^{2} + b^{2} $"
      ],
      "text/plain": [
       "<IPython.core.display.Math object>"
      ]
     },
     "metadata": {},
     "output_type": "display_data"
    }
   ],
   "source": [
    "display(Math('z\\\\times \\\\bar{z} = %s ' %sym.latex(sym.expand(z * sym.conjugate(z)))))\n",
    "\n"
   ]
  },
  {
   "cell_type": "markdown",
   "metadata": {},
   "source": [
    "# VIDEO: Complex numbers: division\n",
    "\n",
    "$ \\frac{z}{w} \\rightarrow \\frac{z \\bar{w}}{w \\bar{w}} $\n",
    "- Example: <br> <br>\n",
    "\n",
    "$ \\frac{4 + 2i}{2 -3i} = \\frac{(4 + 2i)(2 +3i)}{(2 -3i){(2 +3i)}} $ <br>\n",
    "\n",
    "$ \\frac{4 + 2i}{2 -3i} = \\frac{8 + 12i + 4i -6}{2^2 + 3^2} $ <br>\n",
    "\n",
    "$ \\frac{4 + 2i}{2 -3i} = \\frac{2 + 16i}{13} $ <br>\n"
   ]
  },
  {
   "cell_type": "code",
   "execution_count": 3,
   "metadata": {},
   "outputs": [],
   "source": [
    "import numpy as np\n",
    "import sympy as sym\n",
    "from IPython.display import display, Math"
   ]
  },
  {
   "cell_type": "code",
   "execution_count": 4,
   "metadata": {},
   "outputs": [
    {
     "data": {
      "text/latex": [
       "$\\displaystyle \\frac{(4+2j)}{2} = (2+1j)$"
      ],
      "text/plain": [
       "<IPython.core.display.Math object>"
      ]
     },
     "metadata": {},
     "output_type": "display_data"
    }
   ],
   "source": [
    "z = complex(4, 2)\n",
    "\n",
    "display(Math('\\\\frac{%s}{2} = %s' %(z, z/2)))"
   ]
  },
  {
   "cell_type": "code",
   "execution_count": 11,
   "metadata": {},
   "outputs": [
    {
     "data": {
      "text/latex": [
       "$\\displaystyle \\frac{(4+2j)}{(2-3j)} = \\frac{(4+2j) \\times (2+3j)}{(2-3j) \\times (2+3j)} = (0.15384615384615383+1.2307692307692308j)$"
      ],
      "text/plain": [
       "<IPython.core.display.Math object>"
      ]
     },
     "metadata": {},
     "output_type": "display_data"
    }
   ],
   "source": [
    "z1 = complex(4, 2)\n",
    "z2 = complex(2, -3)\n",
    "\n",
    "display( \\\n",
    "    Math('\\\\frac{%s}{%s} = \\\\frac{%s \\\\times %s}{%s \\\\times %s} = %s' \\\n",
    "        %(z1, z2, \\\n",
    "            z1, z2.conjugate(), z2, z2.conjugate(), \\\n",
    "                z1/z2 \n",
    "                )))"
   ]
  },
  {
   "cell_type": "markdown",
   "metadata": {},
   "source": [
    "### Exercises\n",
    "\n",
    "$ \\frac{(z-1)(zw + w)}{wz-w} \\times \\frac{(w-1)(1-w)}{-zw^2-w^2+2wz+2w-z-1} $\n",
    "<br>\n",
    "<br>\n",
    "$ z = 4 \\quad 2i $\n",
    "<br>\n",
    "$ w = 3 \\quad 5i $\n",
    "\n"
   ]
  },
  {
   "cell_type": "code",
   "execution_count": 12,
   "metadata": {},
   "outputs": [],
   "source": [
    "import numpy as np\n",
    "import sympy as sym\n",
    "from IPython.display import display, Math"
   ]
  },
  {
   "cell_type": "code",
   "execution_count": 28,
   "metadata": {},
   "outputs": [],
   "source": [
    "z = complex(4, 2)\n",
    "w = complex(3, 5)"
   ]
  },
  {
   "cell_type": "code",
   "execution_count": 29,
   "metadata": {},
   "outputs": [
    {
     "data": {
      "text/latex": [
       "$\\displaystyle \\mathtt{\\text{(1+0j)}}$"
      ],
      "text/plain": [
       "<IPython.core.display.Math object>"
      ]
     },
     "metadata": {},
     "output_type": "display_data"
    }
   ],
   "source": [
    "left_numer = (z-1) * (z*w+w)\n",
    "left_denom = (w*z-w)\n",
    "left_part = left_numer / left_denom\n",
    "\n",
    "right_numer = (w-1)*(1-w)\n",
    "right_denom = -z*w**2 - w**2 + 2*w*z + 2*w - z - 1 \n",
    "\n",
    "right_part = right_numer / right_denom\n",
    "\n",
    "solution = left_part * right_part\n",
    "\n",
    "\n",
    "\n",
    "display(Math('%s' %(sym.latex(solution))))"
   ]
  },
  {
   "cell_type": "markdown",
   "metadata": {},
   "source": [
    "# VIDEO: Graphing complex numbers"
   ]
  },
  {
   "cell_type": "code",
   "execution_count": 1,
   "metadata": {},
   "outputs": [],
   "source": [
    "import numpy as np\n",
    "import matplotlib.pyplot as plt"
   ]
  },
  {
   "cell_type": "code",
   "execution_count": 9,
   "metadata": {},
   "outputs": [
    {
     "data": {
      "text/plain": [
       "(-4.0, 4.0, -4.0, 4.0)"
      ]
     },
     "execution_count": 9,
     "metadata": {},
     "output_type": "execute_result"
    },
    {
     "data": {
      "image/png": "[encoded data removed]",
      "text/plain": [
       "<Figure size 432x288 with 1 Axes>"
      ]
     },
     "metadata": {
      "needs_background": "light"
     },
     "output_type": "display_data"
    }
   ],
   "source": [
    "z = complex(2, 3)\n",
    "plt.plot(z.real, z.imag, 'ro')\n",
    "plt.plot([0, z.real], [0, z.imag], 'r')\n",
    "\n",
    "plt.xlabel('real')\n",
    "plt.ylabel('imag')\n",
    "plt.grid()\n",
    "plt.axis([-4, 4, -4, 4])"
   ]
  },
  {
   "cell_type": "markdown",
   "metadata": {},
   "source": [
    "### Exercises\n",
    "$ z_1 = -3 \\quad i $ <br>\n",
    "$ z_2 = -1 \\quad i $ <br>\n",
    "\n",
    "- Graph $ z_1 + z_1 $ <br>\n",
    "- Graph $ z_1 \\times z_1 $ "
   ]
  },
  {
   "cell_type": "code",
   "execution_count": 10,
   "metadata": {},
   "outputs": [],
   "source": [
    "z1 = complex(-3, 1)\n",
    "z2 = complex(-1, 1)"
   ]
  },
  {
   "cell_type": "code",
   "execution_count": 23,
   "metadata": {},
   "outputs": [
    {
     "data": {
      "image/png": "[encoded data removed]",
      "text/plain": [
       "<Figure size 432x288 with 1 Axes>"
      ]
     },
     "metadata": {
      "needs_background": "light"
     },
     "output_type": "display_data"
    }
   ],
   "source": [
    "z1_pl_z2 = z1 + z2\n",
    "\n",
    "plt.plot([0, z1.real], [0, z1.imag], label='z1')\n",
    "plt.plot([0, z2.real], [0, z2.imag], label='z2')\n",
    "plt.plot([0, z1_pl_z2.real], [0, z1_pl_z2.imag], label='z1+z2')\n",
    "\n",
    "plt.xlabel('real')\n",
    "plt.ylabel('imag')\n",
    "plt.grid()\n",
    "\n",
    "plt.axis('square')\n",
    "plt.legend()\n",
    "plt.axis([-5, 5, -5, 5])\n",
    "\n",
    "plt.show()"
   ]
  },
  {
   "cell_type": "code",
   "execution_count": 24,
   "metadata": {},
   "outputs": [
    {
     "data": {
      "image/png": "[encoded data removed]",
      "text/plain": [
       "<Figure size 432x288 with 1 Axes>"
      ]
     },
     "metadata": {
      "needs_background": "light"
     },
     "output_type": "display_data"
    }
   ],
   "source": [
    "z1_tim_z2 = z1 * z2\n",
    "\n",
    "plt.plot([0, z1.real], [0, z1.imag], label='z1')\n",
    "plt.plot([0, z2.real], [0, z2.imag], label='z2')\n",
    "plt.plot([0, z1_tim_z2.real], [0, z1_tim_z2.imag], label='z1+z2')\n",
    "\n",
    "plt.xlabel('real')\n",
    "plt.ylabel('imag')\n",
    "plt.grid()\n",
    "\n",
    "plt.axis('square')\n",
    "plt.legend()\n",
    "plt.axis([-5, 5, -5, 5])\n",
    "\n",
    "plt.show()"
   ]
  },
  {
   "cell_type": "markdown",
   "metadata": {},
   "source": [
    "# VIDEO: Revising the quadratic equation with complex numbers"
   ]
  },
  {
   "cell_type": "code",
   "execution_count": null,
   "metadata": {},
   "outputs": [],
   "source": []
  },
  {
   "cell_type": "code",
   "execution_count": null,
   "metadata": {},
   "outputs": [],
   "source": []
  },
  {
   "cell_type": "markdown",
   "metadata": {},
   "source": [
    "# VIDEO: The unit circle"
   ]
  },
  {
   "cell_type": "code",
   "execution_count": null,
   "metadata": {},
   "outputs": [],
   "source": []
  },
  {
   "cell_type": "code",
   "execution_count": null,
   "metadata": {},
   "outputs": [],
   "source": []
  },
  {
   "cell_type": "markdown",
   "metadata": {},
   "source": [
    "### Exercises"
   ]
  },
  {
   "cell_type": "code",
   "execution_count": null,
   "metadata": {},
   "outputs": [],
   "source": []
  },
  {
   "cell_type": "markdown",
   "metadata": {},
   "source": [
    "# VIDEO: Natural exponent and logarithm"
   ]
  },
  {
   "cell_type": "code",
   "execution_count": null,
   "metadata": {},
   "outputs": [],
   "source": []
  },
  {
   "cell_type": "code",
   "execution_count": null,
   "metadata": {},
   "outputs": [],
   "source": []
  },
  {
   "cell_type": "markdown",
   "metadata": {},
   "source": [
    "### Exercise"
   ]
  },
  {
   "cell_type": "code",
   "execution_count": null,
   "metadata": {},
   "outputs": [],
   "source": []
  },
  {
   "cell_type": "markdown",
   "metadata": {},
   "source": [
    "# VIDEO: Find a specific point on a Gaussian"
   ]
  },
  {
   "cell_type": "code",
   "execution_count": null,
   "metadata": {},
   "outputs": [],
   "source": []
  },
  {
   "cell_type": "code",
   "execution_count": null,
   "metadata": {},
   "outputs": [],
   "source": []
  },
  {
   "cell_type": "markdown",
   "metadata": {},
   "source": [
    "### Exercise"
   ]
  },
  {
   "cell_type": "code",
   "execution_count": null,
   "metadata": {},
   "outputs": [],
   "source": []
  },
  {
   "cell_type": "markdown",
   "metadata": {},
   "source": [
    "# VIDEO: Graphing the complex roots of unity"
   ]
  },
  {
   "cell_type": "code",
   "execution_count": null,
   "metadata": {},
   "outputs": [],
   "source": []
  },
  {
   "cell_type": "code",
   "execution_count": null,
   "metadata": {},
   "outputs": [],
   "source": []
  },
  {
   "cell_type": "markdown",
   "metadata": {},
   "source": [
    "### Exercise"
   ]
  },
  {
   "cell_type": "code",
   "execution_count": null,
   "metadata": {},
   "outputs": [],
   "source": []
  },
  {
   "cell_type": "markdown",
   "metadata": {},
   "source": [
    "# VIDEO: Log-spaced and linearly spaced numbers"
   ]
  },
  {
   "cell_type": "code",
   "execution_count": null,
   "metadata": {},
   "outputs": [],
   "source": []
  },
  {
   "cell_type": "code",
   "execution_count": null,
   "metadata": {},
   "outputs": [],
   "source": []
  },
  {
   "cell_type": "code",
   "execution_count": null,
   "metadata": {},
   "outputs": [],
   "source": []
  },
  {
   "cell_type": "code",
   "execution_count": null,
   "metadata": {},
   "outputs": [],
   "source": []
  },
  {
   "cell_type": "markdown",
   "metadata": {},
   "source": [
    "### Exercise"
   ]
  },
  {
   "cell_type": "code",
   "execution_count": null,
   "metadata": {},
   "outputs": [],
   "source": []
  },
  {
   "cell_type": "markdown",
   "metadata": {},
   "source": [
    "# VIDEO: Logarithm properties: Multiplication and division"
   ]
  },
  {
   "cell_type": "code",
   "execution_count": null,
   "metadata": {},
   "outputs": [],
   "source": []
  },
  {
   "cell_type": "code",
   "execution_count": null,
   "metadata": {},
   "outputs": [],
   "source": []
  },
  {
   "cell_type": "markdown",
   "metadata": {},
   "source": [
    "### Exercise"
   ]
  },
  {
   "cell_type": "code",
   "execution_count": null,
   "metadata": {},
   "outputs": [],
   "source": []
  },
  {
   "cell_type": "code",
   "execution_count": null,
   "metadata": {},
   "outputs": [],
   "source": []
  },
  {
   "cell_type": "markdown",
   "metadata": {},
   "source": [
    "# VIDEO: Scientific notation"
   ]
  },
  {
   "cell_type": "code",
   "execution_count": null,
   "metadata": {},
   "outputs": [],
   "source": []
  },
  {
   "cell_type": "code",
   "execution_count": null,
   "metadata": {},
   "outputs": [],
   "source": []
  },
  {
   "cell_type": "code",
   "execution_count": null,
   "metadata": {},
   "outputs": [],
   "source": []
  },
  {
   "cell_type": "code",
   "execution_count": null,
   "metadata": {},
   "outputs": [],
   "source": []
  },
  {
   "cell_type": "markdown",
   "metadata": {},
   "source": [
    "### Exercise"
   ]
  },
  {
   "cell_type": "code",
   "execution_count": null,
   "metadata": {},
   "outputs": [],
   "source": []
  },
  {
   "cell_type": "markdown",
   "metadata": {},
   "source": [
    "# VIDEO: Maxima and minima of a function"
   ]
  },
  {
   "cell_type": "code",
   "execution_count": null,
   "metadata": {},
   "outputs": [],
   "source": []
  },
  {
   "cell_type": "code",
   "execution_count": null,
   "metadata": {},
   "outputs": [],
   "source": []
  },
  {
   "cell_type": "code",
   "execution_count": null,
   "metadata": {},
   "outputs": [],
   "source": []
  },
  {
   "cell_type": "markdown",
   "metadata": {},
   "source": [
    "### Exercise"
   ]
  },
  {
   "cell_type": "code",
   "execution_count": null,
   "metadata": {},
   "outputs": [],
   "source": []
  },
  {
   "cell_type": "markdown",
   "metadata": {},
   "source": [
    "# VIDEO: Even and odd functions"
   ]
  },
  {
   "cell_type": "code",
   "execution_count": null,
   "metadata": {},
   "outputs": [],
   "source": []
  },
  {
   "cell_type": "code",
   "execution_count": null,
   "metadata": {},
   "outputs": [],
   "source": []
  },
  {
   "cell_type": "markdown",
   "metadata": {},
   "source": [
    "### Exercise"
   ]
  },
  {
   "cell_type": "code",
   "execution_count": null,
   "metadata": {},
   "outputs": [],
   "source": []
  },
  {
   "cell_type": "markdown",
   "metadata": {},
   "source": [
    "# VIDEO: Arithmetic and geometric sequences"
   ]
  },
  {
   "cell_type": "code",
   "execution_count": null,
   "metadata": {},
   "outputs": [],
   "source": []
  },
  {
   "cell_type": "code",
   "execution_count": null,
   "metadata": {},
   "outputs": [],
   "source": []
  },
  {
   "cell_type": "code",
   "execution_count": null,
   "metadata": {},
   "outputs": [],
   "source": []
  },
  {
   "cell_type": "markdown",
   "metadata": {},
   "source": [
    "### Exercise"
   ]
  },
  {
   "cell_type": "code",
   "execution_count": null,
   "metadata": {},
   "outputs": [],
   "source": []
  },
  {
   "cell_type": "markdown",
   "metadata": {},
   "source": [
    "# VIDEO: Algebra BUG HUNT!"
   ]
  },
  {
   "cell_type": "code",
   "execution_count": null,
   "metadata": {},
   "outputs": [],
   "source": []
  },
  {
   "cell_type": "code",
   "execution_count": null,
   "metadata": {},
   "outputs": [],
   "source": []
  },
  {
   "cell_type": "code",
   "execution_count": null,
   "metadata": {},
   "outputs": [],
   "source": []
  },
  {
   "cell_type": "code",
   "execution_count": null,
   "metadata": {},
   "outputs": [],
   "source": []
  },
  {
   "cell_type": "code",
   "execution_count": null,
   "metadata": {},
   "outputs": [],
   "source": []
  },
  {
   "cell_type": "code",
   "execution_count": null,
   "metadata": {},
   "outputs": [],
   "source": []
  },
  {
   "cell_type": "code",
   "execution_count": null,
   "metadata": {},
   "outputs": [],
   "source": []
  },
  {
   "cell_type": "code",
   "execution_count": null,
   "metadata": {},
   "outputs": [],
   "source": []
  },
  {
   "cell_type": "code",
   "execution_count": null,
   "metadata": {},
   "outputs": [],
   "source": []
  },
  {
   "cell_type": "code",
   "execution_count": null,
   "metadata": {},
   "outputs": [],
   "source": []
  },
  {
   "cell_type": "code",
   "execution_count": null,
   "metadata": {},
   "outputs": [],
   "source": []
  }
 ],
 "metadata": {
  "kernelspec": {
   "display_name": "Python 3",
   "language": "python",
   "name": "python3"
  },
  "language_info": {
   "codemirror_mode": {
    "name": "ipython",
    "version": 3
   },
   "file_extension": ".py",
   "mimetype": "text/x-python",
   "name": "python",
   "nbconvert_exporter": "python",
   "pygments_lexer": "ipython3",
   "version": "3.9.9"
  }
 },
 "nbformat": 4,
 "nbformat_minor": 4
}
