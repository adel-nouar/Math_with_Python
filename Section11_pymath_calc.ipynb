{
 "cells": [
  {
   "cell_type": "markdown",
   "metadata": {},
   "source": [
    "# COURSE: Master math by coding in Python\n",
    "## SECTION: Calculus\n",
    "\n",
    "#### https://www.udemy.com/course/math-with-python/?couponCode=MXC-DISC4ALL\n",
    "#### INSTRUCTOR: sincxpress.com\n",
    "\n",
    "Note about this code: Each video in this section of the course corresponds to a section of code below. Please note that this code roughly matches the code shown in the live recording, but is not exactly the same -- the variable names, order of lines, and parameters may be slightly different. "
   ]
  },
  {
   "cell_type": "code",
   "execution_count": 1,
   "id": "c567b84a",
   "metadata": {},
   "outputs": [],
   "source": [
    "import sympy as sym\n",
    "import matplotlib.pyplot as plt\n",
    "import numpy as np\n",
    "from scipy.signal import find_peaks\n",
    "from IPython.display import display,Math"
   ]
  },
  {
   "cell_type": "markdown",
   "metadata": {},
   "source": [
    "# VIDEO: Computing limits of a function"
   ]
  },
  {
   "cell_type": "code",
   "execution_count": 5,
   "id": "f21c36dd",
   "metadata": {},
   "outputs": [
    {
     "data": {
      "text/latex": [
       "$\\displaystyle \\lim_{x\\to 1.5} x^{3} = 3.375$"
      ],
      "text/plain": [
       "<IPython.core.display.Math object>"
      ]
     },
     "metadata": {},
     "output_type": "display_data"
    }
   ],
   "source": [
    "x = sym.symbols('x')\n",
    "fx = x**3\n",
    "\n",
    "lim_pnt = 1.5\n",
    "lim = sym.limit(fx, x, lim_pnt)\n",
    "display(Math('\\\\lim_{x\\\\to %g} %s = %g' %(lim_pnt, sym.latex(fx), lim)))"
   ]
  },
  {
   "cell_type": "code",
   "execution_count": 11,
   "id": "3fc069ef",
   "metadata": {},
   "outputs": [
    {
     "data": {
      "image/png": "[encoded data removed]",
      "text/plain": [
       "<Figure size 432x288 with 1 Axes>"
      ]
     },
     "metadata": {
      "needs_background": "light"
     },
     "output_type": "display_data"
    }
   ],
   "source": [
    "# evaluate the function in a range\n",
    "fxx = sym.lambdify(x,fx) # a function for evaluating a sympy function\n",
    "xx = np.linspace(-5,5,200)\n",
    "\n",
    "# show it in a plot\n",
    "plt.plot(xx,fxx(xx))\n",
    "\n",
    "# make the plot look a bit nicer\n",
    "plt.plot(lim_pnt,lim,'ro')\n",
    "plt.xlim([-5,5])\n",
    "plt.ylim([-10,10])\n",
    "plt.xlabel('x')\n",
    "plt.ylabel('f(x) = $%s$' %sym.latex(fx))\n",
    "\n",
    "plt.show()"
   ]
  },
  {
   "cell_type": "code",
   "execution_count": 12,
   "id": "72eea50c",
   "metadata": {},
   "outputs": [
    {
     "data": {
      "text/latex": [
       "$\\displaystyle \\lim_{x\\to 2^+} \\frac{x^{2}}{x - 2} = inf$"
      ],
      "text/plain": [
       "<IPython.core.display.Math object>"
      ]
     },
     "metadata": {},
     "output_type": "display_data"
    },
    {
     "data": {
      "image/png": "[encoded data removed]",
      "text/plain": [
       "<Figure size 432x288 with 1 Axes>"
      ]
     },
     "metadata": {
      "needs_background": "light"
     },
     "output_type": "display_data"
    }
   ],
   "source": [
    "# the function\n",
    "fx = (x**2)/(x-2)\n",
    "fxx = sym.lambdify(x,fx) # a function for evaluating a sympy function\n",
    "\n",
    "\n",
    "xx = np.linspace(1,3,100)\n",
    "\n",
    "# limit\n",
    "lim_pnt = 2\n",
    "lim = sym.limit(fx,x,lim_pnt,dir='+')\n",
    "\n",
    "display(Math('\\\\lim_{x\\\\to %g^+} %s = %g' %(lim_pnt,sym.latex(fx),lim)))\n",
    "\n",
    "# show it in a plot\n",
    "plt.plot(xx,fxx(xx))\n",
    "\n",
    "# make the plot look a bit nicer\n",
    "plt.plot(lim_pnt,lim,'ro')\n",
    "plt.xlim([1,3])\n",
    "plt.xlabel('x')\n",
    "plt.ylabel('f(x) = $%s$' %sym.latex(fx))\n",
    "\n",
    "plt.show()"
   ]
  },
  {
   "cell_type": "markdown",
   "metadata": {},
   "source": [
    "### Exercise"
   ]
  },
  {
   "cell_type": "code",
   "execution_count": null,
   "id": "b40e24df",
   "metadata": {},
   "outputs": [],
   "source": []
  },
  {
   "cell_type": "code",
   "execution_count": null,
   "id": "0e68048d",
   "metadata": {},
   "outputs": [],
   "source": []
  },
  {
   "cell_type": "markdown",
   "metadata": {},
   "source": [
    "# VIDEO: Piece-wise functions"
   ]
  },
  {
   "cell_type": "code",
   "execution_count": null,
   "id": "aeaca802",
   "metadata": {},
   "outputs": [],
   "source": []
  },
  {
   "cell_type": "markdown",
   "metadata": {},
   "source": [
    "### Exercise"
   ]
  },
  {
   "cell_type": "code",
   "execution_count": null,
   "id": "76c04974",
   "metadata": {},
   "outputs": [],
   "source": []
  },
  {
   "cell_type": "markdown",
   "metadata": {},
   "source": [
    "# VIDEO: Derivatives of polynomials"
   ]
  },
  {
   "cell_type": "code",
   "execution_count": null,
   "id": "478ff3e2",
   "metadata": {},
   "outputs": [],
   "source": []
  },
  {
   "cell_type": "code",
   "execution_count": null,
   "id": "51002164",
   "metadata": {},
   "outputs": [],
   "source": []
  },
  {
   "cell_type": "code",
   "execution_count": null,
   "id": "4fe4b2b1",
   "metadata": {},
   "outputs": [],
   "source": []
  },
  {
   "cell_type": "markdown",
   "metadata": {},
   "source": [
    "### Exercise"
   ]
  },
  {
   "cell_type": "code",
   "execution_count": null,
   "id": "d710b220",
   "metadata": {},
   "outputs": [],
   "source": []
  },
  {
   "cell_type": "code",
   "execution_count": null,
   "id": "bf63de9a",
   "metadata": {},
   "outputs": [],
   "source": []
  },
  {
   "cell_type": "code",
   "execution_count": null,
   "id": "ddc6106d",
   "metadata": {},
   "outputs": [],
   "source": []
  },
  {
   "cell_type": "markdown",
   "metadata": {},
   "source": [
    "# VIDEO: Derivatives of trig functions"
   ]
  },
  {
   "cell_type": "code",
   "execution_count": null,
   "id": "5af9be4c",
   "metadata": {},
   "outputs": [],
   "source": []
  },
  {
   "cell_type": "code",
   "execution_count": null,
   "id": "6c6bfc2d",
   "metadata": {},
   "outputs": [],
   "source": []
  },
  {
   "cell_type": "code",
   "execution_count": null,
   "id": "ed2e866e",
   "metadata": {},
   "outputs": [],
   "source": []
  },
  {
   "cell_type": "markdown",
   "metadata": {},
   "source": [
    "### Exercise"
   ]
  },
  {
   "cell_type": "code",
   "execution_count": null,
   "id": "1f6591f7",
   "metadata": {},
   "outputs": [],
   "source": []
  },
  {
   "cell_type": "markdown",
   "metadata": {},
   "source": [
    "# VIDEO: Graphing a function tangent line"
   ]
  },
  {
   "cell_type": "code",
   "execution_count": null,
   "id": "bcaf4921",
   "metadata": {},
   "outputs": [],
   "source": []
  },
  {
   "cell_type": "markdown",
   "metadata": {},
   "source": [
    "### Exercise"
   ]
  },
  {
   "cell_type": "code",
   "execution_count": null,
   "id": "04ff7195",
   "metadata": {},
   "outputs": [],
   "source": []
  },
  {
   "cell_type": "code",
   "execution_count": null,
   "id": "ffefadf9",
   "metadata": {},
   "outputs": [],
   "source": []
  },
  {
   "cell_type": "markdown",
   "metadata": {},
   "source": [
    "# VIDEO: Finding critical points of a function"
   ]
  },
  {
   "cell_type": "code",
   "execution_count": null,
   "id": "3f0aa261",
   "metadata": {},
   "outputs": [],
   "source": []
  },
  {
   "cell_type": "code",
   "execution_count": null,
   "id": "cee05bdd",
   "metadata": {},
   "outputs": [],
   "source": []
  },
  {
   "cell_type": "markdown",
   "metadata": {},
   "source": [
    "### Exercise"
   ]
  },
  {
   "cell_type": "code",
   "execution_count": null,
   "id": "44578602",
   "metadata": {},
   "outputs": [],
   "source": []
  },
  {
   "cell_type": "markdown",
   "metadata": {},
   "source": [
    "# VIDEO: Partial derivatives"
   ]
  },
  {
   "cell_type": "code",
   "execution_count": null,
   "id": "2d35358d",
   "metadata": {},
   "outputs": [],
   "source": []
  },
  {
   "cell_type": "markdown",
   "metadata": {},
   "source": [
    "### Exercise"
   ]
  },
  {
   "cell_type": "code",
   "execution_count": null,
   "id": "92fd20a9",
   "metadata": {},
   "outputs": [],
   "source": []
  },
  {
   "cell_type": "markdown",
   "metadata": {},
   "source": [
    "# VIDEO: Indefinite and definite integrals"
   ]
  },
  {
   "cell_type": "code",
   "execution_count": null,
   "id": "fb1a6aa9",
   "metadata": {},
   "outputs": [],
   "source": []
  },
  {
   "cell_type": "code",
   "execution_count": null,
   "id": "3ef4069f",
   "metadata": {},
   "outputs": [],
   "source": []
  },
  {
   "cell_type": "code",
   "execution_count": null,
   "id": "c6bf782a",
   "metadata": {},
   "outputs": [],
   "source": []
  },
  {
   "cell_type": "markdown",
   "metadata": {},
   "source": [
    "### Exercise"
   ]
  },
  {
   "cell_type": "code",
   "execution_count": null,
   "id": "29117569",
   "metadata": {},
   "outputs": [],
   "source": []
  },
  {
   "cell_type": "markdown",
   "metadata": {},
   "source": [
    "# VIDEO: Area between two curves"
   ]
  },
  {
   "cell_type": "code",
   "execution_count": null,
   "id": "3c2ee5f1",
   "metadata": {},
   "outputs": [],
   "source": []
  },
  {
   "cell_type": "code",
   "execution_count": null,
   "id": "eb585bbb",
   "metadata": {},
   "outputs": [],
   "source": []
  },
  {
   "cell_type": "markdown",
   "metadata": {},
   "source": [
    "### Exercise"
   ]
  },
  {
   "cell_type": "markdown",
   "metadata": {},
   "source": [
    "### Computing the area between two functions\n",
    "The area between two functions is given by the formula $A = \\int_{a}^{b}f(x) - g(x) dx$\n",
    "\n",
    "In our example, $f(x)=x^2$ and $g(x)=x$\n",
    "\n",
    "Therefore, $A = \\int_{a}^{b}(x^2 - x) dx$\n",
    "\n",
    "We will compute the area between the two crossing points, that is, where the two functions are equal. This is given by the two solutions to the equation\n",
    "$$x^2=x$$\n",
    "\n",
    "The two solutions are $x=0$ and $x=1$. This gives us the definite integral of\n",
    "$$A = \\int_{0}^{1}(x^2 - x) dx$$\n",
    "\n",
    "The final answer will be given in the code below."
   ]
  },
  {
   "cell_type": "code",
   "execution_count": null,
   "id": "15e626cb",
   "metadata": {},
   "outputs": [],
   "source": []
  },
  {
   "cell_type": "markdown",
   "metadata": {},
   "source": [
    "# VIDEO: Calculus BUG HUNT!!"
   ]
  },
  {
   "cell_type": "code",
   "execution_count": null,
   "id": "8c0c1d9d",
   "metadata": {},
   "outputs": [],
   "source": []
  },
  {
   "cell_type": "code",
   "execution_count": null,
   "id": "728fe8e6",
   "metadata": {},
   "outputs": [],
   "source": []
  },
  {
   "cell_type": "code",
   "execution_count": null,
   "id": "30c3a775",
   "metadata": {},
   "outputs": [],
   "source": []
  },
  {
   "cell_type": "code",
   "execution_count": null,
   "id": "52a252f1",
   "metadata": {},
   "outputs": [],
   "source": []
  },
  {
   "cell_type": "code",
   "execution_count": null,
   "id": "b286d11c",
   "metadata": {},
   "outputs": [],
   "source": []
  },
  {
   "cell_type": "code",
   "execution_count": null,
   "id": "87b2138a",
   "metadata": {},
   "outputs": [],
   "source": []
  }
 ],
 "metadata": {
  "kernelspec": {
   "display_name": "Python 3",
   "language": "python",
   "name": "python3"
  },
  "language_info": {
   "codemirror_mode": {
    "name": "ipython",
    "version": 3
   },
   "file_extension": ".py",
   "mimetype": "text/x-python",
   "name": "python",
   "nbconvert_exporter": "python",
   "pygments_lexer": "ipython3",
   "version": "3.9.10"
  }
 },
 "nbformat": 4,
 "nbformat_minor": 2
}
