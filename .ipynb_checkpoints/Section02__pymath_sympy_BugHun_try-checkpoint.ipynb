{
 "cells": [
  {
   "cell_type": "markdown",
   "metadata": {},
   "source": [
    "# Sympy and LaTex: Bug hunt!"
   ]
  },
  {
   "cell_type": "code",
   "execution_count": 1,
   "metadata": {},
   "outputs": [],
   "source": [
    "import sympy as sym \n",
    "from IPython.display import display, Math"
   ]
  },
  {
   "cell_type": "code",
   "execution_count": 2,
   "metadata": {},
   "outputs": [
    {
     "data": {
      "text/latex": [
       "$\\displaystyle 2 e^{\\frac{\\mu^{2}}{\\alpha}}$"
      ],
      "text/plain": [
       "2*exp(mu**2/alpha)"
      ]
     },
     "metadata": {},
     "output_type": "display_data"
    }
   ],
   "source": [
    "mu,alpha = sym.symbols('mu,alpha')\n",
    "\n",
    "expr = 2*sym.exp(mu**2/alpha)\n",
    "\n",
    "display(expr)"
   ]
  },
  {
   "cell_type": "code",
   "execution_count": 3,
   "metadata": {},
   "outputs": [
    {
     "data": {
      "text/latex": [
       "$\\displaystyle 1234 + \\frac{3x}{\\sin(2\\pi t+\theta)}$"
      ],
      "text/plain": [
       "<IPython.core.display.Math object>"
      ]
     },
     "execution_count": 3,
     "metadata": {},
     "output_type": "execute_result"
    }
   ],
   "source": [
    "Math('1234 + \\\\frac{3x}{\\sin(2\\pi t+\\theta)}')"
   ]
  },
  {
   "cell_type": "code",
   "execution_count": 4,
   "metadata": {},
   "outputs": [
    {
     "name": "stdout",
     "output_type": "stream",
     "text": [
      "7\n"
     ]
    }
   ],
   "source": [
    "a = 3\n",
    "b = 4\n",
    "\n",
    "# answer should be 7\n",
    "print(sym.sympify(a+b))"
   ]
  },
  {
   "cell_type": "code",
   "execution_count": 5,
   "metadata": {},
   "outputs": [
    {
     "data": {
      "text/latex": [
       "$\\displaystyle 4 x = 2$"
      ],
      "text/plain": [
       "Eq(4*x, 2)"
      ]
     },
     "execution_count": 5,
     "metadata": {},
     "output_type": "execute_result"
    }
   ],
   "source": [
    "x = sym.symbols('x')\n",
    "sym.Eq( 4*x, 2 )"
   ]
  },
  {
   "cell_type": "code",
   "execution_count": 9,
   "metadata": {},
   "outputs": [
    {
     "ename": "SyntaxError",
     "evalue": "invalid syntax (1912678897.py, line 7)",
     "output_type": "error",
     "traceback": [
      "\u001b[0;36m  File \u001b[0;32m\"/var/folders/tq/_20t1l8s7l11ny5j1hgksfgr0000gn/T/ipykernel_3863/1912678897.py\"\u001b[0;36m, line \u001b[0;32m7\u001b[0m\n\u001b[0;31m    display(Math(sym.latex(r))\u001b[0m\n\u001b[0m    ^\u001b[0m\n\u001b[0;31mSyntaxError\u001b[0m\u001b[0;31m:\u001b[0m invalid syntax\n"
     ]
    }
   ],
   "source": [
    "# part 1 of 2\n",
    "\n",
    "q = x^2\n",
    "r = x**2\n",
    "\n",
    "display(Math(sym.latex(q))\n",
    "display(Math(sym.latex(r))"
   ]
  },
  {
   "cell_type": "code",
   "execution_count": null,
   "metadata": {},
   "outputs": [],
   "source": [
    "# part 2 of 2\n",
    "\n",
    "q,r = sym.symbols('q,r')\n",
    "\n",
    "q = sym.sympify('x^2')\n",
    "r = sym.sympify('x**2')\n",
    "\n",
    "display(q)\n",
    "display(r)\n",
    "\n",
    "sym.Eq(q,r)"
   ]
  },
  {
   "cell_type": "code",
   "execution_count": null,
   "metadata": {},
   "outputs": [],
   "source": [
    "x = sym.symbols('x')\n",
    "\n",
    "equation = (4*x**2 - 5*x + 10)**(1/2)\n",
    "display(equation)\n",
    "sym.subs(equation,x,3)"
   ]
  },
  {
   "cell_type": "code",
   "execution_count": null,
   "metadata": {},
   "outputs": [],
   "source": [
    "x,y = sym.symbols('x,y')\n",
    "\n",
    "equation = 1/4*x*y**2 - x*(5*x + 10*Y**2)**(3)\n",
    "display(equation)"
   ]
  }
 ],
 "metadata": {
  "kernelspec": {
   "display_name": "Python 3 (ipykernel)",
   "language": "python",
   "name": "python3"
  },
  "language_info": {
   "codemirror_mode": {
    "name": "ipython",
    "version": 3
   },
   "file_extension": ".py",
   "mimetype": "text/x-python",
   "name": "python",
   "nbconvert_exporter": "python",
   "pygments_lexer": "ipython3",
   "version": "3.9.7"
  }
 },
 "nbformat": 4,
 "nbformat_minor": 4
}
