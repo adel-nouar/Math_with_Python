{
 "cells": [
  {
   "cell_type": "markdown",
   "id": "5ea58858-2fda-4a1c-a13c-27b32b0af578",
   "metadata": {},
   "source": [
    "### Exercises\n",
    "* Implement these expressions in Python\n",
    "* Display and simplify $ f_1 \\times f_2 $\n",
    "* Show that the commutative property holds\n",
    "\n",
    "$ x = w\\cdot (4 - w) + \\frac{1}{w^2} \\cdot(1+w) $ <br>\n",
    "$ f_1 = x \\cdot (y + z) $ <br>\n",
    "\n",
    "$ f_2 = \\frac{3}{x} + x^2 $ <br>\n",
    "$ f_3 = f_1 \\times f_2 $ "
   ]
  },
  {
   "cell_type": "code",
   "execution_count": 1,
   "id": "89b3a7af-5a32-4adf-96dd-f3273674f67f",
   "metadata": {},
   "outputs": [],
   "source": [
    "import sympy as sym\n",
    "from IPython.display import display, Math"
   ]
  },
  {
   "cell_type": "code",
   "execution_count": 2,
   "id": "4e157ba8-5646-44c0-b5ee-e94d308a1cc1",
   "metadata": {},
   "outputs": [],
   "source": [
    "w, x, y, z = sym.symbols('w, x, y, z')"
   ]
  },
  {
   "cell_type": "code",
   "execution_count": 3,
   "id": "97a42787-0d32-4ee1-b078-7423cb1456d3",
   "metadata": {},
   "outputs": [
    {
     "data": {
      "text/latex": [
       "$\\displaystyle w \\left(4 - w\\right) + \\frac{w + 1}{w^{2}}$"
      ],
      "text/plain": [
       "<IPython.core.display.Math object>"
      ]
     },
     "metadata": {},
     "output_type": "display_data"
    },
    {
     "data": {
      "text/latex": [
       "$\\displaystyle \\frac{w^{3} \\left(4 - w\\right) + w + 1}{w^{2}}$"
      ],
      "text/plain": [
       "<IPython.core.display.Math object>"
      ]
     },
     "metadata": {},
     "output_type": "display_data"
    },
    {
     "data": {
      "text/latex": [
       "$\\displaystyle - w^{2} + 4 w + \\frac{1}{w} + \\frac{1}{w^{2}}$"
      ],
      "text/plain": [
       "<IPython.core.display.Math object>"
      ]
     },
     "metadata": {},
     "output_type": "display_data"
    }
   ],
   "source": [
    "x = w * (4 - w) + 1/(w**2) * (1 + w)\n",
    "display(Math(sym.latex(x)))\n",
    "display(Math(sym.latex(x.simplify())))\n",
    "display(Math(sym.latex(x.expand())))"
   ]
  },
  {
   "cell_type": "code",
   "execution_count": 4,
   "id": "343ffedd-ac5d-4087-ae87-41d93bd111d0",
   "metadata": {},
   "outputs": [
    {
     "data": {
      "text/latex": [
       "$\\displaystyle \\left(y + z\\right) \\left(w \\left(4 - w\\right) + \\frac{w + 1}{w^{2}}\\right)$"
      ],
      "text/plain": [
       "<IPython.core.display.Math object>"
      ]
     },
     "metadata": {},
     "output_type": "display_data"
    }
   ],
   "source": [
    "f1 = x * (y + z)\n",
    "display(Math(sym.latex(f1)))"
   ]
  },
  {
   "cell_type": "code",
   "execution_count": 5,
   "id": "a6fea646-f3e0-425f-a2d3-c14a646ec035",
   "metadata": {},
   "outputs": [
    {
     "data": {
      "text/latex": [
       "$\\displaystyle \\left(w \\left(4 - w\\right) + \\frac{w + 1}{w^{2}}\\right)^{2} + \\frac{3}{w \\left(4 - w\\right) + \\frac{w + 1}{w^{2}}}$"
      ],
      "text/plain": [
       "<IPython.core.display.Math object>"
      ]
     },
     "metadata": {},
     "output_type": "display_data"
    }
   ],
   "source": [
    "f2 = (3/x) + (x**2)\n",
    "display(Math(sym.latex(f2)))"
   ]
  },
  {
   "cell_type": "code",
   "execution_count": 6,
   "id": "ae37931d-b364-4cb8-b365-e6f25d6ba124",
   "metadata": {},
   "outputs": [
    {
     "data": {
      "text/latex": [
       "$\\displaystyle \\frac{\\left(3 w^{6} + \\left(- w^{3} \\left(w - 4\\right) + w + 1\\right)^{3}\\right) \\left(y + z\\right)}{w^{6}}$"
      ],
      "text/plain": [
       "<IPython.core.display.Math object>"
      ]
     },
     "metadata": {},
     "output_type": "display_data"
    }
   ],
   "source": [
    "expr1 = f1 * f2\n",
    "display(Math(sym.latex(expr1.simplify())))"
   ]
  },
  {
   "cell_type": "code",
   "execution_count": 7,
   "id": "a1409293-f500-435f-8f13-9d2bd72b627d",
   "metadata": {},
   "outputs": [
    {
     "data": {
      "text/latex": [
       "$\\displaystyle 0$"
      ],
      "text/plain": [
       "<IPython.core.display.Math object>"
      ]
     },
     "metadata": {},
     "output_type": "display_data"
    }
   ],
   "source": [
    "# Showing that commutative property holds\n",
    "expr2 = f2 * f1\n",
    "display(Math(sym.latex(sym.simplify(expr1 - expr2))))"
   ]
  },
  {
   "cell_type": "code",
   "execution_count": 8,
   "id": "fd6c9122-fa84-476b-b0d6-3f52a25c0f41",
   "metadata": {},
   "outputs": [],
   "source": [
    "f3 = f1 * f2"
   ]
  },
  {
   "cell_type": "code",
   "execution_count": 9,
   "id": "ebed2ce6-b27b-436b-9222-05edbbec5a8b",
   "metadata": {},
   "outputs": [
    {
     "data": {
      "text/plain": [
       "\"Affichage de l'expression\""
      ]
     },
     "metadata": {},
     "output_type": "display_data"
    },
    {
     "data": {
      "text/latex": [
       "$\\displaystyle \\left(y + z\\right) \\left(w \\left(4 - w\\right) + \\frac{w + 1}{w^{2}}\\right) \\left(\\left(w \\left(4 - w\\right) + \\frac{w + 1}{w^{2}}\\right)^{2} + \\frac{3}{w \\left(4 - w\\right) + \\frac{w + 1}{w^{2}}}\\right)$"
      ],
      "text/plain": [
       "<IPython.core.display.Math object>"
      ]
     },
     "metadata": {},
     "output_type": "display_data"
    }
   ],
   "source": [
    "display(\"Affichage de l'expression\")\n",
    "display(Math(sym.latex(f3)))"
   ]
  },
  {
   "cell_type": "code",
   "execution_count": 10,
   "id": "2d6cec91-7301-42eb-a4f9-657313a236b3",
   "metadata": {},
   "outputs": [
    {
     "data": {
      "text/plain": [
       "\"Simplification de l'expression\""
      ]
     },
     "metadata": {},
     "output_type": "display_data"
    },
    {
     "data": {
      "text/latex": [
       "$\\displaystyle \\frac{\\left(3 w^{6} + \\left(- w^{3} \\left(w - 4\\right) + w + 1\\right)^{3}\\right) \\left(y + z\\right)}{w^{6}}$"
      ],
      "text/plain": [
       "<IPython.core.display.Math object>"
      ]
     },
     "metadata": {},
     "output_type": "display_data"
    }
   ],
   "source": [
    "display(\"Simplification de l'expression\")\n",
    "display(Math(sym.latex(f3.simplify())))"
   ]
  },
  {
   "cell_type": "code",
   "execution_count": 12,
   "id": "105dd624-2503-483b-a27e-fec5664be080",
   "metadata": {},
   "outputs": [
    {
     "data": {
      "text/plain": [
       "\"'Distribuer' l'expression\""
      ]
     },
     "metadata": {},
     "output_type": "display_data"
    },
    {
     "data": {
      "text/latex": [
       "$\\displaystyle - w^{6} y - w^{6} z + 12 w^{5} y + 12 w^{5} z - 48 w^{4} y - 48 w^{4} z + 67 w^{3} y + 67 w^{3} z - 21 w^{2} y - \\frac{3 w^{2} y}{- w^{2} + 4 w + \\frac{1}{w} + \\frac{1}{w^{2}}} - 21 w^{2} z - \\frac{3 w^{2} z}{- w^{2} + 4 w + \\frac{1}{w} + \\frac{1}{w^{2}}} + 24 w y + \\frac{12 w y}{- w^{2} + 4 w + \\frac{1}{w} + \\frac{1}{w^{2}}} + 24 w z + \\frac{12 w z}{- w^{2} + 4 w + \\frac{1}{w} + \\frac{1}{w^{2}}} + 45 y + \\frac{3 y}{- w^{4} + 4 w^{3} + w + 1} + \\frac{3 y}{- w^{3} + 4 w^{2} + 1 + \\frac{1}{w}} + 45 z + \\frac{3 z}{- w^{4} + 4 w^{3} + w + 1} + \\frac{3 z}{- w^{3} + 4 w^{2} + 1 + \\frac{1}{w}} + \\frac{6 y}{w} + \\frac{6 z}{w} + \\frac{21 y}{w^{2}} + \\frac{21 z}{w^{2}} + \\frac{13 y}{w^{3}} + \\frac{13 z}{w^{3}} + \\frac{3 y}{w^{4}} + \\frac{3 z}{w^{4}} + \\frac{3 y}{w^{5}} + \\frac{3 z}{w^{5}} + \\frac{y}{w^{6}} + \\frac{z}{w^{6}}$"
      ],
      "text/plain": [
       "<IPython.core.display.Math object>"
      ]
     },
     "metadata": {},
     "output_type": "display_data"
    }
   ],
   "source": [
    "display(\"'Distribuer' l'expression\")\n",
    "display(Math(sym.latex(f3.expand())))"
   ]
  },
  {
   "cell_type": "code",
   "execution_count": null,
   "id": "266e93e5-6944-47fb-b6dc-cf13d9d86365",
   "metadata": {},
   "outputs": [],
   "source": []
  }
 ],
 "metadata": {
  "kernelspec": {
   "display_name": "Python 3 (ipykernel)",
   "language": "python",
   "name": "python3"
  },
  "language_info": {
   "codemirror_mode": {
    "name": "ipython",
    "version": 3
   },
   "file_extension": ".py",
   "mimetype": "text/x-python",
   "name": "python",
   "nbconvert_exporter": "python",
   "pygments_lexer": "ipython3",
   "version": "3.9.7"
  }
 },
 "nbformat": 4,
 "nbformat_minor": 5
}
