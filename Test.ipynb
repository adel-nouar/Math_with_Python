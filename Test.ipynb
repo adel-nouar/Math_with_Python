{
  "nbformat": 4,
  "nbformat_minor": 5,
  "metadata": {
    "kernelspec": {
      "display_name": "Python 3 (ipykernel)",
      "language": "python",
      "name": "python3"
    },
    "language_info": {
      "codemirror_mode": {
        "name": "ipython",
        "version": 3
      },
      "file_extension": ".py",
      "mimetype": "text/x-python",
      "name": "python",
      "nbconvert_exporter": "python",
      "pygments_lexer": "ipython3",
      "version": "3.9.7"
    },
    "colab": {
      "name": "Test.ipynb",
      "provenance": [],
      "include_colab_link": true
    }
  },
  "cells": [
    {
      "cell_type": "markdown",
      "metadata": {
        "id": "view-in-github",
        "colab_type": "text"
      },
      "source": [
        "<a href=\"https://colab.research.google.com/github/adel-nouar/Math_with_Python/blob/main/Test.ipynb\" target=\"_parent\"><img src=\"https://colab.research.google.com/assets/colab-badge.svg\" alt=\"Open In Colab\"/></a>"
      ]
    },
    {
      "cell_type": "markdown",
      "metadata": {
        "id": "5ea58858-2fda-4a1c-a13c-27b32b0af578"
      },
      "source": [
        "### Exercises\n",
        "* Implement these expressions in Python\n",
        "* Display and simplify $ f_1 \\times f_2 $\n",
        "* Show that the commutative property holds\n",
        "\n",
        "$ x = w\\cdot (4 - w) + \\frac{1}{w^2} \\cdot(1+w) $ <br>\n",
        "$ f_1 = x \\cdot (y + z) $ <br>\n",
        "\n",
        "$ f_2 = \\frac{3}{x} + x^2 $ <br>\n",
        "$ f_3 = f_1 \\times f_2 $ "
      ],
      "id": "5ea58858-2fda-4a1c-a13c-27b32b0af578"
    },
    {
      "cell_type": "code",
      "metadata": {
        "id": "89b3a7af-5a32-4adf-96dd-f3273674f67f"
      },
      "source": [
        "import sympy as sym\n",
        "from IPython.display import display, Math"
      ],
      "id": "89b3a7af-5a32-4adf-96dd-f3273674f67f",
      "execution_count": 1,
      "outputs": []
    },
    {
      "cell_type": "code",
      "metadata": {
        "id": "4e157ba8-5646-44c0-b5ee-e94d308a1cc1"
      },
      "source": [
        "w, x, y, z = sym.symbols('w, x, y, z')"
      ],
      "id": "4e157ba8-5646-44c0-b5ee-e94d308a1cc1",
      "execution_count": 2,
      "outputs": []
    },
    {
      "cell_type": "code",
      "metadata": {
        "id": "97a42787-0d32-4ee1-b078-7423cb1456d3",
        "outputId": "920c31ed-8856-4ba0-bd26-bc5be746ecc0",
        "colab": {
          "base_uri": "https://localhost:8080/",
          "height": 84
        }
      },
      "source": [
        "x = w * (4 - w) + 1/(w**2) * (1 + w)\n",
        "display(Math(sym.latex(x)))\n",
        "display(Math(sym.latex(x.simplify())))\n",
        "display(Math(sym.latex(x.expand())))"
      ],
      "id": "97a42787-0d32-4ee1-b078-7423cb1456d3",
      "execution_count": 3,
      "outputs": [
        {
          "output_type": "display_data",
          "data": {
            "text/latex": "$$w \\left(4 - w\\right) + \\frac{w + 1}{w^{2}}$$",
            "text/plain": [
              "<IPython.core.display.Math object>"
            ]
          },
          "metadata": {}
        },
        {
          "output_type": "display_data",
          "data": {
            "text/latex": "$$\\frac{w^{3} \\left(4 - w\\right) + w + 1}{w^{2}}$$",
            "text/plain": [
              "<IPython.core.display.Math object>"
            ]
          },
          "metadata": {}
        },
        {
          "output_type": "display_data",
          "data": {
            "text/latex": "$$- w^{2} + 4 w + \\frac{1}{w} + \\frac{1}{w^{2}}$$",
            "text/plain": [
              "<IPython.core.display.Math object>"
            ]
          },
          "metadata": {}
        }
      ]
    },
    {
      "cell_type": "code",
      "metadata": {
        "id": "343ffedd-ac5d-4087-ae87-41d93bd111d0",
        "outputId": "84143e99-51b5-493a-9185-f9b116381ad6",
        "colab": {
          "base_uri": "https://localhost:8080/",
          "height": 38
        }
      },
      "source": [
        "f1 = x * (y + z)\n",
        "display(Math(sym.latex(f1)))"
      ],
      "id": "343ffedd-ac5d-4087-ae87-41d93bd111d0",
      "execution_count": 4,
      "outputs": [
        {
          "output_type": "display_data",
          "data": {
            "text/latex": "$$\\left(y + z\\right) \\left(w \\left(4 - w\\right) + \\frac{w + 1}{w^{2}}\\right)$$",
            "text/plain": [
              "<IPython.core.display.Math object>"
            ]
          },
          "metadata": {}
        }
      ]
    },
    {
      "cell_type": "code",
      "metadata": {
        "id": "a6fea646-f3e0-425f-a2d3-c14a646ec035",
        "outputId": "43a23da4-dc6e-4336-bfed-54575755373b",
        "colab": {
          "base_uri": "https://localhost:8080/",
          "height": 48
        }
      },
      "source": [
        "f2 = (3/x) + (x**2)\n",
        "display(Math(sym.latex(f2)))"
      ],
      "id": "a6fea646-f3e0-425f-a2d3-c14a646ec035",
      "execution_count": 5,
      "outputs": [
        {
          "output_type": "display_data",
          "data": {
            "text/latex": "$$\\left(w \\left(4 - w\\right) + \\frac{w + 1}{w^{2}}\\right)^{2} + \\frac{3}{w \\left(4 - w\\right) + \\frac{w + 1}{w^{2}}}$$",
            "text/plain": [
              "<IPython.core.display.Math object>"
            ]
          },
          "metadata": {}
        }
      ]
    },
    {
      "cell_type": "code",
      "metadata": {
        "id": "ae37931d-b364-4cb8-b365-e6f25d6ba124",
        "outputId": "88a6e111-8fe8-47d5-c993-7199c42e7d0b",
        "colab": {
          "base_uri": "https://localhost:8080/",
          "height": 48
        }
      },
      "source": [
        "expr1 = f1 * f2\n",
        "display(Math(sym.latex(expr1.simplify())))"
      ],
      "id": "ae37931d-b364-4cb8-b365-e6f25d6ba124",
      "execution_count": 6,
      "outputs": [
        {
          "output_type": "display_data",
          "data": {
            "text/latex": "$$\\frac{\\left(3 w^{6} + \\left(- w^{3} \\left(w - 4\\right) + w + 1\\right)^{3}\\right) \\left(y + z\\right)}{w^{6}}$$",
            "text/plain": [
              "<IPython.core.display.Math object>"
            ]
          },
          "metadata": {}
        }
      ]
    },
    {
      "cell_type": "code",
      "metadata": {
        "id": "a1409293-f500-435f-8f13-9d2bd72b627d",
        "outputId": "b55d1c0d-7896-4b5a-e024-86daccc11dba",
        "colab": {
          "base_uri": "https://localhost:8080/",
          "height": 37
        }
      },
      "source": [
        "# Showing that commutative property holds\n",
        "expr2 = f2 * f1\n",
        "display(Math(sym.latex(sym.simplify(expr1 - expr2))))"
      ],
      "id": "a1409293-f500-435f-8f13-9d2bd72b627d",
      "execution_count": 7,
      "outputs": [
        {
          "output_type": "display_data",
          "data": {
            "text/latex": "$$0$$",
            "text/plain": [
              "<IPython.core.display.Math object>"
            ]
          },
          "metadata": {}
        }
      ]
    },
    {
      "cell_type": "code",
      "metadata": {
        "id": "fd6c9122-fa84-476b-b0d6-3f52a25c0f41"
      },
      "source": [
        "f3 = f1 * f2"
      ],
      "id": "fd6c9122-fa84-476b-b0d6-3f52a25c0f41",
      "execution_count": 8,
      "outputs": []
    },
    {
      "cell_type": "code",
      "metadata": {
        "id": "ebed2ce6-b27b-436b-9222-05edbbec5a8b",
        "outputId": "4e5998cc-ed55-4d6d-dfa3-2121242200ff",
        "colab": {
          "base_uri": "https://localhost:8080/",
          "height": 67
        }
      },
      "source": [
        "display(\"Affichage de l'expression\")\n",
        "display(Math(sym.latex(f3)))"
      ],
      "id": "ebed2ce6-b27b-436b-9222-05edbbec5a8b",
      "execution_count": 9,
      "outputs": [
        {
          "output_type": "display_data",
          "data": {
            "application/vnd.google.colaboratory.intrinsic+json": {
              "type": "string"
            },
            "text/plain": [
              "\"Affichage de l'expression\""
            ]
          },
          "metadata": {}
        },
        {
          "output_type": "display_data",
          "data": {
            "text/latex": "$$\\left(y + z\\right) \\left(w \\left(4 - w\\right) + \\frac{w + 1}{w^{2}}\\right) \\left(\\left(w \\left(4 - w\\right) + \\frac{w + 1}{w^{2}}\\right)^{2} + \\frac{3}{w \\left(4 - w\\right) + \\frac{w + 1}{w^{2}}}\\right)$$",
            "text/plain": [
              "<IPython.core.display.Math object>"
            ]
          },
          "metadata": {}
        }
      ]
    },
    {
      "cell_type": "code",
      "metadata": {
        "id": "2d6cec91-7301-42eb-a4f9-657313a236b3",
        "outputId": "68b8df4e-88a7-4f84-bde8-8a5624391b85",
        "colab": {
          "base_uri": "https://localhost:8080/",
          "height": 66
        }
      },
      "source": [
        "display(\"Simplification de l'expression\")\n",
        "display(Math(sym.latex(f3.simplify())))"
      ],
      "id": "2d6cec91-7301-42eb-a4f9-657313a236b3",
      "execution_count": 10,
      "outputs": [
        {
          "output_type": "display_data",
          "data": {
            "application/vnd.google.colaboratory.intrinsic+json": {
              "type": "string"
            },
            "text/plain": [
              "\"Simplification de l'expression\""
            ]
          },
          "metadata": {}
        },
        {
          "output_type": "display_data",
          "data": {
            "text/latex": "$$\\frac{\\left(3 w^{6} + \\left(- w^{3} \\left(w - 4\\right) + w + 1\\right)^{3}\\right) \\left(y + z\\right)}{w^{6}}$$",
            "text/plain": [
              "<IPython.core.display.Math object>"
            ]
          },
          "metadata": {}
        }
      ]
    },
    {
      "cell_type": "code",
      "metadata": {
        "id": "105dd624-2503-483b-a27e-fec5664be080",
        "outputId": "0db4c704-fe65-41cc-fd8e-95197a6afa7f",
        "colab": {
          "base_uri": "https://localhost:8080/",
          "height": 115
        }
      },
      "source": [
        "display(\"'Distribuer' l'expression\")\n",
        "display(Math(sym.latex(f3.expand())))"
      ],
      "id": "105dd624-2503-483b-a27e-fec5664be080",
      "execution_count": 11,
      "outputs": [
        {
          "output_type": "display_data",
          "data": {
            "application/vnd.google.colaboratory.intrinsic+json": {
              "type": "string"
            },
            "text/plain": [
              "\"'Distribuer' l'expression\""
            ]
          },
          "metadata": {}
        },
        {
          "output_type": "display_data",
          "data": {
            "text/latex": "$$- w^{6} y - w^{6} z + 12 w^{5} y + 12 w^{5} z - 48 w^{4} y - 48 w^{4} z + 67 w^{3} y + 67 w^{3} z - 21 w^{2} y - \\frac{3 w^{2} y}{- w^{2} + 4 w + \\frac{1}{w} + \\frac{1}{w^{2}}} - 21 w^{2} z - \\frac{3 w^{2} z}{- w^{2} + 4 w + \\frac{1}{w} + \\frac{1}{w^{2}}} + 24 w y + \\frac{12 w y}{- w^{2} + 4 w + \\frac{1}{w} + \\frac{1}{w^{2}}} + 24 w z + \\frac{12 w z}{- w^{2} + 4 w + \\frac{1}{w} + \\frac{1}{w^{2}}} + 45 y + \\frac{3 y}{- w^{4} + 4 w^{3} + w + 1} + \\frac{3 y}{- w^{3} + 4 w^{2} + 1 + \\frac{1}{w}} + 45 z + \\frac{3 z}{- w^{4} + 4 w^{3} + w + 1} + \\frac{3 z}{- w^{3} + 4 w^{2} + 1 + \\frac{1}{w}} + \\frac{6 y}{w} + \\frac{6 z}{w} + \\frac{21 y}{w^{2}} + \\frac{21 z}{w^{2}} + \\frac{13 y}{w^{3}} + \\frac{13 z}{w^{3}} + \\frac{3 y}{w^{4}} + \\frac{3 z}{w^{4}} + \\frac{3 y}{w^{5}} + \\frac{3 z}{w^{5}} + \\frac{y}{w^{6}} + \\frac{z}{w^{6}}$$",
            "text/plain": [
              "<IPython.core.display.Math object>"
            ]
          },
          "metadata": {}
        }
      ]
    }
  ]
}